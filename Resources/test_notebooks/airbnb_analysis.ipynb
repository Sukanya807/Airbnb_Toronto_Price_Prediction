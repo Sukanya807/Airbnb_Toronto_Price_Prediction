{
 "cells": [
  {
   "cell_type": "code",
   "execution_count": 1,
   "id": "ee576f1d",
   "metadata": {},
   "outputs": [
    {
     "name": "stdout",
     "output_type": "stream",
     "text": [
      "(15171, 74)\n"
     ]
    },
    {
     "data": {
      "text/html": [
       "<div>\n",
       "<style scoped>\n",
       "    .dataframe tbody tr th:only-of-type {\n",
       "        vertical-align: middle;\n",
       "    }\n",
       "\n",
       "    .dataframe tbody tr th {\n",
       "        vertical-align: top;\n",
       "    }\n",
       "\n",
       "    .dataframe thead th {\n",
       "        text-align: right;\n",
       "    }\n",
       "</style>\n",
       "<table border=\"1\" class=\"dataframe\">\n",
       "  <thead>\n",
       "    <tr style=\"text-align: right;\">\n",
       "      <th></th>\n",
       "      <th>id</th>\n",
       "      <th>listing_url</th>\n",
       "      <th>scrape_id</th>\n",
       "      <th>last_scraped</th>\n",
       "      <th>name</th>\n",
       "      <th>description</th>\n",
       "      <th>neighborhood_overview</th>\n",
       "      <th>picture_url</th>\n",
       "      <th>host_id</th>\n",
       "      <th>host_url</th>\n",
       "      <th>...</th>\n",
       "      <th>review_scores_communication</th>\n",
       "      <th>review_scores_location</th>\n",
       "      <th>review_scores_value</th>\n",
       "      <th>license</th>\n",
       "      <th>instant_bookable</th>\n",
       "      <th>calculated_host_listings_count</th>\n",
       "      <th>calculated_host_listings_count_entire_homes</th>\n",
       "      <th>calculated_host_listings_count_private_rooms</th>\n",
       "      <th>calculated_host_listings_count_shared_rooms</th>\n",
       "      <th>reviews_per_month</th>\n",
       "    </tr>\n",
       "  </thead>\n",
       "  <tbody>\n",
       "    <tr>\n",
       "      <th>0</th>\n",
       "      <td>1419</td>\n",
       "      <td>https://www.airbnb.com/rooms/1419</td>\n",
       "      <td>20220605131750</td>\n",
       "      <td>2022-06-06</td>\n",
       "      <td>Beautiful home in amazing area!</td>\n",
       "      <td>This large, family home is located in one of T...</td>\n",
       "      <td>The apartment is located in the Ossington stri...</td>\n",
       "      <td>https://a0.muscache.com/pictures/76206750/d643...</td>\n",
       "      <td>1565</td>\n",
       "      <td>https://www.airbnb.com/users/show/1565</td>\n",
       "      <td>...</td>\n",
       "      <td>5.00</td>\n",
       "      <td>5.00</td>\n",
       "      <td>5.00</td>\n",
       "      <td>NaN</td>\n",
       "      <td>f</td>\n",
       "      <td>1</td>\n",
       "      <td>1</td>\n",
       "      <td>0</td>\n",
       "      <td>0</td>\n",
       "      <td>0.08</td>\n",
       "    </tr>\n",
       "    <tr>\n",
       "      <th>1</th>\n",
       "      <td>8077</td>\n",
       "      <td>https://www.airbnb.com/rooms/8077</td>\n",
       "      <td>20220605131750</td>\n",
       "      <td>2022-06-05</td>\n",
       "      <td>Downtown Harbourfront Private Room</td>\n",
       "      <td>Guest room in a luxury condo with access to al...</td>\n",
       "      <td>NaN</td>\n",
       "      <td>https://a0.muscache.com/pictures/11780344/141c...</td>\n",
       "      <td>22795</td>\n",
       "      <td>https://www.airbnb.com/users/show/22795</td>\n",
       "      <td>...</td>\n",
       "      <td>4.90</td>\n",
       "      <td>4.92</td>\n",
       "      <td>4.83</td>\n",
       "      <td>NaN</td>\n",
       "      <td>t</td>\n",
       "      <td>2</td>\n",
       "      <td>1</td>\n",
       "      <td>1</td>\n",
       "      <td>0</td>\n",
       "      <td>1.08</td>\n",
       "    </tr>\n",
       "    <tr>\n",
       "      <th>2</th>\n",
       "      <td>27423</td>\n",
       "      <td>https://www.airbnb.com/rooms/27423</td>\n",
       "      <td>20220605131750</td>\n",
       "      <td>2022-06-05</td>\n",
       "      <td>Executive Studio Unit- Ideal for One Person</td>\n",
       "      <td>Brand new, fully furnished studio basement apa...</td>\n",
       "      <td>NaN</td>\n",
       "      <td>https://a0.muscache.com/pictures/176936/b687ed...</td>\n",
       "      <td>118124</td>\n",
       "      <td>https://www.airbnb.com/users/show/118124</td>\n",
       "      <td>...</td>\n",
       "      <td>5.00</td>\n",
       "      <td>4.82</td>\n",
       "      <td>4.82</td>\n",
       "      <td>NaN</td>\n",
       "      <td>f</td>\n",
       "      <td>1</td>\n",
       "      <td>1</td>\n",
       "      <td>0</td>\n",
       "      <td>0</td>\n",
       "      <td>0.18</td>\n",
       "    </tr>\n",
       "    <tr>\n",
       "      <th>3</th>\n",
       "      <td>30931</td>\n",
       "      <td>https://www.airbnb.com/rooms/30931</td>\n",
       "      <td>20220605131750</td>\n",
       "      <td>2022-06-05</td>\n",
       "      <td>Downtown Toronto - Waterview Condo</td>\n",
       "      <td>Split level waterfront condo with a breathtaki...</td>\n",
       "      <td>NaN</td>\n",
       "      <td>https://a0.muscache.com/pictures/227971/e8ebd7...</td>\n",
       "      <td>22795</td>\n",
       "      <td>https://www.airbnb.com/users/show/22795</td>\n",
       "      <td>...</td>\n",
       "      <td>NaN</td>\n",
       "      <td>NaN</td>\n",
       "      <td>NaN</td>\n",
       "      <td>NaN</td>\n",
       "      <td>f</td>\n",
       "      <td>2</td>\n",
       "      <td>1</td>\n",
       "      <td>1</td>\n",
       "      <td>0</td>\n",
       "      <td>0.01</td>\n",
       "    </tr>\n",
       "    <tr>\n",
       "      <th>4</th>\n",
       "      <td>40456</td>\n",
       "      <td>https://www.airbnb.com/rooms/40456</td>\n",
       "      <td>20220605131750</td>\n",
       "      <td>2022-06-05</td>\n",
       "      <td>Downtown- King Size Bed and Parking</td>\n",
       "      <td>---------------------Renovated  and Newly Furn...</td>\n",
       "      <td>This is Nice Neighborhood located in Downtown ...</td>\n",
       "      <td>https://a0.muscache.com/pictures/b36b6ae3-20aa...</td>\n",
       "      <td>174063</td>\n",
       "      <td>https://www.airbnb.com/users/show/174063</td>\n",
       "      <td>...</td>\n",
       "      <td>4.96</td>\n",
       "      <td>4.57</td>\n",
       "      <td>4.68</td>\n",
       "      <td>NaN</td>\n",
       "      <td>f</td>\n",
       "      <td>4</td>\n",
       "      <td>4</td>\n",
       "      <td>0</td>\n",
       "      <td>0</td>\n",
       "      <td>0.79</td>\n",
       "    </tr>\n",
       "  </tbody>\n",
       "</table>\n",
       "<p>5 rows × 74 columns</p>\n",
       "</div>"
      ],
      "text/plain": [
       "      id                         listing_url       scrape_id last_scraped  \\\n",
       "0   1419   https://www.airbnb.com/rooms/1419  20220605131750   2022-06-06   \n",
       "1   8077   https://www.airbnb.com/rooms/8077  20220605131750   2022-06-05   \n",
       "2  27423  https://www.airbnb.com/rooms/27423  20220605131750   2022-06-05   \n",
       "3  30931  https://www.airbnb.com/rooms/30931  20220605131750   2022-06-05   \n",
       "4  40456  https://www.airbnb.com/rooms/40456  20220605131750   2022-06-05   \n",
       "\n",
       "                                          name  \\\n",
       "0              Beautiful home in amazing area!   \n",
       "1           Downtown Harbourfront Private Room   \n",
       "2  Executive Studio Unit- Ideal for One Person   \n",
       "3           Downtown Toronto - Waterview Condo   \n",
       "4          Downtown- King Size Bed and Parking   \n",
       "\n",
       "                                         description  \\\n",
       "0  This large, family home is located in one of T...   \n",
       "1  Guest room in a luxury condo with access to al...   \n",
       "2  Brand new, fully furnished studio basement apa...   \n",
       "3  Split level waterfront condo with a breathtaki...   \n",
       "4  ---------------------Renovated  and Newly Furn...   \n",
       "\n",
       "                               neighborhood_overview  \\\n",
       "0  The apartment is located in the Ossington stri...   \n",
       "1                                                NaN   \n",
       "2                                                NaN   \n",
       "3                                                NaN   \n",
       "4  This is Nice Neighborhood located in Downtown ...   \n",
       "\n",
       "                                         picture_url  host_id  \\\n",
       "0  https://a0.muscache.com/pictures/76206750/d643...     1565   \n",
       "1  https://a0.muscache.com/pictures/11780344/141c...    22795   \n",
       "2  https://a0.muscache.com/pictures/176936/b687ed...   118124   \n",
       "3  https://a0.muscache.com/pictures/227971/e8ebd7...    22795   \n",
       "4  https://a0.muscache.com/pictures/b36b6ae3-20aa...   174063   \n",
       "\n",
       "                                   host_url  ... review_scores_communication  \\\n",
       "0    https://www.airbnb.com/users/show/1565  ...                        5.00   \n",
       "1   https://www.airbnb.com/users/show/22795  ...                        4.90   \n",
       "2  https://www.airbnb.com/users/show/118124  ...                        5.00   \n",
       "3   https://www.airbnb.com/users/show/22795  ...                         NaN   \n",
       "4  https://www.airbnb.com/users/show/174063  ...                        4.96   \n",
       "\n",
       "  review_scores_location review_scores_value license instant_bookable  \\\n",
       "0                   5.00                5.00     NaN                f   \n",
       "1                   4.92                4.83     NaN                t   \n",
       "2                   4.82                4.82     NaN                f   \n",
       "3                    NaN                 NaN     NaN                f   \n",
       "4                   4.57                4.68     NaN                f   \n",
       "\n",
       "  calculated_host_listings_count calculated_host_listings_count_entire_homes  \\\n",
       "0                              1                                           1   \n",
       "1                              2                                           1   \n",
       "2                              1                                           1   \n",
       "3                              2                                           1   \n",
       "4                              4                                           4   \n",
       "\n",
       "  calculated_host_listings_count_private_rooms  \\\n",
       "0                                            0   \n",
       "1                                            1   \n",
       "2                                            0   \n",
       "3                                            1   \n",
       "4                                            0   \n",
       "\n",
       "  calculated_host_listings_count_shared_rooms reviews_per_month  \n",
       "0                                           0              0.08  \n",
       "1                                           0              1.08  \n",
       "2                                           0              0.18  \n",
       "3                                           0              0.01  \n",
       "4                                           0              0.79  \n",
       "\n",
       "[5 rows x 74 columns]"
      ]
     },
     "execution_count": 1,
     "metadata": {},
     "output_type": "execute_result"
    }
   ],
   "source": [
    "# Import dependencies\n",
    "%matplotlib inline\n",
    "import pandas as pd\n",
    "import numpy as np\n",
    "import matplotlib.pyplot as plt\n",
    "import seaborn as sns\n",
    "import plotly.express as px\n",
    "from datetime import datetime\n",
    "\n",
    "# Read the file\n",
    "file_to_read=\"Resources/data/listings.csv.gz\"\n",
    "data_df=pd.read_csv(file_to_read)\n",
    "print(data_df.shape)\n",
    "data_df.head()"
   ]
  },
  {
   "cell_type": "markdown",
   "id": "15acd4c3",
   "metadata": {},
   "source": [
    "## Data Cleansing and Transformation"
   ]
  },
  {
   "cell_type": "code",
   "execution_count": 2,
   "id": "116e0702",
   "metadata": {},
   "outputs": [
    {
     "data": {
      "text/plain": [
       "Index(['id', 'listing_url', 'scrape_id', 'last_scraped', 'name', 'description',\n",
       "       'neighborhood_overview', 'picture_url', 'host_id', 'host_url',\n",
       "       'host_name', 'host_since', 'host_location', 'host_about',\n",
       "       'host_response_time', 'host_response_rate', 'host_acceptance_rate',\n",
       "       'host_is_superhost', 'host_thumbnail_url', 'host_picture_url',\n",
       "       'host_neighbourhood', 'host_listings_count',\n",
       "       'host_total_listings_count', 'host_verifications',\n",
       "       'host_has_profile_pic', 'host_identity_verified', 'neighbourhood',\n",
       "       'neighbourhood_cleansed', 'neighbourhood_group_cleansed', 'latitude',\n",
       "       'longitude', 'property_type', 'room_type', 'accommodates', 'bathrooms',\n",
       "       'bathrooms_text', 'bedrooms', 'beds', 'amenities', 'price',\n",
       "       'minimum_nights', 'maximum_nights', 'minimum_minimum_nights',\n",
       "       'maximum_minimum_nights', 'minimum_maximum_nights',\n",
       "       'maximum_maximum_nights', 'minimum_nights_avg_ntm',\n",
       "       'maximum_nights_avg_ntm', 'calendar_updated', 'has_availability',\n",
       "       'availability_30', 'availability_60', 'availability_90',\n",
       "       'availability_365', 'calendar_last_scraped', 'number_of_reviews',\n",
       "       'number_of_reviews_ltm', 'number_of_reviews_l30d', 'first_review',\n",
       "       'last_review', 'review_scores_rating', 'review_scores_accuracy',\n",
       "       'review_scores_cleanliness', 'review_scores_checkin',\n",
       "       'review_scores_communication', 'review_scores_location',\n",
       "       'review_scores_value', 'license', 'instant_bookable',\n",
       "       'calculated_host_listings_count',\n",
       "       'calculated_host_listings_count_entire_homes',\n",
       "       'calculated_host_listings_count_private_rooms',\n",
       "       'calculated_host_listings_count_shared_rooms', 'reviews_per_month'],\n",
       "      dtype='object')"
      ]
     },
     "execution_count": 2,
     "metadata": {},
     "output_type": "execute_result"
    }
   ],
   "source": [
    "#Check the columns in the dataset\n",
    "data_df.columns"
   ]
  },
  {
   "cell_type": "markdown",
   "id": "3e9f5932",
   "metadata": {},
   "source": [
    "#### Dropping Columns\n",
    "\n",
    "The aim of this project is to predict AirBnB prices. Natural Language Processing will not be used in the creation of this model. Therefore, columns that are not useful for predicting prices will be dropped."
   ]
  },
  {
   "cell_type": "code",
   "execution_count": 3,
   "id": "97bdd22d",
   "metadata": {},
   "outputs": [
    {
     "data": {
      "text/html": [
       "<div>\n",
       "<style scoped>\n",
       "    .dataframe tbody tr th:only-of-type {\n",
       "        vertical-align: middle;\n",
       "    }\n",
       "\n",
       "    .dataframe tbody tr th {\n",
       "        vertical-align: top;\n",
       "    }\n",
       "\n",
       "    .dataframe thead th {\n",
       "        text-align: right;\n",
       "    }\n",
       "</style>\n",
       "<table border=\"1\" class=\"dataframe\">\n",
       "  <thead>\n",
       "    <tr style=\"text-align: right;\">\n",
       "      <th></th>\n",
       "      <th>id</th>\n",
       "      <th>name</th>\n",
       "      <th>host_since</th>\n",
       "      <th>host_response_time</th>\n",
       "      <th>host_response_rate</th>\n",
       "      <th>host_is_superhost</th>\n",
       "      <th>host_listings_count</th>\n",
       "      <th>host_identity_verified</th>\n",
       "      <th>neighbourhood_cleansed</th>\n",
       "      <th>latitude</th>\n",
       "      <th>...</th>\n",
       "      <th>first_review</th>\n",
       "      <th>last_review</th>\n",
       "      <th>review_scores_rating</th>\n",
       "      <th>review_scores_accuracy</th>\n",
       "      <th>review_scores_cleanliness</th>\n",
       "      <th>review_scores_checkin</th>\n",
       "      <th>review_scores_communication</th>\n",
       "      <th>review_scores_location</th>\n",
       "      <th>review_scores_value</th>\n",
       "      <th>instant_bookable</th>\n",
       "    </tr>\n",
       "  </thead>\n",
       "  <tbody>\n",
       "    <tr>\n",
       "      <th>0</th>\n",
       "      <td>1419</td>\n",
       "      <td>Beautiful home in amazing area!</td>\n",
       "      <td>2008-08-08</td>\n",
       "      <td>NaN</td>\n",
       "      <td>NaN</td>\n",
       "      <td>f</td>\n",
       "      <td>1.0</td>\n",
       "      <td>t</td>\n",
       "      <td>Little Portugal</td>\n",
       "      <td>43.64590</td>\n",
       "      <td>...</td>\n",
       "      <td>2015-07-19</td>\n",
       "      <td>2017-12-04</td>\n",
       "      <td>5.00</td>\n",
       "      <td>5.00</td>\n",
       "      <td>5.00</td>\n",
       "      <td>5.00</td>\n",
       "      <td>5.00</td>\n",
       "      <td>5.00</td>\n",
       "      <td>5.00</td>\n",
       "      <td>f</td>\n",
       "    </tr>\n",
       "    <tr>\n",
       "      <th>1</th>\n",
       "      <td>8077</td>\n",
       "      <td>Downtown Harbourfront Private Room</td>\n",
       "      <td>2009-06-22</td>\n",
       "      <td>NaN</td>\n",
       "      <td>NaN</td>\n",
       "      <td>f</td>\n",
       "      <td>2.0</td>\n",
       "      <td>f</td>\n",
       "      <td>Waterfront Communities-The Island</td>\n",
       "      <td>43.64080</td>\n",
       "      <td>...</td>\n",
       "      <td>2009-08-20</td>\n",
       "      <td>2013-08-27</td>\n",
       "      <td>4.84</td>\n",
       "      <td>4.81</td>\n",
       "      <td>4.89</td>\n",
       "      <td>4.87</td>\n",
       "      <td>4.90</td>\n",
       "      <td>4.92</td>\n",
       "      <td>4.83</td>\n",
       "      <td>t</td>\n",
       "    </tr>\n",
       "    <tr>\n",
       "      <th>2</th>\n",
       "      <td>27423</td>\n",
       "      <td>Executive Studio Unit- Ideal for One Person</td>\n",
       "      <td>2010-05-04</td>\n",
       "      <td>within a few hours</td>\n",
       "      <td>100%</td>\n",
       "      <td>f</td>\n",
       "      <td>1.0</td>\n",
       "      <td>t</td>\n",
       "      <td>South Riverdale</td>\n",
       "      <td>43.66884</td>\n",
       "      <td>...</td>\n",
       "      <td>2010-06-07</td>\n",
       "      <td>2011-08-30</td>\n",
       "      <td>4.92</td>\n",
       "      <td>5.00</td>\n",
       "      <td>4.82</td>\n",
       "      <td>5.00</td>\n",
       "      <td>5.00</td>\n",
       "      <td>4.82</td>\n",
       "      <td>4.82</td>\n",
       "      <td>f</td>\n",
       "    </tr>\n",
       "    <tr>\n",
       "      <th>3</th>\n",
       "      <td>30931</td>\n",
       "      <td>Downtown Toronto - Waterview Condo</td>\n",
       "      <td>2009-06-22</td>\n",
       "      <td>NaN</td>\n",
       "      <td>NaN</td>\n",
       "      <td>f</td>\n",
       "      <td>2.0</td>\n",
       "      <td>f</td>\n",
       "      <td>Waterfront Communities-The Island</td>\n",
       "      <td>43.64015</td>\n",
       "      <td>...</td>\n",
       "      <td>2010-08-11</td>\n",
       "      <td>2010-08-11</td>\n",
       "      <td>5.00</td>\n",
       "      <td>NaN</td>\n",
       "      <td>NaN</td>\n",
       "      <td>NaN</td>\n",
       "      <td>NaN</td>\n",
       "      <td>NaN</td>\n",
       "      <td>NaN</td>\n",
       "      <td>f</td>\n",
       "    </tr>\n",
       "    <tr>\n",
       "      <th>4</th>\n",
       "      <td>40456</td>\n",
       "      <td>Downtown- King Size Bed and Parking</td>\n",
       "      <td>2010-07-20</td>\n",
       "      <td>within an hour</td>\n",
       "      <td>100%</td>\n",
       "      <td>t</td>\n",
       "      <td>3.0</td>\n",
       "      <td>t</td>\n",
       "      <td>South Parkdale</td>\n",
       "      <td>43.63539</td>\n",
       "      <td>...</td>\n",
       "      <td>2010-08-03</td>\n",
       "      <td>2022-01-29</td>\n",
       "      <td>4.63</td>\n",
       "      <td>4.64</td>\n",
       "      <td>4.66</td>\n",
       "      <td>4.95</td>\n",
       "      <td>4.96</td>\n",
       "      <td>4.57</td>\n",
       "      <td>4.68</td>\n",
       "      <td>f</td>\n",
       "    </tr>\n",
       "  </tbody>\n",
       "</table>\n",
       "<p>5 rows × 37 columns</p>\n",
       "</div>"
      ],
      "text/plain": [
       "      id                                         name  host_since  \\\n",
       "0   1419              Beautiful home in amazing area!  2008-08-08   \n",
       "1   8077           Downtown Harbourfront Private Room  2009-06-22   \n",
       "2  27423  Executive Studio Unit- Ideal for One Person  2010-05-04   \n",
       "3  30931           Downtown Toronto - Waterview Condo  2009-06-22   \n",
       "4  40456          Downtown- King Size Bed and Parking  2010-07-20   \n",
       "\n",
       "   host_response_time host_response_rate host_is_superhost  \\\n",
       "0                 NaN                NaN                 f   \n",
       "1                 NaN                NaN                 f   \n",
       "2  within a few hours               100%                 f   \n",
       "3                 NaN                NaN                 f   \n",
       "4      within an hour               100%                 t   \n",
       "\n",
       "   host_listings_count host_identity_verified  \\\n",
       "0                  1.0                      t   \n",
       "1                  2.0                      f   \n",
       "2                  1.0                      t   \n",
       "3                  2.0                      f   \n",
       "4                  3.0                      t   \n",
       "\n",
       "              neighbourhood_cleansed  latitude  ...  first_review last_review  \\\n",
       "0                    Little Portugal  43.64590  ...    2015-07-19  2017-12-04   \n",
       "1  Waterfront Communities-The Island  43.64080  ...    2009-08-20  2013-08-27   \n",
       "2                    South Riverdale  43.66884  ...    2010-06-07  2011-08-30   \n",
       "3  Waterfront Communities-The Island  43.64015  ...    2010-08-11  2010-08-11   \n",
       "4                     South Parkdale  43.63539  ...    2010-08-03  2022-01-29   \n",
       "\n",
       "  review_scores_rating  review_scores_accuracy  review_scores_cleanliness  \\\n",
       "0                 5.00                    5.00                       5.00   \n",
       "1                 4.84                    4.81                       4.89   \n",
       "2                 4.92                    5.00                       4.82   \n",
       "3                 5.00                     NaN                        NaN   \n",
       "4                 4.63                    4.64                       4.66   \n",
       "\n",
       "   review_scores_checkin  review_scores_communication review_scores_location  \\\n",
       "0                   5.00                         5.00                   5.00   \n",
       "1                   4.87                         4.90                   4.92   \n",
       "2                   5.00                         5.00                   4.82   \n",
       "3                    NaN                          NaN                    NaN   \n",
       "4                   4.95                         4.96                   4.57   \n",
       "\n",
       "  review_scores_value  instant_bookable  \n",
       "0                5.00                 f  \n",
       "1                4.83                 t  \n",
       "2                4.82                 f  \n",
       "3                 NaN                 f  \n",
       "4                4.68                 f  \n",
       "\n",
       "[5 rows x 37 columns]"
      ]
     },
     "execution_count": 3,
     "metadata": {},
     "output_type": "execute_result"
    }
   ],
   "source": [
    "cols_to_drop=['listing_url', 'scrape_id', 'last_scraped', 'description', 'neighborhood_overview','picture_url','host_id',\n",
    "              'host_url','host_name', 'host_location','host_about', 'host_thumbnail_url', 'host_picture_url', 'host_neighbourhood',\n",
    "              'host_verifications', 'bathrooms_text', 'host_acceptance_rate', 'neighbourhood_group_cleansed','minimum_minimum_nights',\n",
    "              'maximum_minimum_nights', 'minimum_minimum_nights', 'minimum_maximum_nights', 'maximum_maximum_nights', 'minimum_nights_avg_ntm',\n",
    "              'calendar_last_scraped', 'license','calculated_host_listings_count', 'calculated_host_listings_count_entire_homes',\n",
    "              'calculated_host_listings_count_private_rooms', 'calculated_host_listings_count_shared_rooms','host_has_profile_pic',\n",
    "              'maximum_nights_avg_ntm', 'has_availability', 'number_of_reviews_l30d','host_total_listings_count','neighbourhood','calendar_updated','reviews_per_month']\n",
    "             \n",
    "    \n",
    "data_df=data_df.drop(cols_to_drop, axis=1)\n",
    "data_df.head()"
   ]
  },
  {
   "cell_type": "code",
   "execution_count": 4,
   "id": "aff40873",
   "metadata": {},
   "outputs": [
    {
     "data": {
      "text/plain": [
       "id                                 0\n",
       "name                               2\n",
       "host_since                         3\n",
       "host_response_time              4720\n",
       "host_response_rate              4720\n",
       "host_is_superhost                  3\n",
       "host_listings_count                3\n",
       "host_identity_verified             3\n",
       "neighbourhood_cleansed             0\n",
       "latitude                           0\n",
       "longitude                          0\n",
       "property_type                      0\n",
       "room_type                          0\n",
       "accommodates                       0\n",
       "bathrooms                      15171\n",
       "bedrooms                        1042\n",
       "beds                             245\n",
       "amenities                          0\n",
       "price                              0\n",
       "minimum_nights                     0\n",
       "maximum_nights                     0\n",
       "availability_30                    0\n",
       "availability_60                    0\n",
       "availability_90                    0\n",
       "availability_365                   0\n",
       "number_of_reviews                  0\n",
       "number_of_reviews_ltm              0\n",
       "first_review                    3223\n",
       "last_review                     3223\n",
       "review_scores_rating            3223\n",
       "review_scores_accuracy          3372\n",
       "review_scores_cleanliness       3370\n",
       "review_scores_checkin           3373\n",
       "review_scores_communication     3373\n",
       "review_scores_location          3374\n",
       "review_scores_value             3373\n",
       "instant_bookable                   0\n",
       "dtype: int64"
      ]
     },
     "execution_count": 4,
     "metadata": {},
     "output_type": "execute_result"
    }
   ],
   "source": [
    "# Check for null values\n",
    "data_df.isnull().sum()"
   ]
  },
  {
   "cell_type": "markdown",
   "id": "b8ab200e",
   "metadata": {},
   "source": [
    "#### Checking and Cleaning individual columns"
   ]
  },
  {
   "cell_type": "markdown",
   "id": "372f97c2",
   "metadata": {},
   "source": [
    "#### host_since"
   ]
  },
  {
   "cell_type": "code",
   "execution_count": 5,
   "id": "4563baea",
   "metadata": {},
   "outputs": [
    {
     "name": "stdout",
     "output_type": "stream",
     "text": [
      "2083.97\n",
      "2134.0\n"
     ]
    },
    {
     "name": "stderr",
     "output_type": "stream",
     "text": [
      "C:\\Users\\carol\\.conda\\envs\\mlenv\\lib\\site-packages\\ipykernel_launcher.py:5: FutureWarning: The pandas.datetime class is deprecated and will be removed from pandas in a future version. Import from datetime module instead.\n",
      "  \"\"\"\n"
     ]
    }
   ],
   "source": [
    "#Convert object to datetime\n",
    "data_df[\"host_since\"]=pd.to_datetime(data_df[\"host_since\"])\n",
    "\n",
    "#Calculate the number of days\n",
    "data_df[\"host_active_days\"]=(pd.datetime(2022,6, 6)-data_df[\"host_since\"]).astype('timedelta64[D]')\n",
    "\n",
    "#Calculate the mean and median\n",
    "print(round(data_df[\"host_active_days\"].mean(),2))\n",
    "print(data_df[\"host_active_days\"].median())\n",
    "\n",
    "# Fill the null values with median values\n",
    "data_df[\"host_active_days\"].fillna(data_df[\"host_active_days\"].median(), inplace=True)"
   ]
  },
  {
   "cell_type": "markdown",
   "id": "8cd65742",
   "metadata": {},
   "source": [
    "#### host_response_time"
   ]
  },
  {
   "cell_type": "code",
   "execution_count": 6,
   "id": "a55183c5",
   "metadata": {},
   "outputs": [
    {
     "name": "stdout",
     "output_type": "stream",
     "text": [
      "Null Values: 4720\n",
      "Proportion: 31.1\n"
     ]
    },
    {
     "data": {
      "text/plain": [
       "within an hour        6393\n",
       "unknown               4720\n",
       "within a few hours    2051\n",
       "within a day          1431\n",
       "a few days or more     576\n",
       "Name: host_response_time, dtype: int64"
      ]
     },
     "execution_count": 6,
     "metadata": {},
     "output_type": "execute_result"
    }
   ],
   "source": [
    "print(\"Null Values:\", data_df[\"host_response_time\"].isnull().sum())\n",
    "print(\"Proportion:\", round(data_df[\"host_response_time\"].isna().sum()/len(data_df)*100,1))\n",
    "\n",
    "#Replace null values with \"unknown\"\n",
    "data_df[\"host_response_time\"].fillna(\"unknown\", inplace=True)\n",
    "data_df[\"host_response_time\"].value_counts()"
   ]
  },
  {
   "cell_type": "markdown",
   "id": "ae145f46",
   "metadata": {},
   "source": [
    "#### host_response_rate"
   ]
  },
  {
   "cell_type": "code",
   "execution_count": 7,
   "id": "7e637cc0",
   "metadata": {},
   "outputs": [
    {
     "data": {
      "text/plain": [
       "100%       6995\n",
       "unknown    4720\n",
       "50-89%     1471\n",
       "90-99%     1299\n",
       "0-49%       686\n",
       "Name: host_response_rate_new, dtype: int64"
      ]
     },
     "execution_count": 7,
     "metadata": {},
     "output_type": "execute_result"
    }
   ],
   "source": [
    "#Convert the column datatype to float\n",
    "data_df.host_response_rate = data_df.host_response_rate.str[:-1].astype('float64')\n",
    "\n",
    "response_rate=data_df[\"host_response_rate\"].values\n",
    "response_rate.dtype\n",
    "\n",
    "#Bin the values into four categories\n",
    "bins=[0, 50, 90,99, 100]\n",
    "group_names=[\"0-49%\", \"50-89%\", \"90-99%\", \"100%\"]\n",
    "data_df[\"host_response_rate_new\"]=pd.cut(response_rate, bins, labels=group_names, include_lowest=True)\n",
    "\n",
    "# Convert column to string\n",
    "data_df[\"host_response_rate_new\"]= data_df[\"host_response_rate_new\"].astype('str')\n",
    "\n",
    "#Replace null values with \"unknown\"\n",
    "data_df[\"host_response_rate_new\"].replace(\"nan\", \"unknown\", inplace=True)\n",
    "\n",
    "#Drop the original column\n",
    "data_df.drop(\"host_response_rate\", axis=1,inplace=True)\n",
    "\n",
    "#Check the value counts\n",
    "data_df[\"host_response_rate_new\"].value_counts()\n"
   ]
  },
  {
   "cell_type": "markdown",
   "id": "ac56d2ee",
   "metadata": {},
   "source": [
    "#### property_types"
   ]
  },
  {
   "cell_type": "code",
   "execution_count": 8,
   "id": "97101455",
   "metadata": {},
   "outputs": [
    {
     "data": {
      "text/plain": [
       "Apartment      7885\n",
       "One Room       4700\n",
       "House          2443\n",
       "Shared Room     131\n",
       "Other            12\n",
       "Name: property_type, dtype: int64"
      ]
     },
     "execution_count": 8,
     "metadata": {},
     "output_type": "execute_result"
    }
   ],
   "source": [
    "#Replacing and grouping multiple categories into main heads\n",
    "\n",
    "data_df[\"property_type\"].replace({\n",
    "    \"Entire home\": \"House\",\n",
    "    \"Private room in rental unit\": \"One Room\",\n",
    "    \"Entire rental unit\": \"Apartment\",\n",
    "    \"Entire condo\" : \"Apartment\",\n",
    "    \"Private room in home\": \"One Room\",\n",
    "    \"Private room in condo\": \"One Room\",\n",
    "    \"Shared room in parking space\": \"Shared Room\",\n",
    "    \"Entire guest suite\": \"Apartment\",\n",
    "    \"Entire townhouse\": \"House\",\n",
    "    \"Private room in bed and breakfast\": \"One Room\",\n",
    "    \"Private room in townhouse\": \"One Room\",\n",
    "    \"Private room in tiny home\": \"One Room\",\n",
    "    \"Private room in guest suite\": \"One Room\",\n",
    "    \"Private room in loft\": \"One Room\",\n",
    "    \"Private room in cottage\" : \"One Room\",\n",
    "    \"Private room in bungalow\": \"One Room\",\n",
    "    \"Private room in guesthouse\": \"One Room\",\n",
    "    \"Private room\": \"One Room\",\n",
    "    \"Private room in vacation home\": \"One Room\",\n",
    "    \"Private room in floor\": \"One Room\",\n",
    "    \"Private room in villa\": \"One Room\",\n",
    "    \"Room in hostel\": \"One Room\",\n",
    "    \"Private room in castle\": \"One Room\",\n",
    "    \"Room in hotel\": \"One Room\",\n",
    "    \"Private room in barn\": \"One Room\",\n",
    "    \"Room in boutique hotel\": \"One Room\",\n",
    "    \"Room in bed and breakfast\": \"One Room\",\n",
    "    \"Private room in serviced apartment\": \"One Room\",\n",
    "    \"Private room in casa particular\": \"One Room\",\n",
    "    \"Private room in earthen home\" : \"One Room\",\n",
    "    \"Room in aparthotel\": \"One Room\",\n",
    "    \"Private room in hut\": \"One Room\",\n",
    "    \"Private room in hostel\": \"One Room\",\n",
    "    \"Private room in holiday park\": \"One Room\",\n",
    "    \"Shared room in rental unit\" : \"Shared Room\",\n",
    "    \"Shared room in home\": \"Shared Room\",\n",
    "    \"Shared room in condo\": \"Shared Room\",\n",
    "    \"Shared room in townhouse\": \"Shared Room\",\n",
    "    \"Shared room in bed and breakfast\": \"Shared Room\",\n",
    "    \"Shared room in bungalow\": \"Shared Room\",\n",
    "    \"Shared room in hostel\": \"Shared Room\",\n",
    "    \"Shared room in loft\": \"Shared Room\",\n",
    "    \"Shared room in guesthouse\": \"Shared Room\",\n",
    "    \"Shared room in villa\": \"Shared Room\",\n",
    "    \"Shared room in barn\": \"Shared Room\",\n",
    "    \"Shared room in boat\": \"Shared Room\",\n",
    "    \"Shared room in hotel\": \"Shared Room\",\n",
    "    \"Shared room in guest suite\": \"Shared Room\",\n",
    "    \"Entire bungalow\": \"House\",\n",
    "    \"Tiny home\": \"House\",\n",
    "    \"Entire villa\": \"House\",\n",
    "    \"Entire place\": \"House\",\n",
    "    \"Entire cottage\": \"House\",\n",
    "    \"Earthen home\": \"House\",\n",
    "    \"Entire vacation home\": \"House\",\n",
    "    \"Entire serviced apartment\": \"Apartment\",\n",
    "    \"Entire loft\": \"Apartment\",\n",
    "    \"Entire guesthouse\": \"House\",\n",
    "    \"Entire home/apt\": \"House\"},inplace=True)\n",
    "\n",
    "#Replacing other categories with 'other'\n",
    "data_df.loc[~data_df[\"property_type\"].isin([\"House\", \"Apartment\", \"One Room\", \"Shared Room\"]), \"property_type\"]=\"Other\"\n",
    "    \n",
    "# Check the property type value count\n",
    "data_df[\"property_type\"].value_counts()"
   ]
  },
  {
   "cell_type": "markdown",
   "id": "f97ac421",
   "metadata": {},
   "source": [
    "#### bathrooms, bedrooms and beds"
   ]
  },
  {
   "cell_type": "code",
   "execution_count": 9,
   "id": "dd60fa9d",
   "metadata": {},
   "outputs": [],
   "source": [
    "#Drop the bathroom column since no data is available\n",
    "data_df=data_df.drop(\"bathrooms\", axis=1)\n"
   ]
  },
  {
   "cell_type": "code",
   "execution_count": 10,
   "id": "fc5fc0f8",
   "metadata": {},
   "outputs": [],
   "source": [
    "# Replace missing values with median\n",
    "for col in [\"bedrooms\", \"beds\"]:\n",
    "    data_df[col].fillna(data_df[col].median(), inplace=True)"
   ]
  },
  {
   "cell_type": "markdown",
   "id": "ba9855fe",
   "metadata": {},
   "source": [
    "### amenities"
   ]
  },
  {
   "cell_type": "code",
   "execution_count": 11,
   "id": "2de9c72f",
   "metadata": {},
   "outputs": [
    {
     "data": {
      "text/plain": [
       "array(['[\"Smoke alarm\", \"Dryer\", \"Washer\", \"Air conditioning\", \"TV\", \"Heating\", \"Essentials\", \"Indoor fireplace\", \"Shampoo\", \"First aid kit\", \"Fire extinguisher\", \"Wifi\", \"Long term stays allowed\", \"Kitchen\"]',\n",
       "       '[\"Pool\", \"Smoke alarm\", \"Free parking on premises\", \"TV with standard cable\", \"Gym\", \"Air conditioning\", \"Heating\", \"Cable TV\", \"Elevator\", \"Shampoo\", \"Wifi\", \"Long term stays allowed\"]',\n",
       "       '[\"Central heating\", \"Barbecue utensils\", \"Dryer\", \"Toaster\", \"Wifi\", \"32\\\\\" HDTV\", \"Refrigerator\", \"Carbon monoxide alarm\", \"Oven\", \"Outdoor furniture\", \"Paid parking on premises\", \"Long term stays allowed\", \"Microwave\", \"Hot water\", \"Dishes and silverware\", \"Private entrance\", \"Iron\", \"Central air conditioning\", \"Shared patio or balcony\", \"Free washer \\\\u2013 In unit\", \"Hot water kettle\", \"Dining table\", \"Fire extinguisher\", \"Kitchen\", \"Cooking basics\", \"BBQ grill\", \"Hair dryer\", \"Drying rack for clothing\", \"Smoke alarm\", \"Shared fenced garden or backyard\", \"Outdoor dining area\", \"Bed linens\", \"Coffee maker\", \"Essentials\", \"Stove\", \"Baking sheet\", \"Clothing storage: dresser and wardrobe\", \"Hangers\", \"Extra pillows and blankets\"]',\n",
       "       ...,\n",
       "       '[\"Central heating\", \"Dryer\", \"Washer\", \"Security cameras on property\", \"Safe\", \"Room-darkening shades\", \"Refrigerator\", \"Clothing storage: closet\", \"Carbon monoxide alarm\", \"Long term stays allowed\", \"Bathtub\", \"Hot water\", \"Iron\", \"Central air conditioning\", \"Dedicated workspace\", \"Fast wifi \\\\u2013 60 Mbps\", \"Kitchen\", \"Drying rack for clothing\", \"Smoke alarm\", \"Bed linens\", \"Hangers\", \"Backyard\", \"Extra pillows and blankets\"]',\n",
       "       '[\"Washer\", \"Cleaning before checkout\", \"Heating\", \"Wifi\", \"Refrigerator\", \"TV with standard cable\", \"Carbon monoxide alarm\", \"Oven\", \"Long term stays allowed\", \"Microwave\", \"Hot water\", \"Dishes and silverware\", \"Free parking on premises\", \"Iron\", \"Air conditioning\", \"Cable TV\", \"Fire extinguisher\", \"Cooking basics\", \"Kitchen\", \"Hair dryer\", \"Single level home\", \"Smoke alarm\", \"Bed linens\", \"Essentials\", \"Host greets you\", \"Stove\", \"Hangers\", \"Backyard\", \"Extra pillows and blankets\"]',\n",
       "       '[\"Lockbox\", \"Patio or balcony\", \"Heating\", \"Wifi\", \"Refrigerator\", \"Carbon monoxide alarm\", \"Long term stays allowed\", \"Microwave\", \"Hot water\", \"Dishes and silverware\", \"Shower gel\", \"Private entrance\", \"Free parking on premises\", \"Air conditioning\", \"Cooking basics\", \"Kitchen\", \"Hair dryer\", \"Single level home\", \"Smoke alarm\", \"TV\", \"Bed linens\", \"Coffee maker\", \"Essentials\", \"Shampoo\", \"Stove\", \"Hangers\", \"Backyard\", \"Extra pillows and blankets\"]'],\n",
       "      dtype=object)"
      ]
     },
     "execution_count": 11,
     "metadata": {},
     "output_type": "execute_result"
    }
   ],
   "source": [
    "data_df[\"amenities\"].unique()"
   ]
  },
  {
   "cell_type": "code",
   "execution_count": 12,
   "id": "d8ed343a",
   "metadata": {},
   "outputs": [],
   "source": [
    "#Creating a set of amenities\n",
    "amenities_list = list(data_df.amenities)\n",
    "amenities_list_string = \" \".join(amenities_list)\n",
    "amenities_list_string = amenities_list_string.replace('{', '')\n",
    "amenities_list_string = amenities_list_string.replace('}', ',')\n",
    "amenities_list_string = amenities_list_string.replace('\"', '')\n",
    "amenities_set = [x.strip() for x in amenities_list_string.split(',')]\n",
    "amenities_set = set(amenities_set)\n"
   ]
  },
  {
   "cell_type": "code",
   "execution_count": 13,
   "id": "efa2ef49",
   "metadata": {},
   "outputs": [],
   "source": [
    "#Grouping the amenities into separate columns with 1 if amenities present and 0 if not present\n",
    "data_df.loc[data_df['amenities'].str.contains('shampoo|body soap|One Man Jack body soap|Kirkland Bodywash body soap|Different types shampoo|Several hotel brands body soap|V05 shampoo|Head & shoulders  conditioner|Several Hotel Brands Available body soap|Shampoo|dove  body soap|Pantene or Herbal Essences shampoo|Alaffia EveryDay Shea Conditioner Lavender conditioner|Herbal Essence Body Wash body soap|Pert shampoo|Le Labo conditioner|Natural bar soaps will be provided  body soap|L\\'oreal shampoo|Loreal body soap|Basic  body soap|Premium  body soap|Pantene  shampoo|L\\'Or\\\\u00e9al conditioner|Salon brands shampoo|Truly Earth body soap|Coconut conditioner|L\\\\u2019Or\\\\u00e9al  body soap|TRESEMME conditioner|Body wash body soap|Yves Rocher shampoo|Adidas conditioner|Aveena conditioner|L\\'Oreal  body soap|Olay body soap|Canadian shampoo|Pantene Pro V conditioner|Generic body soap|Myriade d\\\\u2019arabe shampoo|Basic shampoo|Sukin body soap|TRESemm\\\\u00e9 shampoo|Name brand  body soap|Dove conditioner conditioner|Ivory bar soap body soap|Tresemme conditioner|Boo Bamboo Conditioner conditioner|Coconut shampoo|Body lotion and soap body soap|Dove bar soap  body soap|Eco Botanics  conditioner|Best available neutral body wash body soap|Head & Shoulders shampoo|Softsoap  body soap|Head&shoulder shampoo|Irish Fresh body soap|Alaffia body soap|Dr Bronners  body soap|Pears body soap|Various brands  shampoo|Regular  shampoo|Everyone shampoo|Numerous  body soap|Dove - Natural  body soap|Plushresidence brand body soap|North American Hemp Co. - natural product body soap|Argan Oil conditioner|we will arrange for it body soap|Hypoallergenic body soap|Soft body soap|Head and Shoulder shampoo|Essenes  body soap|Pantene 2-in-1 conditioner|Ivory Bar Soap body soap|Kirkland/ivory or similar body soap|Head & Shoulders conditioner|Pantene Daily Moisture Renewal shampoo|Ivory clean body soap|LUSH body soap|H&S shampoo|Natural conditioner|Head And Shoulder|Different  shampoo|Lavender soap from bulk barn body soap|Truly Earth shampoo|Pantene or similar conditioner|Nivea & Dove body soap|Toiletries|Head&Shoulder shampoo|Eco Botanics  body soap|Dr. Bronner\\\\u2019s body soap|Body Wash body soap|Noname conditioner|KIRKLAND shampoo|organic hypo-allergenic body soap|Organic conditioner|Liveclean shampoo|Iris Spring body soap|Dove  shampoo|Various conditioner|Variety brands body soap|Various brands  conditioner|TRESemm\\\\u00e9 conditioner|Alaffia - natural product conditioner|Johnsons & Johnson conditioner|Hotel Brands Available shampoo|General body soap|Moroccan oil conditioner|Natural shampoo|No name body soap|Luxury shampoo|Old Spice ?  body soap|Several hotel brands  conditioner|American  body soap|Assorted Quality Brands  shampoo|H\\\\u00f4tel-time shampoo|No name  body soap|Prosilk  shampoo|Known brands shampoo|IVORY clean body soap|Iris spring  body soap|Herbal Essence shampoo|Tre semme conditioner|SOS and lemon dish soap conditioner|Marc Antony conditioner|ProSilk body soap|Garnier Fructis shampoo|Aveeno body soap'),\"toiletries\"]=1\n",
    "data_df.loc[data_df['amenities'].str.contains('Game console|Philip sound system with Bluetooth and aux|Record player|TV|TV with standard cable|Cable TV|39\\\\ TV|Beats Speaker sound system with Bluetooth and aux|JBL Bluetooth sound system|40\\\\ HDTV with Netflix|55\\\\ TV with Amazon Prime Video|90\\\\ TV with Apple TV|44\\\\ HDTV with Roku|43\\\\ TV|32\\\\ TV with Chromecast|Game console: Nintendo Wii and Xbox One|Alexa sound system with Bluetooth and aux|43\\\\ TV|36\\\\ HDTV|57\\\\ HDTV with Netflix|46\\\\ HDTV with Roku|68\\\\ HDTV with Netflix|46\\\\ HDTV with standard cable|46\\\\ TV with Chromecast|Radio and CD player sound system|Savant sound system|Radio and CD player sound system|24\\\\ TV with Chromecast|Sony  sound system with aux|Sonos\\\\u2122 Bluetooth sound system|55\\\\ TV with Chromecast|Google Smart Speaker Bluetooth sound system|Roku Bluetooth sound system|HDTV with standard cable|52\\\\ HDTV|Bluetooth speaker Bluetooth sound system|Denon sound system|54\\\\ HDTV with Apple TV|Chromecast|37\\\\ HDTV with Amazon Prime Video|Samsung Sound Bar sound system with Bluetooth and aux|26\\\\ HDTV with standard cable|Denon - connect via wifi sound system|42\\\\ HDTV with Netflix|78\\\\ HDTV with Netflix|37\\\\ TV with Netflix|75\\\\ HDTV|Alexa sound system|Samsung Bluetooth Speaker  Bluetooth sound system|43\\\\ HDTV with Amazon Prime Video|60\\\\ TV with standard cable|47\\\\ TV with Roku|Sonos 5 & 1 Bluetooth sound system|49\\\\ HDTV with Netflix|Netflix|43\\\\ HDTV with Amazon Prime Video|43\\\\ HDTV with standard cable|50\\\\ HDTV with HBO Max|Bose Boom Box Bluetooth sound system|30\\\\ HDTV with Netflix|46\\\\ HDTV|48\\\\ HDTV with Chromecast|Sonos or Old School Turntable sound system with Bluetooth and aux|52\\\\ HDTV with premium cable|48\\\\ HDTV with Roku|50\\\\ HDTV with Netflix|Game console: PS4|60\\\\ HDTV with standard cable|Wonderboom Bluetooth sound system|Bose sound touch Bluetooth sound system|Wireless speakers available - compatible with all electronic devices sound system|55\\\\ TV with Netflix|48\\\\ TV with standard cable|TV with Apple TV|43\\\\ TV with Roku|54\\\\ HDTV with Apple TV|Alexa - Amazon  sound system|42\\\\ HDTV with Roku|65\\\\ HDTV with Amazon Prime Video|52\\\\ TV|32\\\\ HDTV|SONOS Bluetooth sound system|40\\\\ HDTV with Roku|58\\\\ HDTV with Apple TV|Samsung Soundbar Bluetooth sound system|37\\\\ HDTV with|50\\\\ HDTV with Roku|82\\\\ HDTV with Netflix|85\\\\ HDTV|85\\\\ HDTV with Amazon Prime Video|37\\\\ HDTV with Netflix|42\\\\ TV with Amazon Prime Video|32\\\\ TV with premium cable|Marshall Bluetooth sound system|45\\\\ HDTV with|46\\\\ HDTV with Netflix|42\\\\ HDTV with Netflix|TV with HBO Max|65\\\\ TV with Amazon Prime Video|Bose Bluetooth  Bluetooth sound system|Eneby Bluetooth sound system|LG Soundbar and Sub sound system|55\\\\ HDTV with Amazon Prime Video|47\\\\ TV with Netflix|48\\\\ TV|32\\\\ TV with Apple TV|58\\\\ HDTV|Polaroid sound system with Bluetooth and aux|40\\\\ HDTV with premium cable|70\\\\ HDTV with Apple TV|42\\\\ HDTV|48\\\\ HDTV with Apple TV|18\\\\ TV with Netflix|43\\\\ TV with Chromecast|Sound system|55\\\\ TV with standard cable|46\\\\ HDTV with Amazon Prime Video|38\\\\ TV|Google Home sound system|45\\\\ HDTV with Roku|30\\\\ HDTV|54\\\\ HDTV with Netflix|65\\\\ HDTV|55\\\\ HDTV with premium cable|40\\\\ HDTV with Chromecast|36\\\\ HDTV|37\\\\ TV with Netflix|65\\\\ TV with Apple TV|65\\\\ HDTV with premium cable|78\\\\ HDTV with Netflix|70\\\\ HDTV with Netflix|Sony 7.2 Surround Sound sound system with Bluetooth and aux|50\\\\ TV with Amazon Prime Video|Bose Mini Bluetooth sound system|45\\\\ HDTV|90\\\\ TV with Apple TV|Chromecast|65\\\\ HDTV with Apple TV|49\\\\ TV with Apple TV|Sony sound system|70\\\\ HDTV with Chromecast|52\\\\ TV with|33\\\\ HDTV with Chromecast|30\\\\ HDTV with Amazon Prime Video|46\\\\ HDTV with Amazon Prime Video|45\\\\ TV with Amazon Prime Video'), 'high_end_electronics'] = 1\n",
    "data_df.loc[data_df['amenities'].str.contains('Air conditioning|Window AC unit|Central air conditioning|Heating|Indoor Fireplace|Central Heating|Central air conditioning|Central heating'), 'ac_heater'] = 1\n",
    "data_df.loc[data_df['amenities'].str.contains('Internet|Pocket wifi|Wifi|wifi'), 'internet'] = 1\n",
    "data_df.loc[data_df['amenities'].str.contains('BBQ grill|Fire pit|Propane barbeque|Barbecue utensils'), 'bbq'] = 1\n",
    "data_df.loc[data_df['amenities'].str.contains('Breakfast'), 'breakfast'] = 1\n",
    "data_df.loc[data_df['amenities'].str.contains('Freezer|Hot water kettle|Microwave|Fridge|Toaster Oven|Samsung  stainless steel stove|Paid dryer|GE stainless steel oven|Samsung refrigerator|LG - Stainless Steel refrigerator|G.E.  stainless steel gas stove|Induction stove|GE Self Clean stainless steel oven|Brevettie  oven|Hair dryer|Hot plates  electric stove|Black & Decker stainless steel oven|Smsub oven|FRIGIDAIRE refrigerator|Dryer|Hangers|stove|Dishwasher|mini-fridge|electric stove|Washer'), \"home_appliances\"]=1\n",
    "data_df.loc[data_df['amenities'].str.contains('Coffee maker|Nespresso|Pour-over coffee|Cafe'),'coffee_machine']=1\n",
    "data_df.loc[data_df['amenities'].str.contains('Long term stays allowed'), 'long_term_stays'] = 1\n",
    "data_df.loc[data_df['amenities'].str.contains('Host greets you'), 'host_greeting'] = 1\n",
    "data_df.loc[data_df['amenities'].str.contains('Fire extinguisher|Smoke alarm|First aid kit'),'safety']=1\n",
    "data_df.loc[data_df['amenities'].str.contains('Balcony|Patio|Private fenced garden or backyard|Garden|Outdoor|Sun loungers|Terrace|Backyard'), 'outdoor_space'] = 1\n",
    "data_df.loc[data_df['amenities'].str.contains('Hot tub|Jetted tub|hot tub|Sauna|Pool|pool'), 'hot_tub_sauna_or_pool'] = 1\n",
    "data_df.loc[data_df['amenities'].str.contains('Ceiling fan|Bathtub|Clothing storage|closet|walk-in closet|Room-darkening shades|Crib|Bedroom comforts|Dedicated workspace|Extra pillows and blankets|Bed Linens|linens'),\"room_features\"]=1\n",
    "data_df.loc[data_df['amenities'].str.contains('Family/kid friendly|Children|children|Baby bath'), 'child_friendly'] = 1\n",
    "data_df.loc[data_df['amenities'].str.contains('Laundry services|Hot water|Laundromat|Free carport on premises|EV charger'),\"other_facilities\"]=1\n",
    "data_df.loc[data_df['amenities'].str.contains('Private entrance'), 'private_entrance'] = 1\n",
    "data_df.loc[data_df['amenities'].str.contains('Beach view|Beachfront|Lake access|Mountain view|Ski-in/Ski-out|Waterfront|Kayak'), 'nature_and_views'] = 1\n",
    "data_df.loc[data_df['amenities'].str.contains('Free parking on premises|Paid parking on premises|parking|valet parking'), 'parking'] = 1\n",
    "data_df.loc[data_df['amenities'].str.contains('Cooking basics|Kitchen'), 'kitchen'] = 1\n",
    "data_df.loc[data_df['amenities'].str.contains('Elevator'), 'elevator'] = 1\n",
    "data_df.loc[data_df['amenities'].str.contains('Exercise equipment|Gym|gym'), 'gym'] = 1\n",
    "data_df.loc[data_df['amenities'].str.contains('Smoking allowed'), 'smoking_allowed'] = 1\n",
    "data_df.loc[data_df['amenities'].str.contains('Step-free access|Wheelchair|Accessible'), 'accessible'] = 1\n",
    "data_df.loc[data_df['amenities'].str.contains('Suitable for events'), 'event_suitable'] = 1"
   ]
  },
  {
   "cell_type": "markdown",
   "id": "2d09d77a",
   "metadata": {},
   "source": [
    "####  The list of amentities that are not very common or useful will be dropped "
   ]
  },
  {
   "cell_type": "code",
   "execution_count": 14,
   "id": "1f15b3d4",
   "metadata": {},
   "outputs": [
    {
     "name": "stdout",
     "output_type": "stream",
     "text": [
      "['breakfast', 'child_friendly', 'nature_and_views', 'smoking_allowed', 'accessible', 'event_suitable']\n"
     ]
    }
   ],
   "source": [
    "# Replacing nulls with zeros for new columns\n",
    "replace_nulls = data_df.iloc[:,37:].columns\n",
    "data_df[replace_nulls] = data_df[replace_nulls].fillna(0)\n",
    "\n",
    "# Produces a list of amenity features where one category (true or false) contains fewer than 10% of listings\n",
    "infrequent_amenities = []\n",
    "for col in data_df.iloc[:,37:].columns:\n",
    "    if data_df[col].sum() < len(data_df)/10:\n",
    "        infrequent_amenities.append(col)\n",
    "print(infrequent_amenities)\n",
    "\n",
    "# Dropping infrequent amenity features\n",
    "data_df.drop(infrequent_amenities, axis=1, inplace=True)\n",
    "\n",
    "# Dropping the original amenity feature\n",
    "data_df.drop('amenities', axis=1, inplace=True)"
   ]
  },
  {
   "cell_type": "code",
   "execution_count": 15,
   "id": "f2dd332f",
   "metadata": {},
   "outputs": [
    {
     "data": {
      "text/plain": [
       "Index(['high_end_electronics', 'ac_heater', 'internet', 'bbq',\n",
       "       'home_appliances', 'coffee_machine', 'long_term_stays', 'host_greeting',\n",
       "       'safety', 'outdoor_space', 'hot_tub_sauna_or_pool', 'room_features',\n",
       "       'other_facilities', 'private_entrance', 'parking', 'kitchen',\n",
       "       'elevator', 'gym'],\n",
       "      dtype='object')"
      ]
     },
     "execution_count": 15,
     "metadata": {},
     "output_type": "execute_result"
    }
   ],
   "source": [
    "# List of Amenities that will be included\n",
    "data_df.columns[37:]"
   ]
  },
  {
   "cell_type": "markdown",
   "id": "147d765e",
   "metadata": {},
   "source": [
    "### price"
   ]
  },
  {
   "cell_type": "code",
   "execution_count": 16,
   "id": "b192a8f7",
   "metadata": {},
   "outputs": [
    {
     "name": "stderr",
     "output_type": "stream",
     "text": [
      "C:\\Users\\carol\\.conda\\envs\\mlenv\\lib\\site-packages\\ipykernel_launcher.py:3: FutureWarning: The default value of regex will change from True to False in a future version. In addition, single character regular expressions will *not* be treated as literal strings when regex=True.\n",
      "  This is separate from the ipykernel package so we can avoid doing imports until\n"
     ]
    }
   ],
   "source": [
    "#Convert the price column to float\n",
    "data_df[\"price\"]=data_df[\"price\"].str.replace(\",\",\"\")\n",
    "data_df[\"price\"]=data_df[\"price\"].str.replace(\"$\",\"\")\n",
    "data_df[\"price\"]=data_df[\"price\"].astype(float)"
   ]
  },
  {
   "cell_type": "markdown",
   "id": "04b3669e",
   "metadata": {},
   "source": [
    "### availability\n",
    "\n",
    "We will reatain only one measure for availability, which is availability_90 since rentals beyond 180 days are not permitted in Ontario by law."
   ]
  },
  {
   "cell_type": "code",
   "execution_count": 17,
   "id": "fd55604a",
   "metadata": {},
   "outputs": [],
   "source": [
    "#Dropping the other columns related to availability\n",
    "data_df.drop(columns=[\"availability_30\",\"availability_60\",\"availability_365\"], inplace=True)"
   ]
  },
  {
   "cell_type": "markdown",
   "id": "87cfbb3d",
   "metadata": {},
   "source": [
    "### first_review and last_review"
   ]
  },
  {
   "cell_type": "code",
   "execution_count": 18,
   "id": "e5e21965",
   "metadata": {},
   "outputs": [
    {
     "name": "stdout",
     "output_type": "stream",
     "text": [
      "21.24\n",
      "21.24\n"
     ]
    }
   ],
   "source": [
    "null_percentage_first_review=round((data_df[\"first_review\"].isnull().sum()/len(data_df))*100,2)\n",
    "null_percentage_last_review=round((data_df[\"last_review\"].isnull().sum()/len(data_df))*100,2)\n",
    "print(null_percentage_first_review)\n",
    "print(null_percentage_last_review)"
   ]
  },
  {
   "cell_type": "markdown",
   "id": "102cb278",
   "metadata": {},
   "source": [
    "#### Note\n",
    "\n",
    "Around one-fourth of the data does not have a review date. However, since reviews are considered important in AirBnB bookings, important information will be lost if the null values are dropped. Also, replacing them with average values might skew the distribution substantially. Therefore, the null values will be kept in an \"unknown\" category"
   ]
  },
  {
   "cell_type": "code",
   "execution_count": 19,
   "id": "bccfe10d",
   "metadata": {},
   "outputs": [
    {
     "name": "stderr",
     "output_type": "stream",
     "text": [
      "C:\\Users\\carol\\.conda\\envs\\mlenv\\lib\\site-packages\\ipykernel_launcher.py:5: FutureWarning: The pandas.datetime class is deprecated and will be removed from pandas in a future version. Import from datetime module instead.\n",
      "  \"\"\"\n"
     ]
    }
   ],
   "source": [
    "# Convert first review column to datetime to extract the number of days since first review\n",
    "data_df[\"first_review\"]=pd.to_datetime(data_df[\"first_review\"])\n",
    "\n",
    "# Calculate the number of days since first review and date compilation\n",
    "data_df[\"time_since_first_review\"]=(pd.datetime(2022,6,6) - data_df[\"first_review\"]).astype('timedelta64[D]')\n"
   ]
  },
  {
   "cell_type": "code",
   "execution_count": 20,
   "id": "771d416c",
   "metadata": {},
   "outputs": [
    {
     "data": {
      "text/plain": [
       "<AxesSubplot:>"
      ]
     },
     "execution_count": 20,
     "metadata": {},
     "output_type": "execute_result"
    },
    {
     "data": {
      "image/png": "[encoded data removed]",
      "text/plain": [
       "<Figure size 1080x360 with 1 Axes>"
      ]
     },
     "metadata": {
      "needs_background": "light"
     },
     "output_type": "display_data"
    }
   ],
   "source": [
    "# Histogram showing the distribution of days\n",
    "data_df[\"time_since_first_review\"].hist(bins=30, figsize=(15,5))"
   ]
  },
  {
   "cell_type": "code",
   "execution_count": 21,
   "id": "05887211",
   "metadata": {},
   "outputs": [],
   "source": [
    "# Create a function for binning\n",
    "def binning_review_time(col, bins, labels):\n",
    "    data_df[col]=pd.cut(data_df[col], bins=bins, labels=labels, include_lowest= True)\n",
    "    data_df[col]=data_df[col].astype('str')"
   ]
  },
  {
   "cell_type": "code",
   "execution_count": 22,
   "id": "d8f851e4",
   "metadata": {},
   "outputs": [],
   "source": [
    "#Binning the time since first review\n",
    "binning_review_time(\"time_since_first_review\",\n",
    "                   bins=[0, 180, 365, 730, 1460, max(data_df.time_since_first_review)],\n",
    "                   labels=[\"0-6 months\", \"6-12 months\", \"1-2 years\",\"2-4 years\", \"4+years\"])\n"
   ]
  },
  {
   "cell_type": "code",
   "execution_count": 23,
   "id": "d2fc185a",
   "metadata": {},
   "outputs": [
    {
     "data": {
      "text/plain": [
       "4+years        4049\n",
       "2-4 years      3758\n",
       "no reviews     3223\n",
       "0-6 months     1786\n",
       "6-12 months    1265\n",
       "1-2 years      1090\n",
       "Name: time_since_first_review, dtype: int64"
      ]
     },
     "execution_count": 23,
     "metadata": {},
     "output_type": "execute_result"
    }
   ],
   "source": [
    "#Show value count for the column\n",
    "data_df[\"time_since_first_review\"].replace({\"nan\": \"no reviews\"}, inplace=True)\n",
    "data_df[\"time_since_first_review\"].value_counts()"
   ]
  },
  {
   "cell_type": "code",
   "execution_count": 24,
   "id": "5b1d01c2",
   "metadata": {},
   "outputs": [
    {
     "name": "stderr",
     "output_type": "stream",
     "text": [
      "C:\\Users\\carol\\.conda\\envs\\mlenv\\lib\\site-packages\\ipykernel_launcher.py:5: FutureWarning: The pandas.datetime class is deprecated and will be removed from pandas in a future version. Import from datetime module instead.\n",
      "  \"\"\"\n"
     ]
    },
    {
     "data": {
      "text/plain": [
       "<AxesSubplot:>"
      ]
     },
     "execution_count": 24,
     "metadata": {},
     "output_type": "execute_result"
    },
    {
     "data": {
      "image/png": "[encoded data removed]",
      "text/plain": [
       "<Figure size 1440x360 with 1 Axes>"
      ]
     },
     "metadata": {
      "needs_background": "light"
     },
     "output_type": "display_data"
    }
   ],
   "source": [
    "# Convert last review column to datetime to extract the number of days since first review\n",
    "data_df[\"last_review\"]=pd.to_datetime(data_df[\"last_review\"])\n",
    "\n",
    "# Calculate the number of days since first review and date compilation\n",
    "data_df[\"time_since_last_review\"]=(pd.datetime(2022,6,6) - data_df[\"last_review\"]).astype('timedelta64[D]')\n",
    "\n",
    "# Histogram showing the distribution of days\n",
    "data_df[\"time_since_last_review\"].hist(bins=15, figsize=(20,5))\n"
   ]
  },
  {
   "cell_type": "code",
   "execution_count": 25,
   "id": "dfbec13a",
   "metadata": {},
   "outputs": [],
   "source": [
    "#Binning the time since first review\n",
    "binning_review_time(\"time_since_last_review\",\n",
    "                   bins=[0, 30, 90, 180, 365, max(data_df[\"time_since_last_review\"])],\n",
    "                   labels=[\"within 1 month\", \"1-3 months\", \"3-6 months\",\"6-12 months\",\"1+ years\"])\n"
   ]
  },
  {
   "cell_type": "code",
   "execution_count": 26,
   "id": "1d74fefe",
   "metadata": {},
   "outputs": [
    {
     "data": {
      "text/plain": [
       "1+ years          4672\n",
       "within 1 month    3839\n",
       "no reviews        3223\n",
       "1-3 months        1620\n",
       "3-6 months         964\n",
       "6-12 months        853\n",
       "Name: time_since_last_review, dtype: int64"
      ]
     },
     "execution_count": 26,
     "metadata": {},
     "output_type": "execute_result"
    }
   ],
   "source": [
    "#Show value count for the column\n",
    "data_df[\"time_since_last_review\"].replace({\"nan\": \"no reviews\"}, inplace=True)\n",
    "data_df[\"time_since_last_review\"].value_counts()"
   ]
  },
  {
   "cell_type": "code",
   "execution_count": 27,
   "id": "e50a2357",
   "metadata": {},
   "outputs": [
    {
     "data": {
      "text/html": [
       "<div>\n",
       "<style scoped>\n",
       "    .dataframe tbody tr th:only-of-type {\n",
       "        vertical-align: middle;\n",
       "    }\n",
       "\n",
       "    .dataframe tbody tr th {\n",
       "        vertical-align: top;\n",
       "    }\n",
       "\n",
       "    .dataframe thead th {\n",
       "        text-align: right;\n",
       "    }\n",
       "</style>\n",
       "<table border=\"1\" class=\"dataframe\">\n",
       "  <thead>\n",
       "    <tr style=\"text-align: right;\">\n",
       "      <th></th>\n",
       "      <th>id</th>\n",
       "      <th>name</th>\n",
       "      <th>host_since</th>\n",
       "      <th>host_response_time</th>\n",
       "      <th>host_is_superhost</th>\n",
       "      <th>host_listings_count</th>\n",
       "      <th>host_identity_verified</th>\n",
       "      <th>neighbourhood_cleansed</th>\n",
       "      <th>latitude</th>\n",
       "      <th>longitude</th>\n",
       "      <th>...</th>\n",
       "      <th>hot_tub_sauna_or_pool</th>\n",
       "      <th>room_features</th>\n",
       "      <th>other_facilities</th>\n",
       "      <th>private_entrance</th>\n",
       "      <th>parking</th>\n",
       "      <th>kitchen</th>\n",
       "      <th>elevator</th>\n",
       "      <th>gym</th>\n",
       "      <th>time_since_first_review</th>\n",
       "      <th>time_since_last_review</th>\n",
       "    </tr>\n",
       "  </thead>\n",
       "  <tbody>\n",
       "    <tr>\n",
       "      <th>0</th>\n",
       "      <td>1419</td>\n",
       "      <td>Beautiful home in amazing area!</td>\n",
       "      <td>2008-08-08</td>\n",
       "      <td>unknown</td>\n",
       "      <td>f</td>\n",
       "      <td>1.0</td>\n",
       "      <td>t</td>\n",
       "      <td>Little Portugal</td>\n",
       "      <td>43.64590</td>\n",
       "      <td>-79.42423</td>\n",
       "      <td>...</td>\n",
       "      <td>0.0</td>\n",
       "      <td>0.0</td>\n",
       "      <td>0.0</td>\n",
       "      <td>0.0</td>\n",
       "      <td>0.0</td>\n",
       "      <td>1.0</td>\n",
       "      <td>0.0</td>\n",
       "      <td>0.0</td>\n",
       "      <td>4+years</td>\n",
       "      <td>1+ years</td>\n",
       "    </tr>\n",
       "    <tr>\n",
       "      <th>1</th>\n",
       "      <td>8077</td>\n",
       "      <td>Downtown Harbourfront Private Room</td>\n",
       "      <td>2009-06-22</td>\n",
       "      <td>unknown</td>\n",
       "      <td>f</td>\n",
       "      <td>2.0</td>\n",
       "      <td>f</td>\n",
       "      <td>Waterfront Communities-The Island</td>\n",
       "      <td>43.64080</td>\n",
       "      <td>-79.37673</td>\n",
       "      <td>...</td>\n",
       "      <td>1.0</td>\n",
       "      <td>0.0</td>\n",
       "      <td>0.0</td>\n",
       "      <td>0.0</td>\n",
       "      <td>1.0</td>\n",
       "      <td>0.0</td>\n",
       "      <td>1.0</td>\n",
       "      <td>1.0</td>\n",
       "      <td>4+years</td>\n",
       "      <td>1+ years</td>\n",
       "    </tr>\n",
       "    <tr>\n",
       "      <th>2</th>\n",
       "      <td>27423</td>\n",
       "      <td>Executive Studio Unit- Ideal for One Person</td>\n",
       "      <td>2010-05-04</td>\n",
       "      <td>within a few hours</td>\n",
       "      <td>f</td>\n",
       "      <td>1.0</td>\n",
       "      <td>t</td>\n",
       "      <td>South Riverdale</td>\n",
       "      <td>43.66884</td>\n",
       "      <td>-79.32725</td>\n",
       "      <td>...</td>\n",
       "      <td>0.0</td>\n",
       "      <td>1.0</td>\n",
       "      <td>1.0</td>\n",
       "      <td>1.0</td>\n",
       "      <td>1.0</td>\n",
       "      <td>1.0</td>\n",
       "      <td>0.0</td>\n",
       "      <td>0.0</td>\n",
       "      <td>4+years</td>\n",
       "      <td>1+ years</td>\n",
       "    </tr>\n",
       "    <tr>\n",
       "      <th>3</th>\n",
       "      <td>30931</td>\n",
       "      <td>Downtown Toronto - Waterview Condo</td>\n",
       "      <td>2009-06-22</td>\n",
       "      <td>unknown</td>\n",
       "      <td>f</td>\n",
       "      <td>2.0</td>\n",
       "      <td>f</td>\n",
       "      <td>Waterfront Communities-The Island</td>\n",
       "      <td>43.64015</td>\n",
       "      <td>-79.37625</td>\n",
       "      <td>...</td>\n",
       "      <td>1.0</td>\n",
       "      <td>0.0</td>\n",
       "      <td>0.0</td>\n",
       "      <td>0.0</td>\n",
       "      <td>1.0</td>\n",
       "      <td>1.0</td>\n",
       "      <td>1.0</td>\n",
       "      <td>1.0</td>\n",
       "      <td>4+years</td>\n",
       "      <td>1+ years</td>\n",
       "    </tr>\n",
       "    <tr>\n",
       "      <th>4</th>\n",
       "      <td>40456</td>\n",
       "      <td>Downtown- King Size Bed and Parking</td>\n",
       "      <td>2010-07-20</td>\n",
       "      <td>within an hour</td>\n",
       "      <td>t</td>\n",
       "      <td>3.0</td>\n",
       "      <td>t</td>\n",
       "      <td>South Parkdale</td>\n",
       "      <td>43.63539</td>\n",
       "      <td>-79.44010</td>\n",
       "      <td>...</td>\n",
       "      <td>0.0</td>\n",
       "      <td>1.0</td>\n",
       "      <td>1.0</td>\n",
       "      <td>1.0</td>\n",
       "      <td>1.0</td>\n",
       "      <td>1.0</td>\n",
       "      <td>0.0</td>\n",
       "      <td>0.0</td>\n",
       "      <td>4+years</td>\n",
       "      <td>3-6 months</td>\n",
       "    </tr>\n",
       "  </tbody>\n",
       "</table>\n",
       "<p>5 rows × 54 columns</p>\n",
       "</div>"
      ],
      "text/plain": [
       "      id                                         name host_since  \\\n",
       "0   1419              Beautiful home in amazing area! 2008-08-08   \n",
       "1   8077           Downtown Harbourfront Private Room 2009-06-22   \n",
       "2  27423  Executive Studio Unit- Ideal for One Person 2010-05-04   \n",
       "3  30931           Downtown Toronto - Waterview Condo 2009-06-22   \n",
       "4  40456          Downtown- King Size Bed and Parking 2010-07-20   \n",
       "\n",
       "   host_response_time host_is_superhost  host_listings_count  \\\n",
       "0             unknown                 f                  1.0   \n",
       "1             unknown                 f                  2.0   \n",
       "2  within a few hours                 f                  1.0   \n",
       "3             unknown                 f                  2.0   \n",
       "4      within an hour                 t                  3.0   \n",
       "\n",
       "  host_identity_verified             neighbourhood_cleansed  latitude  \\\n",
       "0                      t                    Little Portugal  43.64590   \n",
       "1                      f  Waterfront Communities-The Island  43.64080   \n",
       "2                      t                    South Riverdale  43.66884   \n",
       "3                      f  Waterfront Communities-The Island  43.64015   \n",
       "4                      t                     South Parkdale  43.63539   \n",
       "\n",
       "   longitude  ... hot_tub_sauna_or_pool room_features  other_facilities  \\\n",
       "0  -79.42423  ...                   0.0           0.0               0.0   \n",
       "1  -79.37673  ...                   1.0           0.0               0.0   \n",
       "2  -79.32725  ...                   0.0           1.0               1.0   \n",
       "3  -79.37625  ...                   1.0           0.0               0.0   \n",
       "4  -79.44010  ...                   0.0           1.0               1.0   \n",
       "\n",
       "   private_entrance  parking  kitchen  elevator  gym  time_since_first_review  \\\n",
       "0               0.0      0.0      1.0       0.0  0.0                  4+years   \n",
       "1               0.0      1.0      0.0       1.0  1.0                  4+years   \n",
       "2               1.0      1.0      1.0       0.0  0.0                  4+years   \n",
       "3               0.0      1.0      1.0       1.0  1.0                  4+years   \n",
       "4               1.0      1.0      1.0       0.0  0.0                  4+years   \n",
       "\n",
       "   time_since_last_review  \n",
       "0                1+ years  \n",
       "1                1+ years  \n",
       "2                1+ years  \n",
       "3                1+ years  \n",
       "4              3-6 months  \n",
       "\n",
       "[5 rows x 54 columns]"
      ]
     },
     "execution_count": 27,
     "metadata": {},
     "output_type": "execute_result"
    }
   ],
   "source": [
    "data_df.head()"
   ]
  },
  {
   "cell_type": "markdown",
   "id": "d30177f3",
   "metadata": {},
   "source": [
    "### review rating columns"
   ]
  },
  {
   "cell_type": "code",
   "execution_count": 28,
   "id": "3701199c",
   "metadata": {},
   "outputs": [
    {
     "data": {
      "image/png": "[encoded data removed]",
      "text/plain": [
       "<Figure size 864x576 with 7 Axes>"
      ]
     },
     "metadata": {
      "needs_background": "light"
     },
     "output_type": "display_data"
    }
   ],
   "source": [
    "# Checking the distributions of the review ratings columns\n",
    "plotted_variables = list(data_df.columns[data_df.columns.str.startswith(\"review_scores\") == True])\n",
    "fig = plt.figure(figsize=(12,8))\n",
    "for i, var_name in enumerate(plotted_variables):\n",
    "    ax = fig.add_subplot(3,3,i+1)\n",
    "    data_df[var_name].hist(bins=10,ax=ax)\n",
    "    ax.set_title(var_name)\n",
    "fig.tight_layout()\n",
    "plt.show()"
   ]
  },
  {
   "cell_type": "code",
   "execution_count": 29,
   "id": "d08341f9",
   "metadata": {},
   "outputs": [],
   "source": [
    "# Fill null values for multiple columns with No Rating\n",
    "cols=[\"review_scores_rating\", \"review_scores_accuracy\", \"review_scores_cleanliness\",\"review_scores_checkin\", \"review_scores_communication\",\n",
    "                \"review_scores_location\",\"review_scores_value\"]\n",
    "# data_df[cols]=data_df[cols].apply(pd.to_numeric, errors=\"coerce\", axis=1)\n",
    "data_df[cols]=data_df[cols].fillna(\"no rating\")"
   ]
  },
  {
   "cell_type": "code",
   "execution_count": 30,
   "id": "c7b2ee2f",
   "metadata": {},
   "outputs": [],
   "source": [
    "#Drop additional columns and null values\n",
    "data_df.drop(columns=[\"first_review\", \"last_review\"],inplace=True)\n",
    "data_df.dropna(how='any', inplace=True)"
   ]
  },
  {
   "cell_type": "code",
   "execution_count": 31,
   "id": "9a3e7465",
   "metadata": {},
   "outputs": [
    {
     "data": {
      "text/plain": [
       "id                             0\n",
       "name                           0\n",
       "host_since                     0\n",
       "host_response_time             0\n",
       "host_is_superhost              0\n",
       "host_listings_count            0\n",
       "host_identity_verified         0\n",
       "neighbourhood_cleansed         0\n",
       "latitude                       0\n",
       "longitude                      0\n",
       "property_type                  0\n",
       "room_type                      0\n",
       "accommodates                   0\n",
       "bedrooms                       0\n",
       "beds                           0\n",
       "price                          0\n",
       "minimum_nights                 0\n",
       "maximum_nights                 0\n",
       "availability_90                0\n",
       "number_of_reviews              0\n",
       "number_of_reviews_ltm          0\n",
       "review_scores_rating           0\n",
       "review_scores_accuracy         0\n",
       "review_scores_cleanliness      0\n",
       "review_scores_checkin          0\n",
       "review_scores_communication    0\n",
       "review_scores_location         0\n",
       "review_scores_value            0\n",
       "instant_bookable               0\n",
       "host_active_days               0\n",
       "host_response_rate_new         0\n",
       "toiletries                     0\n",
       "high_end_electronics           0\n",
       "ac_heater                      0\n",
       "internet                       0\n",
       "bbq                            0\n",
       "home_appliances                0\n",
       "coffee_machine                 0\n",
       "long_term_stays                0\n",
       "host_greeting                  0\n",
       "safety                         0\n",
       "outdoor_space                  0\n",
       "hot_tub_sauna_or_pool          0\n",
       "room_features                  0\n",
       "other_facilities               0\n",
       "private_entrance               0\n",
       "parking                        0\n",
       "kitchen                        0\n",
       "elevator                       0\n",
       "gym                            0\n",
       "time_since_first_review        0\n",
       "time_since_last_review         0\n",
       "dtype: int64"
      ]
     },
     "execution_count": 31,
     "metadata": {},
     "output_type": "execute_result"
    }
   ],
   "source": [
    "data_df.isnull().sum()"
   ]
  },
  {
   "cell_type": "markdown",
   "id": "2377fdca",
   "metadata": {},
   "source": [
    "### Checking and Removing Outliers from data"
   ]
  },
  {
   "cell_type": "code",
   "execution_count": 32,
   "id": "ee9b3ca7",
   "metadata": {},
   "outputs": [
    {
     "data": {
      "text/html": [
       "<div>\n",
       "<style scoped>\n",
       "    .dataframe tbody tr th:only-of-type {\n",
       "        vertical-align: middle;\n",
       "    }\n",
       "\n",
       "    .dataframe tbody tr th {\n",
       "        vertical-align: top;\n",
       "    }\n",
       "\n",
       "    .dataframe thead th {\n",
       "        text-align: right;\n",
       "    }\n",
       "</style>\n",
       "<table border=\"1\" class=\"dataframe\">\n",
       "  <thead>\n",
       "    <tr style=\"text-align: right;\">\n",
       "      <th></th>\n",
       "      <th>price</th>\n",
       "      <th>minimum_nights</th>\n",
       "      <th>maximum_nights</th>\n",
       "      <th>availability_90</th>\n",
       "      <th>host_listings_count</th>\n",
       "    </tr>\n",
       "  </thead>\n",
       "  <tbody>\n",
       "    <tr>\n",
       "      <th>count</th>\n",
       "      <td>15166.000000</td>\n",
       "      <td>15166.000000</td>\n",
       "      <td>15166.000000</td>\n",
       "      <td>15166.000000</td>\n",
       "      <td>15166.000000</td>\n",
       "    </tr>\n",
       "    <tr>\n",
       "      <th>mean</th>\n",
       "      <td>178.591323</td>\n",
       "      <td>25.608862</td>\n",
       "      <td>656.744494</td>\n",
       "      <td>27.269880</td>\n",
       "      <td>7.203481</td>\n",
       "    </tr>\n",
       "    <tr>\n",
       "      <th>std</th>\n",
       "      <td>316.200380</td>\n",
       "      <td>43.301700</td>\n",
       "      <td>494.781618</td>\n",
       "      <td>30.777451</td>\n",
       "      <td>30.171094</td>\n",
       "    </tr>\n",
       "    <tr>\n",
       "      <th>min</th>\n",
       "      <td>0.000000</td>\n",
       "      <td>1.000000</td>\n",
       "      <td>1.000000</td>\n",
       "      <td>0.000000</td>\n",
       "      <td>0.000000</td>\n",
       "    </tr>\n",
       "    <tr>\n",
       "      <th>25%</th>\n",
       "      <td>75.000000</td>\n",
       "      <td>3.000000</td>\n",
       "      <td>90.000000</td>\n",
       "      <td>0.000000</td>\n",
       "      <td>1.000000</td>\n",
       "    </tr>\n",
       "    <tr>\n",
       "      <th>50%</th>\n",
       "      <td>120.000000</td>\n",
       "      <td>28.000000</td>\n",
       "      <td>1000.000000</td>\n",
       "      <td>14.000000</td>\n",
       "      <td>1.000000</td>\n",
       "    </tr>\n",
       "    <tr>\n",
       "      <th>75%</th>\n",
       "      <td>200.000000</td>\n",
       "      <td>28.000000</td>\n",
       "      <td>1125.000000</td>\n",
       "      <td>52.000000</td>\n",
       "      <td>4.000000</td>\n",
       "    </tr>\n",
       "    <tr>\n",
       "      <th>max</th>\n",
       "      <td>13000.000000</td>\n",
       "      <td>1125.000000</td>\n",
       "      <td>10001.000000</td>\n",
       "      <td>90.000000</td>\n",
       "      <td>411.000000</td>\n",
       "    </tr>\n",
       "  </tbody>\n",
       "</table>\n",
       "</div>"
      ],
      "text/plain": [
       "              price  minimum_nights  maximum_nights  availability_90  \\\n",
       "count  15166.000000    15166.000000    15166.000000     15166.000000   \n",
       "mean     178.591323       25.608862      656.744494        27.269880   \n",
       "std      316.200380       43.301700      494.781618        30.777451   \n",
       "min        0.000000        1.000000        1.000000         0.000000   \n",
       "25%       75.000000        3.000000       90.000000         0.000000   \n",
       "50%      120.000000       28.000000     1000.000000        14.000000   \n",
       "75%      200.000000       28.000000     1125.000000        52.000000   \n",
       "max    13000.000000     1125.000000    10001.000000        90.000000   \n",
       "\n",
       "       host_listings_count  \n",
       "count         15166.000000  \n",
       "mean              7.203481  \n",
       "std              30.171094  \n",
       "min               0.000000  \n",
       "25%               1.000000  \n",
       "50%               1.000000  \n",
       "75%               4.000000  \n",
       "max             411.000000  "
      ]
     },
     "execution_count": 32,
     "metadata": {},
     "output_type": "execute_result"
    }
   ],
   "source": [
    "data_df[[\"price\",\"minimum_nights\",\"maximum_nights\",\"availability_90\",\"host_listings_count\"]].describe()"
   ]
  },
  {
   "cell_type": "markdown",
   "id": "49fc0fd4",
   "metadata": {},
   "source": [
    "#### According to the AirBnB dataset\n",
    "\n",
    "- 75% of the values under variable \"price\" is around 200 dollars, yet the maximum price is 13,000 dollars.\n",
    "- 75% of the values under variable \"minimum_nights\" is around 28, yet the max shows 1125 nights.\n",
    "- 75% of the values under variable \"host_listings_count\" is under 4, yet the max value is 411.\n"
   ]
  },
  {
   "cell_type": "code",
   "execution_count": 33,
   "id": "bb10446f",
   "metadata": {},
   "outputs": [
    {
     "data": {
      "image/png": "[encoded data removed]",
      "text/plain": [
       "<Figure size 1080x216 with 1 Axes>"
      ]
     },
     "metadata": {
      "needs_background": "light"
     },
     "output_type": "display_data"
    },
    {
     "name": "stdout",
     "output_type": "stream",
     "text": [
      "price : values over 1000\n",
      "125 entries\n",
      "0.8242%\n"
     ]
    }
   ],
   "source": [
    "# Check the price column for outliers\n",
    "data_df.price.plot(kind=\"box\", vert=False, figsize=(15,3))\n",
    "plt.show()\n",
    "\n",
    "#Checking the quantity of values over 1500 in the price column\n",
    "print(\"price : values over 1000\")\n",
    "print(\"{} entries\".format(len(data_df[data_df.price>1000])))\n",
    "print(\"{:.4f}%\".format((len(data_df[data_df.price>1000])/data_df.shape[0])*100))"
   ]
  },
  {
   "cell_type": "code",
   "execution_count": 34,
   "id": "908392b2",
   "metadata": {},
   "outputs": [
    {
     "data": {
      "image/png": "[encoded data removed]",
      "text/plain": [
       "<Figure size 1080x216 with 1 Axes>"
      ]
     },
     "metadata": {
      "needs_background": "light"
     },
     "output_type": "display_data"
    },
    {
     "name": "stdout",
     "output_type": "stream",
     "text": [
      "minimum_nights : over 30 nights\n",
      "744 entries\n",
      "4.9057%\n"
     ]
    }
   ],
   "source": [
    "# Check the minimum_nights column for outliers\n",
    "data_df.minimum_nights.plot(kind=\"box\", vert=False, figsize=(15,3))\n",
    "plt.show()\n",
    "\n",
    "#Checking the quantity of minimum_nights over 30\n",
    "print(\"minimum_nights : over 30 nights\")\n",
    "print(\"{} entries\".format(len(data_df[data_df.minimum_nights>30])))\n",
    "print(\"{:.4f}%\".format((len(data_df[data_df.minimum_nights>30])/data_df.shape[0])*100))"
   ]
  },
  {
   "cell_type": "code",
   "execution_count": 35,
   "id": "67794dbf",
   "metadata": {},
   "outputs": [
    {
     "data": {
      "image/png": "[encoded data removed]",
      "text/plain": [
       "<Figure size 1080x216 with 1 Axes>"
      ]
     },
     "metadata": {
      "needs_background": "light"
     },
     "output_type": "display_data"
    },
    {
     "name": "stdout",
     "output_type": "stream",
     "text": [
      "Host Listings Count : values over 50\n",
      "291 entries\n",
      "1.9188%\n"
     ]
    }
   ],
   "source": [
    "# Check the host_listings_count column for outliers\n",
    "data_df.host_listings_count.plot(kind=\"box\", vert=False, figsize=(15,3))\n",
    "plt.show()\n",
    "\n",
    "#Checking the quantity of values over 50 in the host listings count column\n",
    "print(\"Host Listings Count : values over 50\")\n",
    "print(\"{} entries\".format(len(data_df[data_df.host_listings_count>50])))\n",
    "print(\"{:.4f}%\".format((len(data_df[data_df.host_listings_count>50])/data_df.shape[0])*100))"
   ]
  },
  {
   "cell_type": "code",
   "execution_count": 36,
   "id": "b118d27e",
   "metadata": {},
   "outputs": [
    {
     "data": {
      "text/plain": [
       "array([[<AxesSubplot:title={'center':'price'}>,\n",
       "        <AxesSubplot:title={'center':'minimum_nights'}>],\n",
       "       [<AxesSubplot:title={'center':'maximum_nights'}>,\n",
       "        <AxesSubplot:title={'center':'number_of_reviews'}>],\n",
       "       [<AxesSubplot:title={'center':'host_listings_count'}>,\n",
       "        <AxesSubplot:title={'center':'availability_90'}>]], dtype=object)"
      ]
     },
     "execution_count": 36,
     "metadata": {},
     "output_type": "execute_result"
    },
    {
     "data": {
      "image/png": "[encoded data removed]",
      "text/plain": [
       "<Figure size 1080x1080 with 6 Axes>"
      ]
     },
     "metadata": {
      "needs_background": "light"
     },
     "output_type": "display_data"
    }
   ],
   "source": [
    "# Create a clean dataframe without the outliers\n",
    "\n",
    "clean_data_df=data_df.copy()\n",
    "clean_data_df.drop(clean_data_df[clean_data_df.price>1000].index, axis=0, inplace=True)\n",
    "clean_data_df.drop(clean_data_df[clean_data_df.price>1000].index, axis=0, inplace=True)\n",
    "clean_data_df.drop(clean_data_df[clean_data_df.minimum_nights>30].index, axis=0, inplace=True)\n",
    "clean_data_df.drop(clean_data_df[clean_data_df.host_listings_count>50].index, axis=0, inplace=True)\n",
    "\n",
    "# Show clean data with histogram\n",
    "clean_data_df[[\"price\", \"minimum_nights\",\"maximum_nights\", \"number_of_reviews\", \"host_listings_count\", \"availability_90\",]].hist(bins=15, figsize=(15,15))"
   ]
  },
  {
   "cell_type": "code",
   "execution_count": 37,
   "id": "a3461637",
   "metadata": {},
   "outputs": [
    {
     "data": {
      "text/plain": [
       "(14016, 52)"
      ]
     },
     "execution_count": 37,
     "metadata": {},
     "output_type": "execute_result"
    }
   ],
   "source": [
    "clean_data_df.shape"
   ]
  },
  {
   "cell_type": "code",
   "execution_count": 38,
   "id": "633a88de",
   "metadata": {},
   "outputs": [
    {
     "data": {
      "text/html": [
       "<div>\n",
       "<style scoped>\n",
       "    .dataframe tbody tr th:only-of-type {\n",
       "        vertical-align: middle;\n",
       "    }\n",
       "\n",
       "    .dataframe tbody tr th {\n",
       "        vertical-align: top;\n",
       "    }\n",
       "\n",
       "    .dataframe thead th {\n",
       "        text-align: right;\n",
       "    }\n",
       "</style>\n",
       "<table border=\"1\" class=\"dataframe\">\n",
       "  <thead>\n",
       "    <tr style=\"text-align: right;\">\n",
       "      <th></th>\n",
       "      <th>id</th>\n",
       "      <th>name</th>\n",
       "      <th>host_since</th>\n",
       "      <th>host_response_time</th>\n",
       "      <th>host_is_superhost</th>\n",
       "      <th>host_listings_count</th>\n",
       "      <th>host_identity_verified</th>\n",
       "      <th>neighbourhood_cleansed</th>\n",
       "      <th>latitude</th>\n",
       "      <th>longitude</th>\n",
       "      <th>...</th>\n",
       "      <th>hot_tub_sauna_or_pool</th>\n",
       "      <th>room_features</th>\n",
       "      <th>other_facilities</th>\n",
       "      <th>private_entrance</th>\n",
       "      <th>parking</th>\n",
       "      <th>kitchen</th>\n",
       "      <th>elevator</th>\n",
       "      <th>gym</th>\n",
       "      <th>time_since_first_review</th>\n",
       "      <th>time_since_last_review</th>\n",
       "    </tr>\n",
       "  </thead>\n",
       "  <tbody>\n",
       "    <tr>\n",
       "      <th>0</th>\n",
       "      <td>1419</td>\n",
       "      <td>Beautiful home in amazing area!</td>\n",
       "      <td>2008-08-08</td>\n",
       "      <td>unknown</td>\n",
       "      <td>f</td>\n",
       "      <td>1.0</td>\n",
       "      <td>t</td>\n",
       "      <td>Little Portugal</td>\n",
       "      <td>43.64590</td>\n",
       "      <td>-79.42423</td>\n",
       "      <td>...</td>\n",
       "      <td>0.0</td>\n",
       "      <td>0.0</td>\n",
       "      <td>0.0</td>\n",
       "      <td>0.0</td>\n",
       "      <td>0.0</td>\n",
       "      <td>1.0</td>\n",
       "      <td>0.0</td>\n",
       "      <td>0.0</td>\n",
       "      <td>4+years</td>\n",
       "      <td>1+ years</td>\n",
       "    </tr>\n",
       "    <tr>\n",
       "      <th>4</th>\n",
       "      <td>40456</td>\n",
       "      <td>Downtown- King Size Bed and Parking</td>\n",
       "      <td>2010-07-20</td>\n",
       "      <td>within an hour</td>\n",
       "      <td>t</td>\n",
       "      <td>3.0</td>\n",
       "      <td>t</td>\n",
       "      <td>South Parkdale</td>\n",
       "      <td>43.63539</td>\n",
       "      <td>-79.44010</td>\n",
       "      <td>...</td>\n",
       "      <td>0.0</td>\n",
       "      <td>1.0</td>\n",
       "      <td>1.0</td>\n",
       "      <td>1.0</td>\n",
       "      <td>1.0</td>\n",
       "      <td>1.0</td>\n",
       "      <td>0.0</td>\n",
       "      <td>0.0</td>\n",
       "      <td>4+years</td>\n",
       "      <td>3-6 months</td>\n",
       "    </tr>\n",
       "    <tr>\n",
       "      <th>6</th>\n",
       "      <td>43964</td>\n",
       "      <td>Entire 2-bedrm basement private entry free par...</td>\n",
       "      <td>2010-08-05</td>\n",
       "      <td>within an hour</td>\n",
       "      <td>f</td>\n",
       "      <td>1.0</td>\n",
       "      <td>t</td>\n",
       "      <td>Wexford/Maryvale</td>\n",
       "      <td>43.74922</td>\n",
       "      <td>-79.29188</td>\n",
       "      <td>...</td>\n",
       "      <td>0.0</td>\n",
       "      <td>1.0</td>\n",
       "      <td>1.0</td>\n",
       "      <td>1.0</td>\n",
       "      <td>1.0</td>\n",
       "      <td>1.0</td>\n",
       "      <td>0.0</td>\n",
       "      <td>0.0</td>\n",
       "      <td>4+years</td>\n",
       "      <td>within 1 month</td>\n",
       "    </tr>\n",
       "    <tr>\n",
       "      <th>7</th>\n",
       "      <td>573892</td>\n",
       "      <td>DOWNTOWN TORONTO LUXURY FURNISHED CORPORATE SUITE</td>\n",
       "      <td>2012-04-19</td>\n",
       "      <td>within an hour</td>\n",
       "      <td>f</td>\n",
       "      <td>6.0</td>\n",
       "      <td>t</td>\n",
       "      <td>Waterfront Communities-The Island</td>\n",
       "      <td>43.64278</td>\n",
       "      <td>-79.37985</td>\n",
       "      <td>...</td>\n",
       "      <td>1.0</td>\n",
       "      <td>1.0</td>\n",
       "      <td>1.0</td>\n",
       "      <td>0.0</td>\n",
       "      <td>1.0</td>\n",
       "      <td>1.0</td>\n",
       "      <td>1.0</td>\n",
       "      <td>1.0</td>\n",
       "      <td>4+years</td>\n",
       "      <td>1-3 months</td>\n",
       "    </tr>\n",
       "    <tr>\n",
       "      <th>8</th>\n",
       "      <td>579918</td>\n",
       "      <td>Luxury Queen West Private Loft</td>\n",
       "      <td>2011-09-14</td>\n",
       "      <td>unknown</td>\n",
       "      <td>f</td>\n",
       "      <td>1.0</td>\n",
       "      <td>t</td>\n",
       "      <td>Niagara</td>\n",
       "      <td>43.63987</td>\n",
       "      <td>-79.42034</td>\n",
       "      <td>...</td>\n",
       "      <td>1.0</td>\n",
       "      <td>1.0</td>\n",
       "      <td>1.0</td>\n",
       "      <td>0.0</td>\n",
       "      <td>1.0</td>\n",
       "      <td>1.0</td>\n",
       "      <td>1.0</td>\n",
       "      <td>1.0</td>\n",
       "      <td>4+years</td>\n",
       "      <td>1+ years</td>\n",
       "    </tr>\n",
       "  </tbody>\n",
       "</table>\n",
       "<p>5 rows × 52 columns</p>\n",
       "</div>"
      ],
      "text/plain": [
       "       id                                               name host_since  \\\n",
       "0    1419                    Beautiful home in amazing area! 2008-08-08   \n",
       "4   40456                Downtown- King Size Bed and Parking 2010-07-20   \n",
       "6   43964  Entire 2-bedrm basement private entry free par... 2010-08-05   \n",
       "7  573892  DOWNTOWN TORONTO LUXURY FURNISHED CORPORATE SUITE 2012-04-19   \n",
       "8  579918                     Luxury Queen West Private Loft 2011-09-14   \n",
       "\n",
       "  host_response_time host_is_superhost  host_listings_count  \\\n",
       "0            unknown                 f                  1.0   \n",
       "4     within an hour                 t                  3.0   \n",
       "6     within an hour                 f                  1.0   \n",
       "7     within an hour                 f                  6.0   \n",
       "8            unknown                 f                  1.0   \n",
       "\n",
       "  host_identity_verified             neighbourhood_cleansed  latitude  \\\n",
       "0                      t                    Little Portugal  43.64590   \n",
       "4                      t                     South Parkdale  43.63539   \n",
       "6                      t                   Wexford/Maryvale  43.74922   \n",
       "7                      t  Waterfront Communities-The Island  43.64278   \n",
       "8                      t                            Niagara  43.63987   \n",
       "\n",
       "   longitude  ... hot_tub_sauna_or_pool room_features  other_facilities  \\\n",
       "0  -79.42423  ...                   0.0           0.0               0.0   \n",
       "4  -79.44010  ...                   0.0           1.0               1.0   \n",
       "6  -79.29188  ...                   0.0           1.0               1.0   \n",
       "7  -79.37985  ...                   1.0           1.0               1.0   \n",
       "8  -79.42034  ...                   1.0           1.0               1.0   \n",
       "\n",
       "   private_entrance  parking  kitchen  elevator  gym  time_since_first_review  \\\n",
       "0               0.0      0.0      1.0       0.0  0.0                  4+years   \n",
       "4               1.0      1.0      1.0       0.0  0.0                  4+years   \n",
       "6               1.0      1.0      1.0       0.0  0.0                  4+years   \n",
       "7               0.0      1.0      1.0       1.0  1.0                  4+years   \n",
       "8               0.0      1.0      1.0       1.0  1.0                  4+years   \n",
       "\n",
       "   time_since_last_review  \n",
       "0                1+ years  \n",
       "4              3-6 months  \n",
       "6          within 1 month  \n",
       "7              1-3 months  \n",
       "8                1+ years  \n",
       "\n",
       "[5 rows x 52 columns]"
      ]
     },
     "execution_count": 38,
     "metadata": {},
     "output_type": "execute_result"
    }
   ],
   "source": [
    "clean_data_df.head()"
   ]
  },
  {
   "cell_type": "code",
   "execution_count": 39,
   "id": "aae8705c",
   "metadata": {},
   "outputs": [
    {
     "data": {
      "text/plain": [
       "Index(['id', 'name', 'host_since', 'host_response_time', 'host_is_superhost',\n",
       "       'host_listings_count', 'host_identity_verified',\n",
       "       'neighbourhood_cleansed', 'latitude', 'longitude', 'property_type',\n",
       "       'room_type', 'accommodates', 'bedrooms', 'beds', 'price',\n",
       "       'minimum_nights', 'maximum_nights', 'availability_90',\n",
       "       'number_of_reviews', 'number_of_reviews_ltm', 'review_scores_rating',\n",
       "       'review_scores_accuracy', 'review_scores_cleanliness',\n",
       "       'review_scores_checkin', 'review_scores_communication',\n",
       "       'review_scores_location', 'review_scores_value', 'instant_bookable',\n",
       "       'host_active_days', 'host_response_rate_new', 'toiletries',\n",
       "       'high_end_electronics', 'ac_heater', 'internet', 'bbq',\n",
       "       'home_appliances', 'coffee_machine', 'long_term_stays', 'host_greeting',\n",
       "       'safety', 'outdoor_space', 'hot_tub_sauna_or_pool', 'room_features',\n",
       "       'other_facilities', 'private_entrance', 'parking', 'kitchen',\n",
       "       'elevator', 'gym', 'time_since_first_review', 'time_since_last_review'],\n",
       "      dtype='object')"
      ]
     },
     "execution_count": 39,
     "metadata": {},
     "output_type": "execute_result"
    }
   ],
   "source": [
    "clean_data_df.columns"
   ]
  },
  {
   "cell_type": "code",
   "execution_count": null,
   "id": "8977d132",
   "metadata": {},
   "outputs": [],
   "source": []
  }
 ],
 "metadata": {
  "kernelspec": {
   "display_name": "mlenv",
   "language": "python",
   "name": "mlenv"
  },
  "language_info": {
   "codemirror_mode": {
    "name": "ipython",
    "version": 3
   },
   "file_extension": ".py",
   "mimetype": "text/x-python",
   "name": "python",
   "nbconvert_exporter": "python",
   "pygments_lexer": "ipython3",
   "version": "3.7.13"
  }
 },
 "nbformat": 4,
 "nbformat_minor": 5
}
