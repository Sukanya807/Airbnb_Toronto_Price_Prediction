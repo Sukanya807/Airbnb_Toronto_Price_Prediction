{
 "cells": [
  {
   "cell_type": "code",
   "execution_count": 1,
   "id": "14e62167",
   "metadata": {},
   "outputs": [],
   "source": [
    "# Import Libraries\n",
    "%matplotlib inline\n",
    "import psycopg2\n",
    "import pandas as pd\n",
    "import numpy as np\n",
    "import matplotlib.pyplot as plt\n",
    "import os\n",
    "import time\n",
    "from config_user_dta import config\n",
    "from bs4 import BeautifulSoup\n",
    "import requests\n",
    "import boto3\n",
    "import geopandas as gpd\n",
    "import geocoder\n",
    "import geopy\n",
    "import datetime\n",
    "from config import aws_access_key, aws_secret_access"
   ]
  },
  {
   "cell_type": "code",
   "execution_count": 2,
   "id": "754846f7",
   "metadata": {},
   "outputs": [],
   "source": [
    "#Read the files from AWS bucket\n",
    "listings_df=pd.read_csv(\"s3://bc-final-airbnb-data/listings.csv.gz\", storage_options={\"anon\":True})\n",
    "calendar_df=pd.read_csv(\"s3://bc-final-airbnb-data/calendar.csv.gz\", storage_options={\"anon\":True})"
   ]
  },
  {
   "cell_type": "code",
   "execution_count": 3,
   "id": "1a9f6355",
   "metadata": {
    "scrolled": true
   },
   "outputs": [
    {
     "data": {
      "text/html": [
       "<div>\n",
       "<style scoped>\n",
       "    .dataframe tbody tr th:only-of-type {\n",
       "        vertical-align: middle;\n",
       "    }\n",
       "\n",
       "    .dataframe tbody tr th {\n",
       "        vertical-align: top;\n",
       "    }\n",
       "\n",
       "    .dataframe thead th {\n",
       "        text-align: right;\n",
       "    }\n",
       "</style>\n",
       "<table border=\"1\" class=\"dataframe\">\n",
       "  <thead>\n",
       "    <tr style=\"text-align: right;\">\n",
       "      <th></th>\n",
       "      <th>id</th>\n",
       "      <th>listing_url</th>\n",
       "      <th>scrape_id</th>\n",
       "      <th>last_scraped</th>\n",
       "      <th>name</th>\n",
       "      <th>description</th>\n",
       "      <th>neighborhood_overview</th>\n",
       "      <th>picture_url</th>\n",
       "      <th>host_id</th>\n",
       "      <th>host_url</th>\n",
       "      <th>...</th>\n",
       "      <th>review_scores_communication</th>\n",
       "      <th>review_scores_location</th>\n",
       "      <th>review_scores_value</th>\n",
       "      <th>license</th>\n",
       "      <th>instant_bookable</th>\n",
       "      <th>calculated_host_listings_count</th>\n",
       "      <th>calculated_host_listings_count_entire_homes</th>\n",
       "      <th>calculated_host_listings_count_private_rooms</th>\n",
       "      <th>calculated_host_listings_count_shared_rooms</th>\n",
       "      <th>reviews_per_month</th>\n",
       "    </tr>\n",
       "  </thead>\n",
       "  <tbody>\n",
       "    <tr>\n",
       "      <th>0</th>\n",
       "      <td>1419</td>\n",
       "      <td>https://www.airbnb.com/rooms/1419</td>\n",
       "      <td>20220605131750</td>\n",
       "      <td>2022-06-06</td>\n",
       "      <td>Beautiful home in amazing area!</td>\n",
       "      <td>This large, family home is located in one of T...</td>\n",
       "      <td>The apartment is located in the Ossington stri...</td>\n",
       "      <td>https://a0.muscache.com/pictures/76206750/d643...</td>\n",
       "      <td>1565</td>\n",
       "      <td>https://www.airbnb.com/users/show/1565</td>\n",
       "      <td>...</td>\n",
       "      <td>5.00</td>\n",
       "      <td>5.00</td>\n",
       "      <td>5.00</td>\n",
       "      <td>NaN</td>\n",
       "      <td>f</td>\n",
       "      <td>1</td>\n",
       "      <td>1</td>\n",
       "      <td>0</td>\n",
       "      <td>0</td>\n",
       "      <td>0.08</td>\n",
       "    </tr>\n",
       "    <tr>\n",
       "      <th>1</th>\n",
       "      <td>8077</td>\n",
       "      <td>https://www.airbnb.com/rooms/8077</td>\n",
       "      <td>20220605131750</td>\n",
       "      <td>2022-06-05</td>\n",
       "      <td>Downtown Harbourfront Private Room</td>\n",
       "      <td>Guest room in a luxury condo with access to al...</td>\n",
       "      <td>NaN</td>\n",
       "      <td>https://a0.muscache.com/pictures/11780344/141c...</td>\n",
       "      <td>22795</td>\n",
       "      <td>https://www.airbnb.com/users/show/22795</td>\n",
       "      <td>...</td>\n",
       "      <td>4.90</td>\n",
       "      <td>4.92</td>\n",
       "      <td>4.83</td>\n",
       "      <td>NaN</td>\n",
       "      <td>t</td>\n",
       "      <td>2</td>\n",
       "      <td>1</td>\n",
       "      <td>1</td>\n",
       "      <td>0</td>\n",
       "      <td>1.08</td>\n",
       "    </tr>\n",
       "    <tr>\n",
       "      <th>2</th>\n",
       "      <td>27423</td>\n",
       "      <td>https://www.airbnb.com/rooms/27423</td>\n",
       "      <td>20220605131750</td>\n",
       "      <td>2022-06-05</td>\n",
       "      <td>Executive Studio Unit- Ideal for One Person</td>\n",
       "      <td>Brand new, fully furnished studio basement apa...</td>\n",
       "      <td>NaN</td>\n",
       "      <td>https://a0.muscache.com/pictures/176936/b687ed...</td>\n",
       "      <td>118124</td>\n",
       "      <td>https://www.airbnb.com/users/show/118124</td>\n",
       "      <td>...</td>\n",
       "      <td>5.00</td>\n",
       "      <td>4.82</td>\n",
       "      <td>4.82</td>\n",
       "      <td>NaN</td>\n",
       "      <td>f</td>\n",
       "      <td>1</td>\n",
       "      <td>1</td>\n",
       "      <td>0</td>\n",
       "      <td>0</td>\n",
       "      <td>0.18</td>\n",
       "    </tr>\n",
       "    <tr>\n",
       "      <th>3</th>\n",
       "      <td>30931</td>\n",
       "      <td>https://www.airbnb.com/rooms/30931</td>\n",
       "      <td>20220605131750</td>\n",
       "      <td>2022-06-05</td>\n",
       "      <td>Downtown Toronto - Waterview Condo</td>\n",
       "      <td>Split level waterfront condo with a breathtaki...</td>\n",
       "      <td>NaN</td>\n",
       "      <td>https://a0.muscache.com/pictures/227971/e8ebd7...</td>\n",
       "      <td>22795</td>\n",
       "      <td>https://www.airbnb.com/users/show/22795</td>\n",
       "      <td>...</td>\n",
       "      <td>NaN</td>\n",
       "      <td>NaN</td>\n",
       "      <td>NaN</td>\n",
       "      <td>NaN</td>\n",
       "      <td>f</td>\n",
       "      <td>2</td>\n",
       "      <td>1</td>\n",
       "      <td>1</td>\n",
       "      <td>0</td>\n",
       "      <td>0.01</td>\n",
       "    </tr>\n",
       "    <tr>\n",
       "      <th>4</th>\n",
       "      <td>40456</td>\n",
       "      <td>https://www.airbnb.com/rooms/40456</td>\n",
       "      <td>20220605131750</td>\n",
       "      <td>2022-06-05</td>\n",
       "      <td>Downtown- King Size Bed and Parking</td>\n",
       "      <td>---------------------Renovated  and Newly Furn...</td>\n",
       "      <td>This is Nice Neighborhood located in Downtown ...</td>\n",
       "      <td>https://a0.muscache.com/pictures/b36b6ae3-20aa...</td>\n",
       "      <td>174063</td>\n",
       "      <td>https://www.airbnb.com/users/show/174063</td>\n",
       "      <td>...</td>\n",
       "      <td>4.96</td>\n",
       "      <td>4.57</td>\n",
       "      <td>4.68</td>\n",
       "      <td>NaN</td>\n",
       "      <td>f</td>\n",
       "      <td>4</td>\n",
       "      <td>4</td>\n",
       "      <td>0</td>\n",
       "      <td>0</td>\n",
       "      <td>0.79</td>\n",
       "    </tr>\n",
       "  </tbody>\n",
       "</table>\n",
       "<p>5 rows × 74 columns</p>\n",
       "</div>"
      ],
      "text/plain": [
       "      id                         listing_url       scrape_id last_scraped  \\\n",
       "0   1419   https://www.airbnb.com/rooms/1419  20220605131750   2022-06-06   \n",
       "1   8077   https://www.airbnb.com/rooms/8077  20220605131750   2022-06-05   \n",
       "2  27423  https://www.airbnb.com/rooms/27423  20220605131750   2022-06-05   \n",
       "3  30931  https://www.airbnb.com/rooms/30931  20220605131750   2022-06-05   \n",
       "4  40456  https://www.airbnb.com/rooms/40456  20220605131750   2022-06-05   \n",
       "\n",
       "                                          name  \\\n",
       "0              Beautiful home in amazing area!   \n",
       "1           Downtown Harbourfront Private Room   \n",
       "2  Executive Studio Unit- Ideal for One Person   \n",
       "3           Downtown Toronto - Waterview Condo   \n",
       "4          Downtown- King Size Bed and Parking   \n",
       "\n",
       "                                         description  \\\n",
       "0  This large, family home is located in one of T...   \n",
       "1  Guest room in a luxury condo with access to al...   \n",
       "2  Brand new, fully furnished studio basement apa...   \n",
       "3  Split level waterfront condo with a breathtaki...   \n",
       "4  ---------------------Renovated  and Newly Furn...   \n",
       "\n",
       "                               neighborhood_overview  \\\n",
       "0  The apartment is located in the Ossington stri...   \n",
       "1                                                NaN   \n",
       "2                                                NaN   \n",
       "3                                                NaN   \n",
       "4  This is Nice Neighborhood located in Downtown ...   \n",
       "\n",
       "                                         picture_url  host_id  \\\n",
       "0  https://a0.muscache.com/pictures/76206750/d643...     1565   \n",
       "1  https://a0.muscache.com/pictures/11780344/141c...    22795   \n",
       "2  https://a0.muscache.com/pictures/176936/b687ed...   118124   \n",
       "3  https://a0.muscache.com/pictures/227971/e8ebd7...    22795   \n",
       "4  https://a0.muscache.com/pictures/b36b6ae3-20aa...   174063   \n",
       "\n",
       "                                   host_url  ... review_scores_communication  \\\n",
       "0    https://www.airbnb.com/users/show/1565  ...                        5.00   \n",
       "1   https://www.airbnb.com/users/show/22795  ...                        4.90   \n",
       "2  https://www.airbnb.com/users/show/118124  ...                        5.00   \n",
       "3   https://www.airbnb.com/users/show/22795  ...                         NaN   \n",
       "4  https://www.airbnb.com/users/show/174063  ...                        4.96   \n",
       "\n",
       "  review_scores_location review_scores_value license instant_bookable  \\\n",
       "0                   5.00                5.00     NaN                f   \n",
       "1                   4.92                4.83     NaN                t   \n",
       "2                   4.82                4.82     NaN                f   \n",
       "3                    NaN                 NaN     NaN                f   \n",
       "4                   4.57                4.68     NaN                f   \n",
       "\n",
       "  calculated_host_listings_count calculated_host_listings_count_entire_homes  \\\n",
       "0                              1                                           1   \n",
       "1                              2                                           1   \n",
       "2                              1                                           1   \n",
       "3                              2                                           1   \n",
       "4                              4                                           4   \n",
       "\n",
       "  calculated_host_listings_count_private_rooms  \\\n",
       "0                                            0   \n",
       "1                                            1   \n",
       "2                                            0   \n",
       "3                                            1   \n",
       "4                                            0   \n",
       "\n",
       "  calculated_host_listings_count_shared_rooms reviews_per_month  \n",
       "0                                           0              0.08  \n",
       "1                                           0              1.08  \n",
       "2                                           0              0.18  \n",
       "3                                           0              0.01  \n",
       "4                                           0              0.79  \n",
       "\n",
       "[5 rows x 74 columns]"
      ]
     },
     "execution_count": 3,
     "metadata": {},
     "output_type": "execute_result"
    }
   ],
   "source": [
    "# Read listings dataframe\n",
    "listings_df.head()"
   ]
  },
  {
   "cell_type": "code",
   "execution_count": 4,
   "id": "9ad88367",
   "metadata": {},
   "outputs": [
    {
     "data": {
      "text/html": [
       "<div>\n",
       "<style scoped>\n",
       "    .dataframe tbody tr th:only-of-type {\n",
       "        vertical-align: middle;\n",
       "    }\n",
       "\n",
       "    .dataframe tbody tr th {\n",
       "        vertical-align: top;\n",
       "    }\n",
       "\n",
       "    .dataframe thead th {\n",
       "        text-align: right;\n",
       "    }\n",
       "</style>\n",
       "<table border=\"1\" class=\"dataframe\">\n",
       "  <thead>\n",
       "    <tr style=\"text-align: right;\">\n",
       "      <th></th>\n",
       "      <th>listing_id</th>\n",
       "      <th>date</th>\n",
       "      <th>available</th>\n",
       "      <th>price</th>\n",
       "      <th>adjusted_price</th>\n",
       "      <th>minimum_nights</th>\n",
       "      <th>maximum_nights</th>\n",
       "    </tr>\n",
       "  </thead>\n",
       "  <tbody>\n",
       "    <tr>\n",
       "      <th>0</th>\n",
       "      <td>1419</td>\n",
       "      <td>2022-06-06</td>\n",
       "      <td>f</td>\n",
       "      <td>$469.00</td>\n",
       "      <td>$469.00</td>\n",
       "      <td>28.0</td>\n",
       "      <td>730.0</td>\n",
       "    </tr>\n",
       "    <tr>\n",
       "      <th>1</th>\n",
       "      <td>1419</td>\n",
       "      <td>2022-06-07</td>\n",
       "      <td>f</td>\n",
       "      <td>$469.00</td>\n",
       "      <td>$469.00</td>\n",
       "      <td>28.0</td>\n",
       "      <td>730.0</td>\n",
       "    </tr>\n",
       "    <tr>\n",
       "      <th>2</th>\n",
       "      <td>1419</td>\n",
       "      <td>2022-06-08</td>\n",
       "      <td>f</td>\n",
       "      <td>$469.00</td>\n",
       "      <td>$469.00</td>\n",
       "      <td>28.0</td>\n",
       "      <td>730.0</td>\n",
       "    </tr>\n",
       "    <tr>\n",
       "      <th>3</th>\n",
       "      <td>1419</td>\n",
       "      <td>2022-06-09</td>\n",
       "      <td>f</td>\n",
       "      <td>$469.00</td>\n",
       "      <td>$469.00</td>\n",
       "      <td>28.0</td>\n",
       "      <td>730.0</td>\n",
       "    </tr>\n",
       "    <tr>\n",
       "      <th>4</th>\n",
       "      <td>1419</td>\n",
       "      <td>2022-06-10</td>\n",
       "      <td>f</td>\n",
       "      <td>$469.00</td>\n",
       "      <td>$469.00</td>\n",
       "      <td>28.0</td>\n",
       "      <td>730.0</td>\n",
       "    </tr>\n",
       "  </tbody>\n",
       "</table>\n",
       "</div>"
      ],
      "text/plain": [
       "   listing_id        date available    price adjusted_price  minimum_nights  \\\n",
       "0        1419  2022-06-06         f  $469.00        $469.00            28.0   \n",
       "1        1419  2022-06-07         f  $469.00        $469.00            28.0   \n",
       "2        1419  2022-06-08         f  $469.00        $469.00            28.0   \n",
       "3        1419  2022-06-09         f  $469.00        $469.00            28.0   \n",
       "4        1419  2022-06-10         f  $469.00        $469.00            28.0   \n",
       "\n",
       "   maximum_nights  \n",
       "0           730.0  \n",
       "1           730.0  \n",
       "2           730.0  \n",
       "3           730.0  \n",
       "4           730.0  "
      ]
     },
     "execution_count": 4,
     "metadata": {},
     "output_type": "execute_result"
    }
   ],
   "source": [
    "# Read calendar dataframe\n",
    "calendar_df.head()"
   ]
  },
  {
   "cell_type": "markdown",
   "id": "0b1703ee",
   "metadata": {},
   "source": [
    "# Data Cleaning and Transformation"
   ]
  },
  {
   "cell_type": "markdown",
   "id": "b4024b65",
   "metadata": {},
   "source": [
    "## Listings"
   ]
  },
  {
   "cell_type": "code",
   "execution_count": 5,
   "id": "791a7b23",
   "metadata": {
    "scrolled": true
   },
   "outputs": [
    {
     "data": {
      "text/plain": [
       "Index(['id', 'listing_url', 'scrape_id', 'last_scraped', 'name', 'description',\n",
       "       'neighborhood_overview', 'picture_url', 'host_id', 'host_url',\n",
       "       'host_name', 'host_since', 'host_location', 'host_about',\n",
       "       'host_response_time', 'host_response_rate', 'host_acceptance_rate',\n",
       "       'host_is_superhost', 'host_thumbnail_url', 'host_picture_url',\n",
       "       'host_neighbourhood', 'host_listings_count',\n",
       "       'host_total_listings_count', 'host_verifications',\n",
       "       'host_has_profile_pic', 'host_identity_verified', 'neighbourhood',\n",
       "       'neighbourhood_cleansed', 'neighbourhood_group_cleansed', 'latitude',\n",
       "       'longitude', 'property_type', 'room_type', 'accommodates', 'bathrooms',\n",
       "       'bathrooms_text', 'bedrooms', 'beds', 'amenities', 'price',\n",
       "       'minimum_nights', 'maximum_nights', 'minimum_minimum_nights',\n",
       "       'maximum_minimum_nights', 'minimum_maximum_nights',\n",
       "       'maximum_maximum_nights', 'minimum_nights_avg_ntm',\n",
       "       'maximum_nights_avg_ntm', 'calendar_updated', 'has_availability',\n",
       "       'availability_30', 'availability_60', 'availability_90',\n",
       "       'availability_365', 'calendar_last_scraped', 'number_of_reviews',\n",
       "       'number_of_reviews_ltm', 'number_of_reviews_l30d', 'first_review',\n",
       "       'last_review', 'review_scores_rating', 'review_scores_accuracy',\n",
       "       'review_scores_cleanliness', 'review_scores_checkin',\n",
       "       'review_scores_communication', 'review_scores_location',\n",
       "       'review_scores_value', 'license', 'instant_bookable',\n",
       "       'calculated_host_listings_count',\n",
       "       'calculated_host_listings_count_entire_homes',\n",
       "       'calculated_host_listings_count_private_rooms',\n",
       "       'calculated_host_listings_count_shared_rooms', 'reviews_per_month'],\n",
       "      dtype='object')"
      ]
     },
     "execution_count": 5,
     "metadata": {},
     "output_type": "execute_result"
    }
   ],
   "source": [
    "#Check the columns in the dataset\n",
    "listings_df.columns"
   ]
  },
  {
   "cell_type": "markdown",
   "id": "55988bab",
   "metadata": {},
   "source": [
    "#### The aim of this project is to predict AirBnB prices. Since we are not using Natural Language Processing, we will drop the columns that are not required for the purpose of this project."
   ]
  },
  {
   "cell_type": "code",
   "execution_count": 6,
   "id": "925821a8",
   "metadata": {},
   "outputs": [
    {
     "data": {
      "text/html": [
       "<div>\n",
       "<style scoped>\n",
       "    .dataframe tbody tr th:only-of-type {\n",
       "        vertical-align: middle;\n",
       "    }\n",
       "\n",
       "    .dataframe tbody tr th {\n",
       "        vertical-align: top;\n",
       "    }\n",
       "\n",
       "    .dataframe thead th {\n",
       "        text-align: right;\n",
       "    }\n",
       "</style>\n",
       "<table border=\"1\" class=\"dataframe\">\n",
       "  <thead>\n",
       "    <tr style=\"text-align: right;\">\n",
       "      <th></th>\n",
       "      <th>id</th>\n",
       "      <th>host_since</th>\n",
       "      <th>host_response_time</th>\n",
       "      <th>host_response_rate</th>\n",
       "      <th>host_is_superhost</th>\n",
       "      <th>host_listings_count</th>\n",
       "      <th>host_identity_verified</th>\n",
       "      <th>neighbourhood_cleansed</th>\n",
       "      <th>latitude</th>\n",
       "      <th>longitude</th>\n",
       "      <th>...</th>\n",
       "      <th>first_review</th>\n",
       "      <th>last_review</th>\n",
       "      <th>review_scores_rating</th>\n",
       "      <th>review_scores_accuracy</th>\n",
       "      <th>review_scores_cleanliness</th>\n",
       "      <th>review_scores_checkin</th>\n",
       "      <th>review_scores_communication</th>\n",
       "      <th>review_scores_location</th>\n",
       "      <th>review_scores_value</th>\n",
       "      <th>instant_bookable</th>\n",
       "    </tr>\n",
       "  </thead>\n",
       "  <tbody>\n",
       "    <tr>\n",
       "      <th>0</th>\n",
       "      <td>1419</td>\n",
       "      <td>2008-08-08</td>\n",
       "      <td>NaN</td>\n",
       "      <td>NaN</td>\n",
       "      <td>f</td>\n",
       "      <td>1.0</td>\n",
       "      <td>t</td>\n",
       "      <td>Little Portugal</td>\n",
       "      <td>43.64590</td>\n",
       "      <td>-79.42423</td>\n",
       "      <td>...</td>\n",
       "      <td>2015-07-19</td>\n",
       "      <td>2017-12-04</td>\n",
       "      <td>5.00</td>\n",
       "      <td>5.00</td>\n",
       "      <td>5.00</td>\n",
       "      <td>5.00</td>\n",
       "      <td>5.00</td>\n",
       "      <td>5.00</td>\n",
       "      <td>5.00</td>\n",
       "      <td>f</td>\n",
       "    </tr>\n",
       "    <tr>\n",
       "      <th>1</th>\n",
       "      <td>8077</td>\n",
       "      <td>2009-06-22</td>\n",
       "      <td>NaN</td>\n",
       "      <td>NaN</td>\n",
       "      <td>f</td>\n",
       "      <td>2.0</td>\n",
       "      <td>f</td>\n",
       "      <td>Waterfront Communities-The Island</td>\n",
       "      <td>43.64080</td>\n",
       "      <td>-79.37673</td>\n",
       "      <td>...</td>\n",
       "      <td>2009-08-20</td>\n",
       "      <td>2013-08-27</td>\n",
       "      <td>4.84</td>\n",
       "      <td>4.81</td>\n",
       "      <td>4.89</td>\n",
       "      <td>4.87</td>\n",
       "      <td>4.90</td>\n",
       "      <td>4.92</td>\n",
       "      <td>4.83</td>\n",
       "      <td>t</td>\n",
       "    </tr>\n",
       "    <tr>\n",
       "      <th>2</th>\n",
       "      <td>27423</td>\n",
       "      <td>2010-05-04</td>\n",
       "      <td>within a few hours</td>\n",
       "      <td>100%</td>\n",
       "      <td>f</td>\n",
       "      <td>1.0</td>\n",
       "      <td>t</td>\n",
       "      <td>South Riverdale</td>\n",
       "      <td>43.66884</td>\n",
       "      <td>-79.32725</td>\n",
       "      <td>...</td>\n",
       "      <td>2010-06-07</td>\n",
       "      <td>2011-08-30</td>\n",
       "      <td>4.92</td>\n",
       "      <td>5.00</td>\n",
       "      <td>4.82</td>\n",
       "      <td>5.00</td>\n",
       "      <td>5.00</td>\n",
       "      <td>4.82</td>\n",
       "      <td>4.82</td>\n",
       "      <td>f</td>\n",
       "    </tr>\n",
       "    <tr>\n",
       "      <th>3</th>\n",
       "      <td>30931</td>\n",
       "      <td>2009-06-22</td>\n",
       "      <td>NaN</td>\n",
       "      <td>NaN</td>\n",
       "      <td>f</td>\n",
       "      <td>2.0</td>\n",
       "      <td>f</td>\n",
       "      <td>Waterfront Communities-The Island</td>\n",
       "      <td>43.64015</td>\n",
       "      <td>-79.37625</td>\n",
       "      <td>...</td>\n",
       "      <td>2010-08-11</td>\n",
       "      <td>2010-08-11</td>\n",
       "      <td>5.00</td>\n",
       "      <td>NaN</td>\n",
       "      <td>NaN</td>\n",
       "      <td>NaN</td>\n",
       "      <td>NaN</td>\n",
       "      <td>NaN</td>\n",
       "      <td>NaN</td>\n",
       "      <td>f</td>\n",
       "    </tr>\n",
       "    <tr>\n",
       "      <th>4</th>\n",
       "      <td>40456</td>\n",
       "      <td>2010-07-20</td>\n",
       "      <td>within an hour</td>\n",
       "      <td>100%</td>\n",
       "      <td>t</td>\n",
       "      <td>3.0</td>\n",
       "      <td>t</td>\n",
       "      <td>South Parkdale</td>\n",
       "      <td>43.63539</td>\n",
       "      <td>-79.44010</td>\n",
       "      <td>...</td>\n",
       "      <td>2010-08-03</td>\n",
       "      <td>2022-01-29</td>\n",
       "      <td>4.63</td>\n",
       "      <td>4.64</td>\n",
       "      <td>4.66</td>\n",
       "      <td>4.95</td>\n",
       "      <td>4.96</td>\n",
       "      <td>4.57</td>\n",
       "      <td>4.68</td>\n",
       "      <td>f</td>\n",
       "    </tr>\n",
       "  </tbody>\n",
       "</table>\n",
       "<p>5 rows × 36 columns</p>\n",
       "</div>"
      ],
      "text/plain": [
       "      id  host_since  host_response_time host_response_rate host_is_superhost  \\\n",
       "0   1419  2008-08-08                 NaN                NaN                 f   \n",
       "1   8077  2009-06-22                 NaN                NaN                 f   \n",
       "2  27423  2010-05-04  within a few hours               100%                 f   \n",
       "3  30931  2009-06-22                 NaN                NaN                 f   \n",
       "4  40456  2010-07-20      within an hour               100%                 t   \n",
       "\n",
       "   host_listings_count host_identity_verified  \\\n",
       "0                  1.0                      t   \n",
       "1                  2.0                      f   \n",
       "2                  1.0                      t   \n",
       "3                  2.0                      f   \n",
       "4                  3.0                      t   \n",
       "\n",
       "              neighbourhood_cleansed  latitude  longitude  ... first_review  \\\n",
       "0                    Little Portugal  43.64590  -79.42423  ...   2015-07-19   \n",
       "1  Waterfront Communities-The Island  43.64080  -79.37673  ...   2009-08-20   \n",
       "2                    South Riverdale  43.66884  -79.32725  ...   2010-06-07   \n",
       "3  Waterfront Communities-The Island  43.64015  -79.37625  ...   2010-08-11   \n",
       "4                     South Parkdale  43.63539  -79.44010  ...   2010-08-03   \n",
       "\n",
       "  last_review  review_scores_rating  review_scores_accuracy  \\\n",
       "0  2017-12-04                  5.00                    5.00   \n",
       "1  2013-08-27                  4.84                    4.81   \n",
       "2  2011-08-30                  4.92                    5.00   \n",
       "3  2010-08-11                  5.00                     NaN   \n",
       "4  2022-01-29                  4.63                    4.64   \n",
       "\n",
       "   review_scores_cleanliness  review_scores_checkin  \\\n",
       "0                       5.00                   5.00   \n",
       "1                       4.89                   4.87   \n",
       "2                       4.82                   5.00   \n",
       "3                        NaN                    NaN   \n",
       "4                       4.66                   4.95   \n",
       "\n",
       "  review_scores_communication review_scores_location  review_scores_value  \\\n",
       "0                        5.00                   5.00                 5.00   \n",
       "1                        4.90                   4.92                 4.83   \n",
       "2                        5.00                   4.82                 4.82   \n",
       "3                         NaN                    NaN                  NaN   \n",
       "4                        4.96                   4.57                 4.68   \n",
       "\n",
       "   instant_bookable  \n",
       "0                 f  \n",
       "1                 t  \n",
       "2                 f  \n",
       "3                 f  \n",
       "4                 f  \n",
       "\n",
       "[5 rows x 36 columns]"
      ]
     },
     "execution_count": 6,
     "metadata": {},
     "output_type": "execute_result"
    }
   ],
   "source": [
    "cols_to_drop=['listing_url', 'scrape_id', 'last_scraped', 'name', 'description', 'neighborhood_overview','picture_url','host_id',\n",
    "              'host_url','host_name', 'host_location','host_about', 'host_thumbnail_url', 'host_picture_url', 'host_neighbourhood',\n",
    "              'host_verifications', 'bathrooms_text', 'host_acceptance_rate', 'neighbourhood_group_cleansed','minimum_minimum_nights',\n",
    "              'maximum_minimum_nights', 'minimum_minimum_nights', 'minimum_maximum_nights', 'maximum_maximum_nights', 'minimum_nights_avg_ntm',\n",
    "              'calendar_last_scraped', 'license','calculated_host_listings_count', 'calculated_host_listings_count_entire_homes',\n",
    "              'calculated_host_listings_count_private_rooms', 'calculated_host_listings_count_shared_rooms','host_has_profile_pic',\n",
    "              'maximum_nights_avg_ntm', 'has_availability', 'number_of_reviews_l30d','host_total_listings_count','neighbourhood','calendar_updated','reviews_per_month']\n",
    "             \n",
    "    \n",
    "listings_df=listings_df.drop(cols_to_drop, axis=1)\n",
    "listings_df.head()"
   ]
  },
  {
   "cell_type": "code",
   "execution_count": 7,
   "id": "a3e2153a",
   "metadata": {},
   "outputs": [
    {
     "name": "stdout",
     "output_type": "stream",
     "text": [
      "<class 'pandas.core.frame.DataFrame'>\n",
      "RangeIndex: 15171 entries, 0 to 15170\n",
      "Data columns (total 36 columns):\n",
      " #   Column                       Non-Null Count  Dtype  \n",
      "---  ------                       --------------  -----  \n",
      " 0   id                           15171 non-null  int64  \n",
      " 1   host_since                   15168 non-null  object \n",
      " 2   host_response_time           10451 non-null  object \n",
      " 3   host_response_rate           10451 non-null  object \n",
      " 4   host_is_superhost            15168 non-null  object \n",
      " 5   host_listings_count          15168 non-null  float64\n",
      " 6   host_identity_verified       15168 non-null  object \n",
      " 7   neighbourhood_cleansed       15171 non-null  object \n",
      " 8   latitude                     15171 non-null  float64\n",
      " 9   longitude                    15171 non-null  float64\n",
      " 10  property_type                15171 non-null  object \n",
      " 11  room_type                    15171 non-null  object \n",
      " 12  accommodates                 15171 non-null  int64  \n",
      " 13  bathrooms                    0 non-null      float64\n",
      " 14  bedrooms                     14129 non-null  float64\n",
      " 15  beds                         14926 non-null  float64\n",
      " 16  amenities                    15171 non-null  object \n",
      " 17  price                        15171 non-null  object \n",
      " 18  minimum_nights               15171 non-null  int64  \n",
      " 19  maximum_nights               15171 non-null  int64  \n",
      " 20  availability_30              15171 non-null  int64  \n",
      " 21  availability_60              15171 non-null  int64  \n",
      " 22  availability_90              15171 non-null  int64  \n",
      " 23  availability_365             15171 non-null  int64  \n",
      " 24  number_of_reviews            15171 non-null  int64  \n",
      " 25  number_of_reviews_ltm        15171 non-null  int64  \n",
      " 26  first_review                 11948 non-null  object \n",
      " 27  last_review                  11948 non-null  object \n",
      " 28  review_scores_rating         11948 non-null  float64\n",
      " 29  review_scores_accuracy       11799 non-null  float64\n",
      " 30  review_scores_cleanliness    11801 non-null  float64\n",
      " 31  review_scores_checkin        11798 non-null  float64\n",
      " 32  review_scores_communication  11798 non-null  float64\n",
      " 33  review_scores_location       11797 non-null  float64\n",
      " 34  review_scores_value          11798 non-null  float64\n",
      " 35  instant_bookable             15171 non-null  object \n",
      "dtypes: float64(13), int64(10), object(13)\n",
      "memory usage: 4.2+ MB\n"
     ]
    }
   ],
   "source": [
    "# Check for null values\n",
    "listings_df.info()"
   ]
  },
  {
   "cell_type": "markdown",
   "id": "63a6ee7a",
   "metadata": {},
   "source": [
    "#### Cleaning and Transforming Individual Columns"
   ]
  },
  {
   "cell_type": "code",
   "execution_count": 8,
   "id": "e00b2816",
   "metadata": {},
   "outputs": [
    {
     "name": "stdout",
     "output_type": "stream",
     "text": [
      "2083.97\n",
      "2134.0\n"
     ]
    },
    {
     "name": "stderr",
     "output_type": "stream",
     "text": [
      "C:\\Users\\carol\\.conda\\envs\\mlenv\\lib\\site-packages\\ipykernel_launcher.py:6: FutureWarning: The pandas.datetime class is deprecated and will be removed from pandas in a future version. Import from datetime module instead.\n",
      "  \n"
     ]
    }
   ],
   "source": [
    "# host_since\n",
    "#Convert object to datetime\n",
    "listings_df[\"host_since\"]=pd.to_datetime(listings_df[\"host_since\"])\n",
    "\n",
    "#Calculate the number of days\n",
    "listings_df[\"host_active_days\"]=(pd.datetime(2022,6, 6)-listings_df[\"host_since\"]).astype('timedelta64[D]')\n",
    "\n",
    "#Calculate the mean and median\n",
    "print(round(listings_df[\"host_active_days\"].mean(),2))\n",
    "print(listings_df[\"host_active_days\"].median())\n",
    "\n",
    "# Fill the null values with median values\n",
    "listings_df[\"host_active_days\"].fillna(listings_df[\"host_active_days\"].median(), inplace=True)\n",
    "\n",
    "#Drop the original column\n",
    "listings_df.drop([\"host_since\"], axis=1, inplace=True)"
   ]
  },
  {
   "cell_type": "code",
   "execution_count": 9,
   "id": "6ad6c30d",
   "metadata": {},
   "outputs": [
    {
     "name": "stdout",
     "output_type": "stream",
     "text": [
      "Null Values: 4720\n",
      "Proportion: 31.1\n"
     ]
    },
    {
     "data": {
      "text/plain": [
       "within an hour        6393\n",
       "unknown               4720\n",
       "within a few hours    2051\n",
       "within a day          1431\n",
       "a few days or more     576\n",
       "Name: host_response_time, dtype: int64"
      ]
     },
     "execution_count": 9,
     "metadata": {},
     "output_type": "execute_result"
    }
   ],
   "source": [
    "# host_response_time\n",
    "print(\"Null Values:\", listings_df[\"host_response_time\"].isnull().sum())\n",
    "print(\"Proportion:\", round(listings_df[\"host_response_time\"].isna().sum()/len(listings_df)*100,1))\n",
    "\n",
    "#Replace null values with \"unknown\"\n",
    "listings_df[\"host_response_time\"].fillna(\"unknown\", inplace=True)\n",
    "listings_df[\"host_response_time\"].value_counts()"
   ]
  },
  {
   "cell_type": "code",
   "execution_count": 10,
   "id": "de43c389",
   "metadata": {},
   "outputs": [],
   "source": [
    "# host_response_rate\n",
    "# Convert column datatype to float\n",
    "listings_df[\"host_response_rate\"]=listings_df[\"host_response_rate\"].str[:-1].astype('float64')\n",
    "\n",
    "#Bin the values into four categories\n",
    "bins=[0, 50, 90,99, 100]\n",
    "group_names=[\"0-49%\", \"50-89%\", \"90-99%\", \"100%\"]\n",
    "listings_df[\"host_response_rate\"]= pd.cut(listings_df[\"host_response_rate\"], bins=bins, labels=group_names, include_lowest=True)"
   ]
  },
  {
   "cell_type": "code",
   "execution_count": 11,
   "id": "e9388e5e",
   "metadata": {},
   "outputs": [
    {
     "data": {
      "text/plain": [
       "100%       6995\n",
       "unknown    4720\n",
       "50-89%     1471\n",
       "90-99%     1299\n",
       "0-49%       686\n",
       "Name: host_response_rate, dtype: int64"
      ]
     },
     "execution_count": 11,
     "metadata": {},
     "output_type": "execute_result"
    }
   ],
   "source": [
    "# Convert column to string\n",
    "listings_df[\"host_response_rate\"]= listings_df[\"host_response_rate\"].astype('str')\n",
    "\n",
    "#Replace null values with \"unknown\"\n",
    "listings_df[\"host_response_rate\"].replace(\"nan\", \"unknown\", inplace=True)\n",
    "\n",
    "#Check the value counts\n",
    "listings_df[\"host_response_rate\"].value_counts()"
   ]
  },
  {
   "cell_type": "code",
   "execution_count": 12,
   "id": "fae97a33",
   "metadata": {
    "scrolled": true
   },
   "outputs": [
    {
     "data": {
      "text/plain": [
       "Apartment      7885\n",
       "One Room       4700\n",
       "House          2443\n",
       "Shared Room     131\n",
       "Other            12\n",
       "Name: property_type, dtype: int64"
      ]
     },
     "execution_count": 12,
     "metadata": {},
     "output_type": "execute_result"
    }
   ],
   "source": [
    "# property_types\n",
    "\n",
    "#Replacing and grouping multiple categories into main heads\n",
    "\n",
    "listings_df[\"property_type\"].replace({\n",
    "    \"Entire home\": \"House\",\n",
    "    \"Private room in rental unit\": \"One Room\",\n",
    "    \"Entire rental unit\": \"Apartment\",\n",
    "    \"Entire condo\" : \"Apartment\",\n",
    "    \"Private room in home\": \"One Room\",\n",
    "    \"Private room in condo\": \"One Room\",\n",
    "    \"Shared room in parking space\": \"Shared Room\",\n",
    "    \"Entire guest suite\": \"Apartment\",\n",
    "    \"Entire townhouse\": \"House\",\n",
    "    \"Private room in bed and breakfast\": \"One Room\",\n",
    "    \"Private room in townhouse\": \"One Room\",\n",
    "    \"Private room in tiny home\": \"One Room\",\n",
    "    \"Private room in guest suite\": \"One Room\",\n",
    "    \"Private room in loft\": \"One Room\",\n",
    "    \"Private room in cottage\" : \"One Room\",\n",
    "    \"Private room in bungalow\": \"One Room\",\n",
    "    \"Private room in guesthouse\": \"One Room\",\n",
    "    \"Private room\": \"One Room\",\n",
    "    \"Private room in vacation home\": \"One Room\",\n",
    "    \"Private room in floor\": \"One Room\",\n",
    "    \"Private room in villa\": \"One Room\",\n",
    "    \"Room in hostel\": \"One Room\",\n",
    "    \"Private room in castle\": \"One Room\",\n",
    "    \"Room in hotel\": \"One Room\",\n",
    "    \"Private room in barn\": \"One Room\",\n",
    "    \"Room in boutique hotel\": \"One Room\",\n",
    "    \"Room in bed and breakfast\": \"One Room\",\n",
    "    \"Private room in serviced apartment\": \"One Room\",\n",
    "    \"Private room in casa particular\": \"One Room\",\n",
    "    \"Private room in earthen home\" : \"One Room\",\n",
    "    \"Room in aparthotel\": \"One Room\",\n",
    "    \"Private room in hut\": \"One Room\",\n",
    "    \"Private room in hostel\": \"One Room\",\n",
    "    \"Private room in holiday park\": \"One Room\",\n",
    "    \"Shared room in rental unit\" : \"Shared Room\",\n",
    "    \"Shared room in home\": \"Shared Room\",\n",
    "    \"Shared room in condo\": \"Shared Room\",\n",
    "    \"Shared room in townhouse\": \"Shared Room\",\n",
    "    \"Shared room in bed and breakfast\": \"Shared Room\",\n",
    "    \"Shared room in bungalow\": \"Shared Room\",\n",
    "    \"Shared room in hostel\": \"Shared Room\",\n",
    "    \"Shared room in loft\": \"Shared Room\",\n",
    "    \"Shared room in guesthouse\": \"Shared Room\",\n",
    "    \"Shared room in villa\": \"Shared Room\",\n",
    "    \"Shared room in barn\": \"Shared Room\",\n",
    "    \"Shared room in boat\": \"Shared Room\",\n",
    "    \"Shared room in hotel\": \"Shared Room\",\n",
    "    \"Shared room in guest suite\": \"Shared Room\",\n",
    "    \"Entire bungalow\": \"House\",\n",
    "    \"Tiny home\": \"House\",\n",
    "    \"Entire villa\": \"House\",\n",
    "    \"Entire place\": \"House\",\n",
    "    \"Entire cottage\": \"House\",\n",
    "    \"Earthen home\": \"House\",\n",
    "    \"Entire vacation home\": \"House\",\n",
    "    \"Entire serviced apartment\": \"Apartment\",\n",
    "    \"Entire loft\": \"Apartment\",\n",
    "    \"Entire guesthouse\": \"House\",\n",
    "    \"Entire home/apt\": \"House\"},inplace=True)\n",
    "\n",
    "#Replacing other categories with 'other'\n",
    "listings_df.loc[~listings_df[\"property_type\"].isin([\"House\", \"Apartment\", \"One Room\", \"Shared Room\"]), \"property_type\"]=\"Other\"\n",
    "    \n",
    "# Check the property type value count\n",
    "listings_df[\"property_type\"].value_counts()"
   ]
  },
  {
   "cell_type": "code",
   "execution_count": 13,
   "id": "4ff8543c",
   "metadata": {},
   "outputs": [],
   "source": [
    "# bathrooms, bedrooms and beds\n",
    "\n",
    "# Drop the bathroom column since no data is available\n",
    "listings_df=listings_df.drop(\"bathrooms\", axis=1)\n",
    "\n",
    "# Replace missing values with median for bedrooms and beds\n",
    "for col in [\"bedrooms\", \"beds\"]:\n",
    "    listings_df[col].fillna(listings_df[col].median(), inplace=True)"
   ]
  },
  {
   "cell_type": "code",
   "execution_count": 14,
   "id": "d55d2c39",
   "metadata": {},
   "outputs": [
    {
     "data": {
      "text/plain": [
       "0        [\"Smoke alarm\", \"Dryer\", \"Washer\", \"Air condit...\n",
       "1        [\"Pool\", \"Smoke alarm\", \"Free parking on premi...\n",
       "2        [\"Central heating\", \"Barbecue utensils\", \"Drye...\n",
       "3        [\"Pool\", \"Smoke alarm\", \"Free parking on premi...\n",
       "4        [\"Washer\", \"Heating\", \"Dishwasher\", \"Wifi\", \"K...\n",
       "                               ...                        \n",
       "15166    [\"Smoke alarm\", \"Dryer\", \"Washer\", \"Refrigerat...\n",
       "15167    [\"Dryer\", \"Washer\", \"Toaster\", \"Patio or balco...\n",
       "15168    [\"Central heating\", \"Dryer\", \"Washer\", \"Securi...\n",
       "15169    [\"Washer\", \"Cleaning before checkout\", \"Heatin...\n",
       "15170    [\"Lockbox\", \"Patio or balcony\", \"Heating\", \"Wi...\n",
       "Name: amenities, Length: 15171, dtype: object"
      ]
     },
     "execution_count": 14,
     "metadata": {},
     "output_type": "execute_result"
    }
   ],
   "source": [
    "# Amenities\n",
    "listings_df[\"amenities\"]"
   ]
  },
  {
   "cell_type": "code",
   "execution_count": 15,
   "id": "5d7595a5",
   "metadata": {},
   "outputs": [],
   "source": [
    "#Creating a set of amenities\n",
    "amenities_list = list(listings_df.amenities)\n",
    "amenities_list_string = \" \".join(amenities_list)\n",
    "amenities_list_string = amenities_list_string.replace('{', '')\n",
    "amenities_list_string = amenities_list_string.replace('}', ',')\n",
    "amenities_list_string = amenities_list_string.replace('\"', '')\n",
    "amenities_set = [x.strip() for x in amenities_list_string.split(',')]\n",
    "amenities_set = set(amenities_set)"
   ]
  },
  {
   "cell_type": "code",
   "execution_count": 16,
   "id": "7455dc1e",
   "metadata": {},
   "outputs": [],
   "source": [
    "#Grouping the amenities into separate columns with 1 if amenities present and 0 if not present\n",
    "listings_df.loc[listings_df['amenities'].str.contains('shampoo|body soap|One Man Jack body soap|Kirkland Bodywash body soap|Different types shampoo|Several hotel brands body soap|V05 shampoo|Head & shoulders  conditioner|Several Hotel Brands Available body soap|Shampoo|dove  body soap|Pantene or Herbal Essences shampoo|Alaffia EveryDay Shea Conditioner Lavender conditioner|Herbal Essence Body Wash body soap|Pert shampoo|Le Labo conditioner|Natural bar soaps will be provided  body soap|L\\'oreal shampoo|Loreal body soap|Basic  body soap|Premium  body soap|Pantene  shampoo|L\\'Or\\\\u00e9al conditioner|Salon brands shampoo|Truly Earth body soap|Coconut conditioner|L\\\\u2019Or\\\\u00e9al  body soap|TRESEMME conditioner|Body wash body soap|Yves Rocher shampoo|Adidas conditioner|Aveena conditioner|L\\'Oreal  body soap|Olay body soap|Canadian shampoo|Pantene Pro V conditioner|Generic body soap|Myriade d\\\\u2019arabe shampoo|Basic shampoo|Sukin body soap|TRESemm\\\\u00e9 shampoo|Name brand  body soap|Dove conditioner conditioner|Ivory bar soap body soap|Tresemme conditioner|Boo Bamboo Conditioner conditioner|Coconut shampoo|Body lotion and soap body soap|Dove bar soap  body soap|Eco Botanics  conditioner|Best available neutral body wash body soap|Head & Shoulders shampoo|Softsoap  body soap|Head&shoulder shampoo|Irish Fresh body soap|Alaffia body soap|Dr Bronners  body soap|Pears body soap|Various brands  shampoo|Regular  shampoo|Everyone shampoo|Numerous  body soap|Dove - Natural  body soap|Plushresidence brand body soap|North American Hemp Co. - natural product body soap|Argan Oil conditioner|we will arrange for it body soap|Hypoallergenic body soap|Soft body soap|Head and Shoulder shampoo|Essenes  body soap|Pantene 2-in-1 conditioner|Ivory Bar Soap body soap|Kirkland/ivory or similar body soap|Head & Shoulders conditioner|Pantene Daily Moisture Renewal shampoo|Ivory clean body soap|LUSH body soap|H&S shampoo|Natural conditioner|Head And Shoulder|Different  shampoo|Lavender soap from bulk barn body soap|Truly Earth shampoo|Pantene or similar conditioner|Nivea & Dove body soap|Toiletries|Head&Shoulder shampoo|Eco Botanics  body soap|Dr. Bronner\\\\u2019s body soap|Body Wash body soap|Noname conditioner|KIRKLAND shampoo|organic hypo-allergenic body soap|Organic conditioner|Liveclean shampoo|Iris Spring body soap|Dove  shampoo|Various conditioner|Variety brands body soap|Various brands  conditioner|TRESemm\\\\u00e9 conditioner|Alaffia - natural product conditioner|Johnsons & Johnson conditioner|Hotel Brands Available shampoo|General body soap|Moroccan oil conditioner|Natural shampoo|No name body soap|Luxury shampoo|Old Spice ?  body soap|Several hotel brands  conditioner|American  body soap|Assorted Quality Brands  shampoo|H\\\\u00f4tel-time shampoo|No name  body soap|Prosilk  shampoo|Known brands shampoo|IVORY clean body soap|Iris spring  body soap|Herbal Essence shampoo|Tre semme conditioner|SOS and lemon dish soap conditioner|Marc Antony conditioner|ProSilk body soap|Garnier Fructis shampoo|Aveeno body soap'),\"toiletries\"]=1\n",
    "listings_df.loc[listings_df['amenities'].str.contains('Game console|Philip sound system with Bluetooth and aux|Record player|TV|TV with standard cable|Cable TV|39\\\\ TV|Beats Speaker sound system with Bluetooth and aux|JBL Bluetooth sound system|40\\\\ HDTV with Netflix|55\\\\ TV with Amazon Prime Video|90\\\\ TV with Apple TV|44\\\\ HDTV with Roku|43\\\\ TV|32\\\\ TV with Chromecast|Game console: Nintendo Wii and Xbox One|Alexa sound system with Bluetooth and aux|43\\\\ TV|36\\\\ HDTV|57\\\\ HDTV with Netflix|46\\\\ HDTV with Roku|68\\\\ HDTV with Netflix|46\\\\ HDTV with standard cable|46\\\\ TV with Chromecast|Radio and CD player sound system|Savant sound system|Radio and CD player sound system|24\\\\ TV with Chromecast|Sony  sound system with aux|Sonos\\\\u2122 Bluetooth sound system|55\\\\ TV with Chromecast|Google Smart Speaker Bluetooth sound system|Roku Bluetooth sound system|HDTV with standard cable|52\\\\ HDTV|Bluetooth speaker Bluetooth sound system|Denon sound system|54\\\\ HDTV with Apple TV|Chromecast|37\\\\ HDTV with Amazon Prime Video|Samsung Sound Bar sound system with Bluetooth and aux|26\\\\ HDTV with standard cable|Denon - connect via wifi sound system|42\\\\ HDTV with Netflix|78\\\\ HDTV with Netflix|37\\\\ TV with Netflix|75\\\\ HDTV|Alexa sound system|Samsung Bluetooth Speaker  Bluetooth sound system|43\\\\ HDTV with Amazon Prime Video|60\\\\ TV with standard cable|47\\\\ TV with Roku|Sonos 5 & 1 Bluetooth sound system|49\\\\ HDTV with Netflix|Netflix|43\\\\ HDTV with Amazon Prime Video|43\\\\ HDTV with standard cable|50\\\\ HDTV with HBO Max|Bose Boom Box Bluetooth sound system|30\\\\ HDTV with Netflix|46\\\\ HDTV|48\\\\ HDTV with Chromecast|Sonos or Old School Turntable sound system with Bluetooth and aux|52\\\\ HDTV with premium cable|48\\\\ HDTV with Roku|50\\\\ HDTV with Netflix|Game console: PS4|60\\\\ HDTV with standard cable|Wonderboom Bluetooth sound system|Bose sound touch Bluetooth sound system|Wireless speakers available - compatible with all electronic devices sound system|55\\\\ TV with Netflix|48\\\\ TV with standard cable|TV with Apple TV|43\\\\ TV with Roku|54\\\\ HDTV with Apple TV|Alexa - Amazon  sound system|42\\\\ HDTV with Roku|65\\\\ HDTV with Amazon Prime Video|52\\\\ TV|32\\\\ HDTV|SONOS Bluetooth sound system|40\\\\ HDTV with Roku|58\\\\ HDTV with Apple TV|Samsung Soundbar Bluetooth sound system|37\\\\ HDTV with|50\\\\ HDTV with Roku|82\\\\ HDTV with Netflix|85\\\\ HDTV|85\\\\ HDTV with Amazon Prime Video|37\\\\ HDTV with Netflix|42\\\\ TV with Amazon Prime Video|32\\\\ TV with premium cable|Marshall Bluetooth sound system|45\\\\ HDTV with|46\\\\ HDTV with Netflix|42\\\\ HDTV with Netflix|TV with HBO Max|65\\\\ TV with Amazon Prime Video|Bose Bluetooth  Bluetooth sound system|Eneby Bluetooth sound system|LG Soundbar and Sub sound system|55\\\\ HDTV with Amazon Prime Video|47\\\\ TV with Netflix|48\\\\ TV|32\\\\ TV with Apple TV|58\\\\ HDTV|Polaroid sound system with Bluetooth and aux|40\\\\ HDTV with premium cable|70\\\\ HDTV with Apple TV|42\\\\ HDTV|48\\\\ HDTV with Apple TV|18\\\\ TV with Netflix|43\\\\ TV with Chromecast|Sound system|55\\\\ TV with standard cable|46\\\\ HDTV with Amazon Prime Video|38\\\\ TV|Google Home sound system|45\\\\ HDTV with Roku|30\\\\ HDTV|54\\\\ HDTV with Netflix|65\\\\ HDTV|55\\\\ HDTV with premium cable|40\\\\ HDTV with Chromecast|36\\\\ HDTV|37\\\\ TV with Netflix|65\\\\ TV with Apple TV|65\\\\ HDTV with premium cable|78\\\\ HDTV with Netflix|70\\\\ HDTV with Netflix|Sony 7.2 Surround Sound sound system with Bluetooth and aux|50\\\\ TV with Amazon Prime Video|Bose Mini Bluetooth sound system|45\\\\ HDTV|90\\\\ TV with Apple TV|Chromecast|65\\\\ HDTV with Apple TV|49\\\\ TV with Apple TV|Sony sound system|70\\\\ HDTV with Chromecast|52\\\\ TV with|33\\\\ HDTV with Chromecast|30\\\\ HDTV with Amazon Prime Video|46\\\\ HDTV with Amazon Prime Video|45\\\\ TV with Amazon Prime Video'), 'high_end_electronics'] = 1\n",
    "listings_df.loc[listings_df['amenities'].str.contains('Air conditioning|Window AC unit|Central air conditioning|Heating|Indoor Fireplace|Central Heating|Central air conditioning|Central heating'), 'ac_heater'] = 1\n",
    "listings_df.loc[listings_df['amenities'].str.contains('Internet|Pocket wifi|Wifi|wifi'), 'internet'] = 1\n",
    "listings_df.loc[listings_df['amenities'].str.contains('BBQ grill|Fire pit|Propane barbeque|Barbecue utensils'), 'bbq'] = 1\n",
    "listings_df.loc[listings_df['amenities'].str.contains('Breakfast'), 'breakfast'] = 1\n",
    "listings_df.loc[listings_df['amenities'].str.contains('Freezer|Hot water kettle|Microwave|Fridge|Toaster Oven|Samsung  stainless steel stove|Paid dryer|GE stainless steel oven|Samsung refrigerator|LG - Stainless Steel refrigerator|G.E.  stainless steel gas stove|Induction stove|GE Self Clean stainless steel oven|Brevettie  oven|Hair dryer|Hot plates  electric stove|Black & Decker stainless steel oven|Smsub oven|FRIGIDAIRE refrigerator|Dryer|Hangers|stove|Dishwasher|mini-fridge|electric stove|Washer'), \"home_appliances\"]=1\n",
    "listings_df.loc[listings_df['amenities'].str.contains('Coffee maker|Nespresso|Pour-over coffee|Cafe'),'coffee_machine']=1\n",
    "listings_df.loc[listings_df['amenities'].str.contains('Long term stays allowed'), 'long_term_stays'] = 1\n",
    "listings_df.loc[listings_df['amenities'].str.contains('Host greets you'), 'host_greeting'] = 1\n",
    "listings_df.loc[listings_df['amenities'].str.contains('Fire extinguisher|Smoke alarm|First aid kit'),'safety']=1\n",
    "listings_df.loc[listings_df['amenities'].str.contains('Balcony|Patio|Private fenced garden or backyard|Garden|Outdoor|Sun loungers|Terrace|Backyard'), 'outdoor_space'] = 1\n",
    "listings_df.loc[listings_df['amenities'].str.contains('Hot tub|Jetted tub|hot tub|Sauna|Pool|pool'), 'hot_tub_sauna_or_pool'] = 1\n",
    "listings_df.loc[listings_df['amenities'].str.contains('Ceiling fan|Bathtub|Clothing storage|closet|walk-in closet|Room-darkening shades|Crib|Bedroom comforts|Dedicated workspace|Extra pillows and blankets|Bed Linens|linens'),\"room_features\"]=1\n",
    "listings_df.loc[listings_df['amenities'].str.contains('Family/kid friendly|Children|children|Baby bath'), 'child_friendly'] = 1\n",
    "listings_df.loc[listings_df['amenities'].str.contains('Laundry services|Hot water|Laundromat|Free carport on premises|EV charger'),\"other_facilities\"]=1\n",
    "listings_df.loc[listings_df['amenities'].str.contains('Private entrance'), 'private_entrance'] = 1\n",
    "listings_df.loc[listings_df['amenities'].str.contains('Beach view|Beachfront|Lake access|Mountain view|Ski-in/Ski-out|Waterfront|Kayak'), 'nature_and_views'] = 1\n",
    "listings_df.loc[listings_df['amenities'].str.contains('Free parking on premises|Paid parking on premises|parking|valet parking'), 'parking'] = 1\n",
    "listings_df.loc[listings_df['amenities'].str.contains('Cooking basics|Kitchen'), 'kitchen'] = 1\n",
    "listings_df.loc[listings_df['amenities'].str.contains('Elevator'), 'elevator'] = 1\n",
    "listings_df.loc[listings_df['amenities'].str.contains('Exercise equipment|Gym|gym'), 'gym'] = 1\n",
    "listings_df.loc[listings_df['amenities'].str.contains('Smoking allowed'), 'smoking_allowed'] = 1\n",
    "listings_df.loc[listings_df['amenities'].str.contains('Step-free access|Wheelchair|Accessible'), 'accessible'] = 1\n",
    "listings_df.loc[listings_df['amenities'].str.contains('Suitable for events'), 'event_suitable'] = 1"
   ]
  },
  {
   "cell_type": "code",
   "execution_count": 17,
   "id": "cb2bd1c7",
   "metadata": {},
   "outputs": [
    {
     "name": "stdout",
     "output_type": "stream",
     "text": [
      "<class 'pandas.core.frame.DataFrame'>\n",
      "RangeIndex: 15171 entries, 0 to 15170\n",
      "Data columns (total 60 columns):\n",
      " #   Column                       Non-Null Count  Dtype  \n",
      "---  ------                       --------------  -----  \n",
      " 0   id                           15171 non-null  int64  \n",
      " 1   host_response_time           15171 non-null  object \n",
      " 2   host_response_rate           15171 non-null  object \n",
      " 3   host_is_superhost            15168 non-null  object \n",
      " 4   host_listings_count          15168 non-null  float64\n",
      " 5   host_identity_verified       15168 non-null  object \n",
      " 6   neighbourhood_cleansed       15171 non-null  object \n",
      " 7   latitude                     15171 non-null  float64\n",
      " 8   longitude                    15171 non-null  float64\n",
      " 9   property_type                15171 non-null  object \n",
      " 10  room_type                    15171 non-null  object \n",
      " 11  accommodates                 15171 non-null  int64  \n",
      " 12  bedrooms                     15171 non-null  float64\n",
      " 13  beds                         15171 non-null  float64\n",
      " 14  amenities                    15171 non-null  object \n",
      " 15  price                        15171 non-null  object \n",
      " 16  minimum_nights               15171 non-null  int64  \n",
      " 17  maximum_nights               15171 non-null  int64  \n",
      " 18  availability_30              15171 non-null  int64  \n",
      " 19  availability_60              15171 non-null  int64  \n",
      " 20  availability_90              15171 non-null  int64  \n",
      " 21  availability_365             15171 non-null  int64  \n",
      " 22  number_of_reviews            15171 non-null  int64  \n",
      " 23  number_of_reviews_ltm        15171 non-null  int64  \n",
      " 24  first_review                 11948 non-null  object \n",
      " 25  last_review                  11948 non-null  object \n",
      " 26  review_scores_rating         11948 non-null  float64\n",
      " 27  review_scores_accuracy       11799 non-null  float64\n",
      " 28  review_scores_cleanliness    11801 non-null  float64\n",
      " 29  review_scores_checkin        11798 non-null  float64\n",
      " 30  review_scores_communication  11798 non-null  float64\n",
      " 31  review_scores_location       11797 non-null  float64\n",
      " 32  review_scores_value          11798 non-null  float64\n",
      " 33  instant_bookable             15171 non-null  object \n",
      " 34  host_active_days             15171 non-null  float64\n",
      " 35  toiletries                   11137 non-null  float64\n",
      " 36  high_end_electronics         11432 non-null  float64\n",
      " 37  ac_heater                    14789 non-null  float64\n",
      " 38  internet                     14885 non-null  float64\n",
      " 39  bbq                          2131 non-null   float64\n",
      " 40  breakfast                    798 non-null    float64\n",
      " 41  home_appliances              14689 non-null  float64\n",
      " 42  coffee_machine               7723 non-null   float64\n",
      " 43  long_term_stays              14390 non-null  float64\n",
      " 44  host_greeting                1830 non-null   float64\n",
      " 45  safety                       14540 non-null  float64\n",
      " 46  outdoor_space                5886 non-null   float64\n",
      " 47  hot_tub_sauna_or_pool        2864 non-null   float64\n",
      " 48  room_features                9864 non-null   float64\n",
      " 49  child_friendly               879 non-null    float64\n",
      " 50  other_facilities             10834 non-null  float64\n",
      " 51  private_entrance             6287 non-null   float64\n",
      " 52  nature_and_views             1257 non-null   float64\n",
      " 53  parking                      10985 non-null  float64\n",
      " 54  kitchen                      14062 non-null  float64\n",
      " 55  elevator                     5035 non-null   float64\n",
      " 56  gym                          3727 non-null   float64\n",
      " 57  smoking_allowed              0 non-null      float64\n",
      " 58  accessible                   0 non-null      float64\n",
      " 59  event_suitable               1 non-null      float64\n",
      "dtypes: float64(38), int64(10), object(12)\n",
      "memory usage: 6.9+ MB\n"
     ]
    }
   ],
   "source": [
    "listings_df.info()"
   ]
  },
  {
   "cell_type": "code",
   "execution_count": 18,
   "id": "ca99c003",
   "metadata": {},
   "outputs": [
    {
     "name": "stdout",
     "output_type": "stream",
     "text": [
      "['breakfast', 'child_friendly', 'nature_and_views', 'smoking_allowed', 'accessible', 'event_suitable']\n"
     ]
    }
   ],
   "source": [
    "# Replacing nulls with zeros for new columns\n",
    "replace_nulls = listings_df.iloc[:,36:].columns\n",
    "listings_df[replace_nulls] = listings_df[replace_nulls].fillna(0)\n",
    "\n",
    "# Produces a list of amenity features where one category (true or false) contains fewer than 10% of listings\n",
    "infrequent_amenities = []\n",
    "for col in listings_df.iloc[:,36:].columns:\n",
    "    if listings_df[col].sum() < len(listings_df)/10:\n",
    "        infrequent_amenities.append(col)\n",
    "print(infrequent_amenities)\n",
    "\n",
    "# Dropping infrequent amenity features\n",
    "listings_df.drop(infrequent_amenities, axis=1, inplace=True)\n",
    "\n",
    "# Dropping the original amenity feature\n",
    "listings_df.drop('amenities', axis=1, inplace=True)"
   ]
  },
  {
   "cell_type": "code",
   "execution_count": 19,
   "id": "1f5da1bf",
   "metadata": {},
   "outputs": [
    {
     "data": {
      "text/plain": [
       "Index(['ac_heater', 'internet', 'bbq', 'home_appliances', 'coffee_machine',\n",
       "       'long_term_stays', 'host_greeting', 'safety', 'outdoor_space',\n",
       "       'hot_tub_sauna_or_pool', 'room_features', 'other_facilities',\n",
       "       'private_entrance', 'parking', 'kitchen', 'elevator', 'gym'],\n",
       "      dtype='object')"
      ]
     },
     "execution_count": 19,
     "metadata": {},
     "output_type": "execute_result"
    }
   ],
   "source": [
    "# List of Amenities that will be included\n",
    "listings_df.columns[36:]"
   ]
  },
  {
   "cell_type": "code",
   "execution_count": 20,
   "id": "94f514cc",
   "metadata": {},
   "outputs": [],
   "source": [
    "# price\n",
    "\n",
    "# Convert the price column to float\n",
    "listings_df[\"price\"]=listings_df[\"price\"].str.replace(\",\",\"\",regex=True).str.replace(\"$\", \"\",regex=True)\n",
    "listings_df[\"price\"]=listings_df[\"price\"].astype(float)"
   ]
  },
  {
   "cell_type": "code",
   "execution_count": 21,
   "id": "8dd23b6a",
   "metadata": {},
   "outputs": [],
   "source": [
    "# availability\n",
    "# We will retain only one column of availability - 90 days\n",
    "\n",
    "#Dropping the other columns related to availability\n",
    "listings_df.drop(columns=[\"availability_30\",\"availability_60\",\"availability_365\"], inplace=True)"
   ]
  },
  {
   "cell_type": "code",
   "execution_count": 22,
   "id": "78abe47b",
   "metadata": {},
   "outputs": [],
   "source": [
    "# number of review columns\n",
    "# We will keep the total number of reviews and drop other related columns.\n",
    "\n",
    "#Dropping additional columns related to number of reviews\n",
    "listings_df.drop([\"number_of_reviews_ltm\"],axis=1, inplace=True)"
   ]
  },
  {
   "cell_type": "code",
   "execution_count": 23,
   "id": "c6e6d7c5",
   "metadata": {},
   "outputs": [
    {
     "name": "stderr",
     "output_type": "stream",
     "text": [
      "C:\\Users\\carol\\.conda\\envs\\mlenv\\lib\\site-packages\\ipykernel_launcher.py:6: FutureWarning: The pandas.datetime class is deprecated and will be removed from pandas in a future version. Import from datetime module instead.\n",
      "  \n"
     ]
    }
   ],
   "source": [
    "# first_review and last_review columns\n",
    "# Convert first_review to datetime\n",
    "listings_df[\"first_review\"]=pd.to_datetime(listings_df[\"first_review\"])\n",
    "\n",
    "# Calculate the number of days since first review and date compilation\n",
    "listings_df[\"time_since_first_review\"]=(pd.datetime(2022,6,6) - listings_df[\"first_review\"]).astype('timedelta64[D]')"
   ]
  },
  {
   "cell_type": "code",
   "execution_count": 24,
   "id": "967dd463",
   "metadata": {},
   "outputs": [
    {
     "data": {
      "text/plain": [
       "<AxesSubplot:>"
      ]
     },
     "execution_count": 24,
     "metadata": {},
     "output_type": "execute_result"
    },
    {
     "data": {
      "image/png": "[encoded data removed]",
      "text/plain": [
       "<Figure size 1080x360 with 1 Axes>"
      ]
     },
     "metadata": {
      "needs_background": "light"
     },
     "output_type": "display_data"
    }
   ],
   "source": [
    "# Distributing the number of days since first review\n",
    "listings_df[\"time_since_first_review\"].hist(bins=30, figsize=(15,5))"
   ]
  },
  {
   "cell_type": "code",
   "execution_count": 25,
   "id": "9783c00a",
   "metadata": {},
   "outputs": [],
   "source": [
    "# Defining the binning function\n",
    "def bin_column(col, bins, labels):\n",
    "    listings_df[col]=listings_df[col].astype(float)\n",
    "    listings_df[col]=pd.cut(listings_df[col], bins=bins, labels=labels, include_lowest=True)\n",
    "    listings_df[col]=listings_df[col].astype('str')\n",
    "    listings_df[col]=listings_df[col].replace({\"nan\": \"no review\"})"
   ]
  },
  {
   "cell_type": "code",
   "execution_count": 26,
   "id": "b62c1746",
   "metadata": {},
   "outputs": [],
   "source": [
    "# Binning time since first review\n",
    "bin_column(\"time_since_first_review\",\n",
    "          bins=[0,180,365,730, 1460, max(listings_df.time_since_first_review)],\n",
    "          labels=['0-6 months',\n",
    "                 '6-12 months',\n",
    "                 '1-2 years',\n",
    "                 '2-3 years',\n",
    "                 '4+ years'])"
   ]
  },
  {
   "cell_type": "code",
   "execution_count": 27,
   "id": "a95d4281",
   "metadata": {},
   "outputs": [
    {
     "data": {
      "text/plain": [
       "4+ years       4049\n",
       "2-3 years      3758\n",
       "no review      3223\n",
       "0-6 months     1786\n",
       "6-12 months    1265\n",
       "1-2 years      1090\n",
       "Name: time_since_first_review, dtype: int64"
      ]
     },
     "execution_count": 27,
     "metadata": {},
     "output_type": "execute_result"
    }
   ],
   "source": [
    "#Check the value counts\n",
    "listings_df[\"time_since_first_review\"].value_counts()"
   ]
  },
  {
   "cell_type": "code",
   "execution_count": 28,
   "id": "cd7956ad",
   "metadata": {},
   "outputs": [
    {
     "name": "stderr",
     "output_type": "stream",
     "text": [
      "C:\\Users\\carol\\.conda\\envs\\mlenv\\lib\\site-packages\\ipykernel_launcher.py:5: FutureWarning: The pandas.datetime class is deprecated and will be removed from pandas in a future version. Import from datetime module instead.\n",
      "  \"\"\"\n"
     ]
    }
   ],
   "source": [
    "# Follow same process for last_review\n",
    "listings_df[\"last_review\"]=pd.to_datetime(listings_df[\"last_review\"])\n",
    "\n",
    "# Calculate the number of days since last review and date compilation\n",
    "listings_df[\"time_since_last_review\"]=(pd.datetime(2022,6,6) - listings_df[\"last_review\"]).astype('timedelta64[D]')"
   ]
  },
  {
   "cell_type": "code",
   "execution_count": 29,
   "id": "2610357d",
   "metadata": {},
   "outputs": [
    {
     "data": {
      "text/plain": [
       "<AxesSubplot:>"
      ]
     },
     "execution_count": 29,
     "metadata": {},
     "output_type": "execute_result"
    },
    {
     "data": {
      "image/png": "[encoded data removed]",
      "text/plain": [
       "<Figure size 1080x360 with 1 Axes>"
      ]
     },
     "metadata": {
      "needs_background": "light"
     },
     "output_type": "display_data"
    }
   ],
   "source": [
    "# Distributing the number of days since last review\n",
    "listings_df[\"time_since_last_review\"].hist(bins=30, figsize=(15,5))"
   ]
  },
  {
   "cell_type": "code",
   "execution_count": 30,
   "id": "3f38f395",
   "metadata": {},
   "outputs": [],
   "source": [
    "# Binning time since last review\n",
    "bin_column('time_since_last_review',\n",
    "           bins=[0, 14, 60, 182, 365, max(listings_df.time_since_last_review)],\n",
    "           labels=['0-2 weeks',\n",
    "                   '2-8 weeks',\n",
    "                   '2-6 months',\n",
    "                   '6-12 months',\n",
    "                   '1+ year'])\n",
    "           "
   ]
  },
  {
   "cell_type": "code",
   "execution_count": 31,
   "id": "73615646",
   "metadata": {},
   "outputs": [
    {
     "data": {
      "text/plain": [
       "1+ year        4672\n",
       "no review      3223\n",
       "2-8 weeks      2610\n",
       "0-2 weeks      2347\n",
       "2-6 months     1473\n",
       "6-12 months     846\n",
       "Name: time_since_last_review, dtype: int64"
      ]
     },
     "execution_count": 31,
     "metadata": {},
     "output_type": "execute_result"
    }
   ],
   "source": [
    "# Check the value count\n",
    "listings_df[\"time_since_last_review\"].value_counts()"
   ]
  },
  {
   "cell_type": "code",
   "execution_count": 32,
   "id": "53722031",
   "metadata": {},
   "outputs": [],
   "source": [
    "#Drop the original columns\n",
    "listings_df.drop(columns=[\"first_review\", \"last_review\"], axis=1, inplace=True)"
   ]
  },
  {
   "cell_type": "code",
   "execution_count": 33,
   "id": "ea178d65",
   "metadata": {
    "scrolled": true
   },
   "outputs": [
    {
     "data": {
      "image/png": "[encoded data removed]",
      "text/plain": [
       "<Figure size 864x576 with 7 Axes>"
      ]
     },
     "metadata": {
      "needs_background": "light"
     },
     "output_type": "display_data"
    }
   ],
   "source": [
    "# review_rating_columns\n",
    "# These columns have been binned into three categories based on their scores - poor, average and excellent\n",
    "\n",
    "# Checking the distributions of the review ratings columns\n",
    "review_variables = list(listings_df.columns[listings_df.columns.str.startswith(\"review_scores\") == True])\n",
    "fig = plt.figure(figsize=(12,8))\n",
    "for i, var_name in enumerate(review_variables):\n",
    "    ax = fig.add_subplot(3,3,i+1)\n",
    "    listings_df[var_name].hist(bins=10,ax=ax)\n",
    "    ax.set_title(var_name)\n",
    "fig.tight_layout()\n",
    "plt.show()"
   ]
  },
  {
   "cell_type": "code",
   "execution_count": 34,
   "id": "1b39f8d8",
   "metadata": {},
   "outputs": [],
   "source": [
    "# Replacing the null values in review columns with median values\n",
    "for col in review_variables:\n",
    "    listings_df[col].fillna(listings_df[col].median(),inplace=True)"
   ]
  },
  {
   "cell_type": "code",
   "execution_count": 35,
   "id": "184f8a76",
   "metadata": {},
   "outputs": [],
   "source": [
    "# Create a new column for overage overall rating\n",
    "col=listings_df.loc[:,\"review_scores_rating\":\"review_scores_value\"]\n",
    "listings_df[\"avg_rating_overall\"]=col.mean(axis=1)"
   ]
  },
  {
   "cell_type": "code",
   "execution_count": 36,
   "id": "f8cb47f1",
   "metadata": {},
   "outputs": [],
   "source": [
    "# Binning the avg_rating_overall column\n",
    "bins=[0,1.99,3.99,5]\n",
    "labels=[\"poor\", \"average\", \"excellent\"]\n",
    "\n",
    "listings_df[\"avg_rating_overall_cat\"]=pd.cut(listings_df[\"avg_rating_overall\"], bins=bins, labels=labels, include_lowest=True)"
   ]
  },
  {
   "cell_type": "code",
   "execution_count": 37,
   "id": "586e36a1",
   "metadata": {},
   "outputs": [],
   "source": [
    "# Replacing t/f with 1/0 in required columns\n",
    "listings_df.replace({\"f\": 0, \"t\": 1}, inplace=True)"
   ]
  },
  {
   "cell_type": "markdown",
   "id": "28f2ddd0",
   "metadata": {},
   "source": [
    "#### *Checking for Outliers*"
   ]
  },
  {
   "cell_type": "code",
   "execution_count": 38,
   "id": "2202c63d",
   "metadata": {},
   "outputs": [
    {
     "data": {
      "text/plain": [
       "count    15171.000000\n",
       "mean       178.591457\n",
       "std        316.157766\n",
       "min          0.000000\n",
       "25%         75.000000\n",
       "50%        120.000000\n",
       "75%        200.000000\n",
       "max      13000.000000\n",
       "Name: price, dtype: float64"
      ]
     },
     "execution_count": 38,
     "metadata": {},
     "output_type": "execute_result"
    }
   ],
   "source": [
    "# price\n",
    "listings_df[\"price\"].describe()"
   ]
  },
  {
   "cell_type": "code",
   "execution_count": 39,
   "id": "488e75a2",
   "metadata": {},
   "outputs": [
    {
     "data": {
      "image/png": "[encoded data removed]",
      "text/plain": [
       "<Figure size 1080x216 with 1 Axes>"
      ]
     },
     "metadata": {
      "needs_background": "light"
     },
     "output_type": "display_data"
    }
   ],
   "source": [
    "# Check the price column for outliers\n",
    "listings_df.price.plot(kind=\"box\", vert=False, figsize=(15,3))\n",
    "plt.show()"
   ]
  },
  {
   "cell_type": "code",
   "execution_count": 40,
   "id": "492ef0e2",
   "metadata": {
    "scrolled": true
   },
   "outputs": [
    {
     "data": {
      "text/plain": [
       "count      226.000000\n",
       "mean      1685.106195\n",
       "std       1855.060006\n",
       "min        802.000000\n",
       "25%        949.250000\n",
       "50%       1128.000000\n",
       "75%       1928.750000\n",
       "max      13000.000000\n",
       "Name: price, dtype: float64"
      ]
     },
     "execution_count": 40,
     "metadata": {},
     "output_type": "execute_result"
    }
   ],
   "source": [
    "#Check the entries for listing price greater than 800\n",
    "listings_df.loc[listings_df[\"price\"]>800][\"price\"].describe()"
   ]
  },
  {
   "cell_type": "code",
   "execution_count": 41,
   "id": "3e40640c",
   "metadata": {},
   "outputs": [
    {
     "data": {
      "text/plain": [
       "1"
      ]
     },
     "execution_count": 41,
     "metadata": {},
     "output_type": "execute_result"
    }
   ],
   "source": [
    "# Count the cases where listing price is 0\n",
    "listings_df.loc[listings_df.price==0][\"price\"].count()"
   ]
  },
  {
   "cell_type": "code",
   "execution_count": 42,
   "id": "c93148e4",
   "metadata": {},
   "outputs": [],
   "source": [
    "# Drop the rows where price is greater than 800\n",
    "listings_df.drop(listings_df[listings_df.price>800].index, axis=0, inplace=True)\n",
    "\n",
    "#Drop the row where price is greater than 0\n",
    "listings_df.drop(listings_df[listings_df.price==0].index, axis=0, inplace=True)"
   ]
  },
  {
   "cell_type": "code",
   "execution_count": 43,
   "id": "dd7f83a5",
   "metadata": {},
   "outputs": [
    {
     "data": {
      "text/plain": [
       "<AxesSubplot:>"
      ]
     },
     "execution_count": 43,
     "metadata": {},
     "output_type": "execute_result"
    },
    {
     "data": {
      "image/png": "[encoded data removed]",
      "text/plain": [
       "<Figure size 1080x360 with 1 Axes>"
      ]
     },
     "metadata": {
      "needs_background": "light"
     },
     "output_type": "display_data"
    }
   ],
   "source": [
    "listings_df.price.hist(bins=30, figsize=(15,5))"
   ]
  },
  {
   "cell_type": "code",
   "execution_count": 44,
   "id": "27ab31e7",
   "metadata": {},
   "outputs": [
    {
     "data": {
      "text/plain": [
       "count    14944.000000\n",
       "mean        25.514320\n",
       "std         42.991313\n",
       "min          1.000000\n",
       "25%          3.000000\n",
       "50%         28.000000\n",
       "75%         28.000000\n",
       "max       1125.000000\n",
       "Name: minimum_nights, dtype: float64"
      ]
     },
     "execution_count": 44,
     "metadata": {},
     "output_type": "execute_result"
    }
   ],
   "source": [
    "# minimum_nights\n",
    "\n",
    "listings_df[\"minimum_nights\"].describe()"
   ]
  },
  {
   "cell_type": "code",
   "execution_count": 45,
   "id": "95b28f5d",
   "metadata": {},
   "outputs": [
    {
     "data": {
      "text/plain": [
       "count     323.000000\n",
       "mean      227.959752\n",
       "std       184.452290\n",
       "min        91.000000\n",
       "25%       120.000000\n",
       "50%       180.000000\n",
       "75%       229.000000\n",
       "max      1125.000000\n",
       "Name: minimum_nights, dtype: float64"
      ]
     },
     "execution_count": 45,
     "metadata": {},
     "output_type": "execute_result"
    }
   ],
   "source": [
    "#Check the entries for minimum nights higher than 90\n",
    "listings_df.loc[listings_df[\"minimum_nights\"]>90][\"minimum_nights\"].describe()"
   ]
  },
  {
   "cell_type": "code",
   "execution_count": 46,
   "id": "45771ae5",
   "metadata": {},
   "outputs": [
    {
     "data": {
      "text/plain": [
       "<AxesSubplot:>"
      ]
     },
     "execution_count": 46,
     "metadata": {},
     "output_type": "execute_result"
    },
    {
     "data": {
      "image/png": "[encoded data removed]",
      "text/plain": [
       "<Figure size 1080x360 with 1 Axes>"
      ]
     },
     "metadata": {
      "needs_background": "light"
     },
     "output_type": "display_data"
    }
   ],
   "source": [
    "# Drop the rows where minimum_nights is greater than 90\n",
    "listings_df.drop(listings_df[listings_df.minimum_nights>90].index, axis=0, inplace=True)\n",
    "listings_df.minimum_nights.hist(bins=30, figsize=(15,5))"
   ]
  },
  {
   "cell_type": "code",
   "execution_count": 47,
   "id": "ecdcf5f3",
   "metadata": {},
   "outputs": [],
   "source": [
    "#Drop additinal null values\n",
    "listings_df.dropna(how=\"any\", inplace=True)"
   ]
  },
  {
   "cell_type": "code",
   "execution_count": 48,
   "id": "51c25395",
   "metadata": {
    "scrolled": true
   },
   "outputs": [
    {
     "data": {
      "text/html": [
       "<div>\n",
       "<style scoped>\n",
       "    .dataframe tbody tr th:only-of-type {\n",
       "        vertical-align: middle;\n",
       "    }\n",
       "\n",
       "    .dataframe tbody tr th {\n",
       "        vertical-align: top;\n",
       "    }\n",
       "\n",
       "    .dataframe thead th {\n",
       "        text-align: right;\n",
       "    }\n",
       "</style>\n",
       "<table border=\"1\" class=\"dataframe\">\n",
       "  <thead>\n",
       "    <tr style=\"text-align: right;\">\n",
       "      <th></th>\n",
       "      <th>id</th>\n",
       "      <th>host_response_time</th>\n",
       "      <th>host_response_rate</th>\n",
       "      <th>host_is_superhost</th>\n",
       "      <th>host_listings_count</th>\n",
       "      <th>host_identity_verified</th>\n",
       "      <th>neighbourhood</th>\n",
       "      <th>latitude</th>\n",
       "      <th>longitude</th>\n",
       "      <th>property_type</th>\n",
       "      <th>...</th>\n",
       "      <th>other_facilities</th>\n",
       "      <th>private_entrance</th>\n",
       "      <th>parking</th>\n",
       "      <th>kitchen</th>\n",
       "      <th>elevator</th>\n",
       "      <th>gym</th>\n",
       "      <th>time_since_first_review</th>\n",
       "      <th>time_since_last_review</th>\n",
       "      <th>avg_rating_overall</th>\n",
       "      <th>avg_rating_overall_cat</th>\n",
       "    </tr>\n",
       "  </thead>\n",
       "  <tbody>\n",
       "    <tr>\n",
       "      <th>0</th>\n",
       "      <td>1419</td>\n",
       "      <td>unknown</td>\n",
       "      <td>unknown</td>\n",
       "      <td>0.0</td>\n",
       "      <td>1.0</td>\n",
       "      <td>1.0</td>\n",
       "      <td>Little Portugal</td>\n",
       "      <td>43.64590</td>\n",
       "      <td>-79.42423</td>\n",
       "      <td>House</td>\n",
       "      <td>...</td>\n",
       "      <td>0.0</td>\n",
       "      <td>0.0</td>\n",
       "      <td>0.0</td>\n",
       "      <td>1.0</td>\n",
       "      <td>0.0</td>\n",
       "      <td>0.0</td>\n",
       "      <td>4+ years</td>\n",
       "      <td>1+ year</td>\n",
       "      <td>5.000000</td>\n",
       "      <td>excellent</td>\n",
       "    </tr>\n",
       "    <tr>\n",
       "      <th>4</th>\n",
       "      <td>40456</td>\n",
       "      <td>within an hour</td>\n",
       "      <td>100%</td>\n",
       "      <td>1.0</td>\n",
       "      <td>3.0</td>\n",
       "      <td>1.0</td>\n",
       "      <td>South Parkdale</td>\n",
       "      <td>43.63539</td>\n",
       "      <td>-79.44010</td>\n",
       "      <td>House</td>\n",
       "      <td>...</td>\n",
       "      <td>1.0</td>\n",
       "      <td>1.0</td>\n",
       "      <td>1.0</td>\n",
       "      <td>1.0</td>\n",
       "      <td>0.0</td>\n",
       "      <td>0.0</td>\n",
       "      <td>4+ years</td>\n",
       "      <td>2-6 months</td>\n",
       "      <td>4.727143</td>\n",
       "      <td>excellent</td>\n",
       "    </tr>\n",
       "    <tr>\n",
       "      <th>6</th>\n",
       "      <td>43964</td>\n",
       "      <td>within an hour</td>\n",
       "      <td>100%</td>\n",
       "      <td>0.0</td>\n",
       "      <td>1.0</td>\n",
       "      <td>1.0</td>\n",
       "      <td>Wexford/Maryvale</td>\n",
       "      <td>43.74922</td>\n",
       "      <td>-79.29188</td>\n",
       "      <td>House</td>\n",
       "      <td>...</td>\n",
       "      <td>1.0</td>\n",
       "      <td>1.0</td>\n",
       "      <td>1.0</td>\n",
       "      <td>1.0</td>\n",
       "      <td>0.0</td>\n",
       "      <td>0.0</td>\n",
       "      <td>4+ years</td>\n",
       "      <td>2-8 weeks</td>\n",
       "      <td>4.948571</td>\n",
       "      <td>excellent</td>\n",
       "    </tr>\n",
       "    <tr>\n",
       "      <th>7</th>\n",
       "      <td>573892</td>\n",
       "      <td>within an hour</td>\n",
       "      <td>100%</td>\n",
       "      <td>0.0</td>\n",
       "      <td>6.0</td>\n",
       "      <td>1.0</td>\n",
       "      <td>Waterfront Communities-The Island</td>\n",
       "      <td>43.64278</td>\n",
       "      <td>-79.37985</td>\n",
       "      <td>Apartment</td>\n",
       "      <td>...</td>\n",
       "      <td>1.0</td>\n",
       "      <td>0.0</td>\n",
       "      <td>1.0</td>\n",
       "      <td>1.0</td>\n",
       "      <td>1.0</td>\n",
       "      <td>1.0</td>\n",
       "      <td>4+ years</td>\n",
       "      <td>2-8 weeks</td>\n",
       "      <td>4.845714</td>\n",
       "      <td>excellent</td>\n",
       "    </tr>\n",
       "    <tr>\n",
       "      <th>8</th>\n",
       "      <td>579918</td>\n",
       "      <td>unknown</td>\n",
       "      <td>unknown</td>\n",
       "      <td>0.0</td>\n",
       "      <td>1.0</td>\n",
       "      <td>1.0</td>\n",
       "      <td>Niagara</td>\n",
       "      <td>43.63987</td>\n",
       "      <td>-79.42034</td>\n",
       "      <td>Apartment</td>\n",
       "      <td>...</td>\n",
       "      <td>1.0</td>\n",
       "      <td>0.0</td>\n",
       "      <td>1.0</td>\n",
       "      <td>1.0</td>\n",
       "      <td>1.0</td>\n",
       "      <td>1.0</td>\n",
       "      <td>4+ years</td>\n",
       "      <td>1+ year</td>\n",
       "      <td>4.778571</td>\n",
       "      <td>excellent</td>\n",
       "    </tr>\n",
       "  </tbody>\n",
       "</table>\n",
       "<p>5 rows × 51 columns</p>\n",
       "</div>"
      ],
      "text/plain": [
       "       id host_response_time host_response_rate  host_is_superhost  \\\n",
       "0    1419            unknown            unknown                0.0   \n",
       "4   40456     within an hour               100%                1.0   \n",
       "6   43964     within an hour               100%                0.0   \n",
       "7  573892     within an hour               100%                0.0   \n",
       "8  579918            unknown            unknown                0.0   \n",
       "\n",
       "   host_listings_count  host_identity_verified  \\\n",
       "0                  1.0                     1.0   \n",
       "4                  3.0                     1.0   \n",
       "6                  1.0                     1.0   \n",
       "7                  6.0                     1.0   \n",
       "8                  1.0                     1.0   \n",
       "\n",
       "                       neighbourhood  latitude  longitude property_type  ...  \\\n",
       "0                    Little Portugal  43.64590  -79.42423         House  ...   \n",
       "4                     South Parkdale  43.63539  -79.44010         House  ...   \n",
       "6                   Wexford/Maryvale  43.74922  -79.29188         House  ...   \n",
       "7  Waterfront Communities-The Island  43.64278  -79.37985     Apartment  ...   \n",
       "8                            Niagara  43.63987  -79.42034     Apartment  ...   \n",
       "\n",
       "  other_facilities  private_entrance  parking  kitchen  elevator  gym  \\\n",
       "0              0.0               0.0      0.0      1.0       0.0  0.0   \n",
       "4              1.0               1.0      1.0      1.0       0.0  0.0   \n",
       "6              1.0               1.0      1.0      1.0       0.0  0.0   \n",
       "7              1.0               0.0      1.0      1.0       1.0  1.0   \n",
       "8              1.0               0.0      1.0      1.0       1.0  1.0   \n",
       "\n",
       "   time_since_first_review  time_since_last_review  avg_rating_overall  \\\n",
       "0                 4+ years                 1+ year            5.000000   \n",
       "4                 4+ years              2-6 months            4.727143   \n",
       "6                 4+ years               2-8 weeks            4.948571   \n",
       "7                 4+ years               2-8 weeks            4.845714   \n",
       "8                 4+ years                 1+ year            4.778571   \n",
       "\n",
       "   avg_rating_overall_cat  \n",
       "0               excellent  \n",
       "4               excellent  \n",
       "6               excellent  \n",
       "7               excellent  \n",
       "8               excellent  \n",
       "\n",
       "[5 rows x 51 columns]"
      ]
     },
     "execution_count": 48,
     "metadata": {},
     "output_type": "execute_result"
    }
   ],
   "source": [
    "#Renaming the neighbourhood column\n",
    "listings_df.rename(columns={\"neighbourhood_cleansed\":\"neighbourhood\"},inplace=True)\n",
    "listings_df.head()"
   ]
  },
  {
   "cell_type": "code",
   "execution_count": 49,
   "id": "e69d3112",
   "metadata": {},
   "outputs": [
    {
     "data": {
      "text/plain": [
       "{'object': 'varchar',\n",
       " 'float64': 'float',\n",
       " 'int64': 'int',\n",
       " 'datetime64[ns]': 'timestamp',\n",
       " 'timedelta64[ns]': 'varchar'}"
      ]
     },
     "execution_count": 49,
     "metadata": {},
     "output_type": "execute_result"
    }
   ],
   "source": [
    "# Prepare the datatypes for database\n",
    "replacements={\n",
    "    \"object\": \"varchar\",\n",
    "    \"float64\": \"float\",\n",
    "    \"int64\": \"int\",\n",
    "    \"datetime64[ns]\": \"timestamp\",\n",
    "    'timedelta64[ns]': \"varchar\"\n",
    "}\n",
    "\n",
    "replacements"
   ]
  },
  {
   "cell_type": "code",
   "execution_count": 50,
   "id": "481cd68b",
   "metadata": {},
   "outputs": [
    {
     "data": {
      "text/plain": [
       "'id int,host_response_time varchar,host_response_rate varchar,host_is_superhost float,host_listings_count float,host_identity_verified float,neighbourhood varchar,latitude float,longitude float,property_type varchar,room_type varchar,accommodates int,bedrooms float,beds float,price float,minimum_nights int,maximum_nights int,availability_90 int,number_of_reviews int,review_scores_rating float,review_scores_accuracy float,review_scores_cleanliness float,review_scores_checkin float,review_scores_communication float,review_scores_location float,review_scores_value float,instant_bookable int,host_active_days float,toiletries float,high_end_electronics float,ac_heater float,internet float,bbq float,home_appliances float,coffee_machine float,long_term_stays float,host_greeting float,safety float,outdoor_space float,hot_tub_sauna_or_pool float,room_features float,other_facilities float,private_entrance float,parking float,kitchen float,elevator float,gym float,time_since_first_review varchar,time_since_last_review varchar,avg_rating_overall float,avg_rating_overall_cat category'"
      ]
     },
     "execution_count": 50,
     "metadata": {},
     "output_type": "execute_result"
    }
   ],
   "source": [
    "# Replace the datatype for columns in dataframe\n",
    "col_str=\",\".join(\"{} {}\".format(n,d) for (n,d) in zip(listings_df.columns, listings_df.dtypes.replace(replacements)))\n",
    "col_str"
   ]
  },
  {
   "cell_type": "markdown",
   "id": "e3abd4ba",
   "metadata": {},
   "source": [
    "## Calendar"
   ]
  },
  {
   "cell_type": "code",
   "execution_count": 51,
   "id": "45db3d50",
   "metadata": {},
   "outputs": [
    {
     "data": {
      "text/plain": [
       "listing_id        0\n",
       "date              0\n",
       "available         0\n",
       "price             2\n",
       "adjusted_price    2\n",
       "minimum_nights    2\n",
       "maximum_nights    2\n",
       "dtype: int64"
      ]
     },
     "execution_count": 51,
     "metadata": {},
     "output_type": "execute_result"
    }
   ],
   "source": [
    "#Show the null values\n",
    "calendar_df.isnull().sum()"
   ]
  },
  {
   "cell_type": "code",
   "execution_count": 52,
   "id": "0db6c505",
   "metadata": {},
   "outputs": [],
   "source": [
    "# Drop rows with nulls\n",
    "calendar_df.dropna(how=\"any\",inplace=True)"
   ]
  },
  {
   "cell_type": "code",
   "execution_count": 53,
   "id": "3b420846",
   "metadata": {},
   "outputs": [],
   "source": [
    "#Format the price column\n",
    "calendar_df[\"price\"]=calendar_df[\"price\"].str.replace(\"$\",\"\",regex=True).str.replace(\",\",\"\",regex=True).astype(float)\n",
    "calendar_df[\"price\"]=calendar_df[\"price\"].map(\"{:.0f}\".format).astype(float)"
   ]
  },
  {
   "cell_type": "code",
   "execution_count": 54,
   "id": "049720cf",
   "metadata": {},
   "outputs": [],
   "source": [
    "#Format date column to extract weekday and month\n",
    "calendar_df['date']=pd.to_datetime(calendar_df.date)\n",
    "calendar_df['weekday'] =calendar_df['date'].dt.day_name()\n",
    "calendar_df['month'] =calendar_df['date'].dt.month_name()"
   ]
  },
  {
   "cell_type": "code",
   "execution_count": 55,
   "id": "511b3701",
   "metadata": {},
   "outputs": [],
   "source": [
    "# Copy the clean data\n",
    "clean_calendar_df=calendar_df.copy()"
   ]
  },
  {
   "cell_type": "code",
   "execution_count": 56,
   "id": "b913f267",
   "metadata": {},
   "outputs": [],
   "source": [
    "# Remove unwanted columns\n",
    "clean_calendar_df.drop(columns=[\"adjusted_price\",\"minimum_nights\",\"maximum_nights\"], inplace=True)"
   ]
  },
  {
   "cell_type": "code",
   "execution_count": 57,
   "id": "fedd1e8a",
   "metadata": {},
   "outputs": [
    {
     "data": {
      "text/html": [
       "<div>\n",
       "<style scoped>\n",
       "    .dataframe tbody tr th:only-of-type {\n",
       "        vertical-align: middle;\n",
       "    }\n",
       "\n",
       "    .dataframe tbody tr th {\n",
       "        vertical-align: top;\n",
       "    }\n",
       "\n",
       "    .dataframe thead th {\n",
       "        text-align: right;\n",
       "    }\n",
       "</style>\n",
       "<table border=\"1\" class=\"dataframe\">\n",
       "  <thead>\n",
       "    <tr style=\"text-align: right;\">\n",
       "      <th></th>\n",
       "      <th>listing_id</th>\n",
       "      <th>date</th>\n",
       "      <th>available</th>\n",
       "      <th>price</th>\n",
       "      <th>weekday</th>\n",
       "      <th>month</th>\n",
       "    </tr>\n",
       "  </thead>\n",
       "  <tbody>\n",
       "    <tr>\n",
       "      <th>0</th>\n",
       "      <td>1419</td>\n",
       "      <td>2022-06-06</td>\n",
       "      <td>f</td>\n",
       "      <td>469.0</td>\n",
       "      <td>Monday</td>\n",
       "      <td>June</td>\n",
       "    </tr>\n",
       "    <tr>\n",
       "      <th>1</th>\n",
       "      <td>1419</td>\n",
       "      <td>2022-06-07</td>\n",
       "      <td>f</td>\n",
       "      <td>469.0</td>\n",
       "      <td>Tuesday</td>\n",
       "      <td>June</td>\n",
       "    </tr>\n",
       "    <tr>\n",
       "      <th>2</th>\n",
       "      <td>1419</td>\n",
       "      <td>2022-06-08</td>\n",
       "      <td>f</td>\n",
       "      <td>469.0</td>\n",
       "      <td>Wednesday</td>\n",
       "      <td>June</td>\n",
       "    </tr>\n",
       "    <tr>\n",
       "      <th>3</th>\n",
       "      <td>1419</td>\n",
       "      <td>2022-06-09</td>\n",
       "      <td>f</td>\n",
       "      <td>469.0</td>\n",
       "      <td>Thursday</td>\n",
       "      <td>June</td>\n",
       "    </tr>\n",
       "    <tr>\n",
       "      <th>4</th>\n",
       "      <td>1419</td>\n",
       "      <td>2022-06-10</td>\n",
       "      <td>f</td>\n",
       "      <td>469.0</td>\n",
       "      <td>Friday</td>\n",
       "      <td>June</td>\n",
       "    </tr>\n",
       "  </tbody>\n",
       "</table>\n",
       "</div>"
      ],
      "text/plain": [
       "   listing_id       date available  price    weekday month\n",
       "0        1419 2022-06-06         f  469.0     Monday  June\n",
       "1        1419 2022-06-07         f  469.0    Tuesday  June\n",
       "2        1419 2022-06-08         f  469.0  Wednesday  June\n",
       "3        1419 2022-06-09         f  469.0   Thursday  June\n",
       "4        1419 2022-06-10         f  469.0     Friday  June"
      ]
     },
     "execution_count": 57,
     "metadata": {},
     "output_type": "execute_result"
    }
   ],
   "source": [
    "#Show dataframe\n",
    "clean_calendar_df.head()"
   ]
  },
  {
   "cell_type": "code",
   "execution_count": 58,
   "id": "6a8461fe",
   "metadata": {},
   "outputs": [],
   "source": [
    "#Format the listings id column for importing in PostgreSQL\n",
    "clean_calendar_df[\"listing_id\"]=clean_calendar_df[\"listing_id\"].astype(str)"
   ]
  },
  {
   "cell_type": "code",
   "execution_count": 59,
   "id": "391ef9e0",
   "metadata": {},
   "outputs": [
    {
     "data": {
      "text/plain": [
       "'listing_id varchar,date timestamp,available varchar,price float,weekday varchar,month varchar'"
      ]
     },
     "execution_count": 59,
     "metadata": {},
     "output_type": "execute_result"
    }
   ],
   "source": [
    "# Replace the datatype for columns in dataframe\n",
    "col_str=\",\".join(\"{} {}\".format(n,d) for (n,d) in zip(clean_calendar_df.columns, clean_calendar_df.dtypes.replace(replacements)))\n",
    "col_str"
   ]
  },
  {
   "cell_type": "markdown",
   "id": "957b41c6",
   "metadata": {},
   "source": [
    "## Insert Data into Database"
   ]
  },
  {
   "cell_type": "code",
   "execution_count": 60,
   "id": "79955781",
   "metadata": {
    "scrolled": true
   },
   "outputs": [
    {
     "name": "stdout",
     "output_type": "stream",
     "text": [
      "opened database successfully\n"
     ]
    }
   ],
   "source": [
    "# Get the config params\n",
    "params_ = config()\n",
    "\n",
    "# Connect to the Postgres_DB:\n",
    "conn = psycopg2.connect(**params_)\n",
    "\n",
    "# Create new_cursor allowing us to write Python to execute PSQL:\n",
    "cur = conn.cursor()\n",
    "\n",
    "conn.autocommit = True  # read documentation understanding when to Use & NOT use (TRUE)\n",
    "print(\"opened database successfully\")"
   ]
  },
  {
   "cell_type": "markdown",
   "id": "2b6f221d",
   "metadata": {},
   "source": [
    "## Listings"
   ]
  },
  {
   "cell_type": "code",
   "execution_count": 61,
   "id": "cb7757a8",
   "metadata": {},
   "outputs": [],
   "source": [
    "#drop table listings with the same name\n",
    "cur.execute(\"DROP TABLE IF EXISTS listings\")"
   ]
  },
  {
   "cell_type": "code",
   "execution_count": 62,
   "id": "d7823cfc",
   "metadata": {},
   "outputs": [],
   "source": [
    "#create table\n",
    "cur.execute(\"CREATE TABLE listings(\\\n",
    " id varchar NOT NULL,\\\n",
    " host_response_time varchar NOT NULL,\\\n",
    " host_response_rate varchar NOT NULL,\\\n",
    " host_is_superhost float NOT NULL,\\\n",
    " host_listings_count float NOT NULL,\\\n",
    " host_identity_verified float NOT NULL,\\\n",
    " neighbourhood varchar NOT NULL,\\\n",
    " latitude float NOT NULL,\\\n",
    " longitude float NOT NULL,\\\n",
    " property_type varchar NOT NULL,\\\n",
    " room_type varchar NOT NULL,\\\n",
    " accommodates int NOT NULL,\\\n",
    " bedrooms float,beds float NOT NULL,\\\n",
    " price float NOT NULL,\\\n",
    " minimum_nights int NOT NULL,\\\n",
    " maximum_nights int NOT NULL,\\\n",
    " availability_90 int NOT NULL,\\\n",
    " number_of_reviews int NOT NULL,\\\n",
    " review_scores_rating float NOT NULL,\\\n",
    " review_scores_accuracy float NOT NULL,\\\n",
    " review_scores_cleanliness float NOT NULL,\\\n",
    " review_scores_checkin float NOT NULL,\\\n",
    " review_scores_communication float NOT NULL,\\\n",
    " review_scores_location float NOT NULL,\\\n",
    " review_scores_value float NOT NULL,\\\n",
    " instant_bookable int NOT NULL,\\\n",
    " host_active_days float NOT NULL,\\\n",
    " toiletries float NOT NULL,\\\n",
    " high_end_electronics float NOT NULL,\\\n",
    " ac_heater float NOT NULL,\\\n",
    " internet float NOT NULL,\\\n",
    " bbq float NOT NULL,\\\n",
    " home_appliances float NOT NULL,\\\n",
    " coffee_machine float NOT NULL,\\\n",
    " long_term_stays float NOT NULL,\\\n",
    " host_greeting float NOT NULL,\\\n",
    " safety float NOT NULL,\\\n",
    " outdoor_space float NOT NULL,\\\n",
    " hot_tub_sauna_or_pool float NOT NULL,\\\n",
    " room_features float NOT NULL,\\\n",
    " other_facilities float NOT NULL,\\\n",
    " private_entrance float NOT NULL,\\\n",
    " parking float NOT NULL,\\\n",
    " kitchen float NOT NULL,\\\n",
    " elevator float NOT NULL,\\\n",
    " gym float NOT NULL,\\\n",
    " time_since_first_review varchar NOT NULL,\\\n",
    " time_since_last_review varchar  NOT NULL,\\\n",
    " avg_rating_overall float  NOT NULL,\\\n",
    " avg_rating_overall_cat varchar  NOT NULL,\\\n",
    "PRIMARY KEY(id))\")"
   ]
  },
  {
   "cell_type": "code",
   "execution_count": 63,
   "id": "287069c5",
   "metadata": {},
   "outputs": [
    {
     "name": "stdout",
     "output_type": "stream",
     "text": [
      "file opened in memory\n"
     ]
    }
   ],
   "source": [
    "#Insert values into the table\n",
    "\n",
    "#save df to csv\n",
    "listings_df.to_csv('clean_listings.csv', header=listings_df.columns, index=False, encoding='utf-8')\n",
    "\n",
    "#open the csv file, save it as an object, and upload to db\n",
    "my_file=open('clean_listings.csv')\n",
    "print(\"file opened in memory\")"
   ]
  },
  {
   "cell_type": "code",
   "execution_count": 64,
   "id": "84bad73c",
   "metadata": {},
   "outputs": [
    {
     "name": "stdout",
     "output_type": "stream",
     "text": [
      "file copied to db\n"
     ]
    }
   ],
   "source": [
    "# #Upload to database\n",
    "SQL_STATEMENT= \"\"\"\n",
    " COPY listings FROM STDIN WITH\n",
    "     CSV\n",
    "     HEADER\n",
    "     DELIMITER AS ','\n",
    "\"\"\"\n",
    "\n",
    "cur.copy_expert(sql=SQL_STATEMENT, file=my_file)\n",
    "print('file copied to db')"
   ]
  },
  {
   "cell_type": "markdown",
   "id": "5f72db11",
   "metadata": {},
   "source": [
    "## Calendar"
   ]
  },
  {
   "cell_type": "code",
   "execution_count": 65,
   "id": "08a38dca",
   "metadata": {},
   "outputs": [],
   "source": [
    "#drop table calendar with the same name\n",
    "cur.execute(\"DROP TABLE IF EXISTS calendar\")"
   ]
  },
  {
   "cell_type": "code",
   "execution_count": 66,
   "id": "0d4ecb4b",
   "metadata": {},
   "outputs": [],
   "source": [
    "#create table\n",
    "cur.execute(\"CREATE TABLE calendar(\\\n",
    " listing_id varchar NOT NULL,\\\n",
    " date timestamp NOT NULL,\\\n",
    " available varchar NOT NULL,\\\n",
    " price float NOT NULL,\\\n",
    " weekday varchar NOT NULL,\\\n",
    " month varchar NOT NULL,\\\n",
    "PRIMARY KEY(listing_id,date))\")"
   ]
  },
  {
   "cell_type": "code",
   "execution_count": 67,
   "id": "4355725a",
   "metadata": {},
   "outputs": [
    {
     "name": "stdout",
     "output_type": "stream",
     "text": [
      "file opened in memory\n"
     ]
    }
   ],
   "source": [
    "#Insert values into the table\n",
    "\n",
    "#save df to csv\n",
    "clean_calendar_df.to_csv('clean_calendar.csv', header=clean_calendar_df.columns, index=False, encoding='utf-8')\n",
    "\n",
    "#open the csv file, save it as an object, and upload to db\n",
    "my_file=open('clean_calendar.csv')\n",
    "print(\"file opened in memory\")"
   ]
  },
  {
   "cell_type": "code",
   "execution_count": 68,
   "id": "2b8e0e36",
   "metadata": {},
   "outputs": [
    {
     "name": "stdout",
     "output_type": "stream",
     "text": [
      "file copied to db\n"
     ]
    }
   ],
   "source": [
    "# #Upload to database\n",
    "SQL_STATEMENT= \"\"\"\n",
    " COPY calendar FROM STDIN WITH\n",
    "     CSV\n",
    "     HEADER\n",
    "     DELIMITER AS ','\n",
    "\"\"\"\n",
    "\n",
    "cur.copy_expert(sql=SQL_STATEMENT, file=my_file)\n",
    "print('file copied to db')"
   ]
  },
  {
   "cell_type": "markdown",
   "id": "95cf2b62",
   "metadata": {},
   "source": [
    "## Scraping Data to find Toronto Borough Names"
   ]
  },
  {
   "cell_type": "code",
   "execution_count": 69,
   "id": "d0726aa8",
   "metadata": {},
   "outputs": [],
   "source": [
    "url = 'https://en.wikipedia.org/wiki/List_of_postal_codes_of_Canada:_M'\n",
    "html_data = requests.get(url).text \n",
    "\n",
    "soup = BeautifulSoup(html_data, 'lxml')\n",
    "\n",
    "# creating Toronto Dataframe\n",
    "df_toronto = pd.DataFrame(columns = ['PostalCode','Borough','Neighborhood'])\n",
    "\n",
    "\n",
    "# scrapping all rows of the table\n",
    "table_rows = soup.find('table').tbody.find_all('tr')\n",
    "\n",
    "# filtering rows and inserting data to df_toronto\n",
    "for rows in table_rows :\n",
    "    for column in rows.find_all('td') :\n",
    "        if column.span.text != 'Not assigned' :\n",
    "            span  = column.span.text.split('(')\n",
    "            df_toronto = df_toronto.append({'PostalCode' : column.b.text,\n",
    "                              'Borough' : span[0],\n",
    "                              'Neighborhood' : span[1][:-1]}, ignore_index=True)"
   ]
  },
  {
   "cell_type": "code",
   "execution_count": 70,
   "id": "07169e89",
   "metadata": {},
   "outputs": [
    {
     "data": {
      "text/html": [
       "<div>\n",
       "<style scoped>\n",
       "    .dataframe tbody tr th:only-of-type {\n",
       "        vertical-align: middle;\n",
       "    }\n",
       "\n",
       "    .dataframe tbody tr th {\n",
       "        vertical-align: top;\n",
       "    }\n",
       "\n",
       "    .dataframe thead th {\n",
       "        text-align: right;\n",
       "    }\n",
       "</style>\n",
       "<table border=\"1\" class=\"dataframe\">\n",
       "  <thead>\n",
       "    <tr style=\"text-align: right;\">\n",
       "      <th></th>\n",
       "      <th>PostalCode</th>\n",
       "      <th>Borough</th>\n",
       "      <th>Neighborhood</th>\n",
       "    </tr>\n",
       "  </thead>\n",
       "  <tbody>\n",
       "    <tr>\n",
       "      <th>0</th>\n",
       "      <td>M1B</td>\n",
       "      <td>Scarborough</td>\n",
       "      <td>Malvern / Rouge</td>\n",
       "    </tr>\n",
       "    <tr>\n",
       "      <th>1</th>\n",
       "      <td>M1C</td>\n",
       "      <td>Scarborough</td>\n",
       "      <td>Rouge Hill / Port Union / Highland Creek</td>\n",
       "    </tr>\n",
       "    <tr>\n",
       "      <th>2</th>\n",
       "      <td>M1E</td>\n",
       "      <td>Scarborough</td>\n",
       "      <td>Guildwood / Morningside / West Hill</td>\n",
       "    </tr>\n",
       "    <tr>\n",
       "      <th>3</th>\n",
       "      <td>M1G</td>\n",
       "      <td>Scarborough</td>\n",
       "      <td>Woburn</td>\n",
       "    </tr>\n",
       "    <tr>\n",
       "      <th>4</th>\n",
       "      <td>M1H</td>\n",
       "      <td>Scarborough</td>\n",
       "      <td>Cedarbrae</td>\n",
       "    </tr>\n",
       "    <tr>\n",
       "      <th>5</th>\n",
       "      <td>M1J</td>\n",
       "      <td>Scarborough</td>\n",
       "      <td>Scarborough Village</td>\n",
       "    </tr>\n",
       "    <tr>\n",
       "      <th>6</th>\n",
       "      <td>M1K</td>\n",
       "      <td>Scarborough</td>\n",
       "      <td>Kennedy Park / Ionview / East Birchmount Park</td>\n",
       "    </tr>\n",
       "    <tr>\n",
       "      <th>7</th>\n",
       "      <td>M1L</td>\n",
       "      <td>Scarborough</td>\n",
       "      <td>Golden Mile / Clairlea / Oakridge</td>\n",
       "    </tr>\n",
       "    <tr>\n",
       "      <th>8</th>\n",
       "      <td>M1M</td>\n",
       "      <td>Scarborough</td>\n",
       "      <td>Cliffside / Cliffcrest / Scarborough Village West</td>\n",
       "    </tr>\n",
       "    <tr>\n",
       "      <th>9</th>\n",
       "      <td>M1N</td>\n",
       "      <td>Scarborough</td>\n",
       "      <td>Birch Cliff / Cliffside West</td>\n",
       "    </tr>\n",
       "  </tbody>\n",
       "</table>\n",
       "</div>"
      ],
      "text/plain": [
       "  PostalCode      Borough                                       Neighborhood\n",
       "0        M1B  Scarborough                                    Malvern / Rouge\n",
       "1        M1C  Scarborough           Rouge Hill / Port Union / Highland Creek\n",
       "2        M1E  Scarborough                Guildwood / Morningside / West Hill\n",
       "3        M1G  Scarborough                                             Woburn\n",
       "4        M1H  Scarborough                                          Cedarbrae\n",
       "5        M1J  Scarborough                                Scarborough Village\n",
       "6        M1K  Scarborough      Kennedy Park / Ionview / East Birchmount Park\n",
       "7        M1L  Scarborough                  Golden Mile / Clairlea / Oakridge\n",
       "8        M1M  Scarborough  Cliffside / Cliffcrest / Scarborough Village West\n",
       "9        M1N  Scarborough                       Birch Cliff / Cliffside West"
      ]
     },
     "execution_count": 70,
     "metadata": {},
     "output_type": "execute_result"
    }
   ],
   "source": [
    "df_toronto = df_toronto.sort_values('PostalCode').reset_index(drop = True)\n",
    "df_toronto.head(10)"
   ]
  },
  {
   "cell_type": "code",
   "execution_count": 71,
   "id": "99e3b07c",
   "metadata": {},
   "outputs": [
    {
     "data": {
      "text/html": [
       "<div>\n",
       "<style scoped>\n",
       "    .dataframe tbody tr th:only-of-type {\n",
       "        vertical-align: middle;\n",
       "    }\n",
       "\n",
       "    .dataframe tbody tr th {\n",
       "        vertical-align: top;\n",
       "    }\n",
       "\n",
       "    .dataframe thead th {\n",
       "        text-align: right;\n",
       "    }\n",
       "</style>\n",
       "<table border=\"1\" class=\"dataframe\">\n",
       "  <thead>\n",
       "    <tr style=\"text-align: right;\">\n",
       "      <th></th>\n",
       "      <th>PostalCode</th>\n",
       "      <th>Borough</th>\n",
       "      <th>Neighborhood</th>\n",
       "      <th>Latitude</th>\n",
       "      <th>Longitude</th>\n",
       "    </tr>\n",
       "  </thead>\n",
       "  <tbody>\n",
       "    <tr>\n",
       "      <th>20</th>\n",
       "      <td>M2L</td>\n",
       "      <td>North York</td>\n",
       "      <td>York Mills / Silver Hills</td>\n",
       "      <td>43.758908</td>\n",
       "      <td>-79.370143</td>\n",
       "    </tr>\n",
       "    <tr>\n",
       "      <th>27</th>\n",
       "      <td>M3C</td>\n",
       "      <td>North York</td>\n",
       "      <td>Don Mills)Sout</td>\n",
       "      <td>43.724389</td>\n",
       "      <td>-79.343708</td>\n",
       "    </tr>\n",
       "    <tr>\n",
       "      <th>76</th>\n",
       "      <td>M6H</td>\n",
       "      <td>West Toronto</td>\n",
       "      <td>Dufferin / Dovercourt Village</td>\n",
       "      <td>43.664836</td>\n",
       "      <td>-79.437695</td>\n",
       "    </tr>\n",
       "    <tr>\n",
       "      <th>60</th>\n",
       "      <td>M5K</td>\n",
       "      <td>Downtown Toronto</td>\n",
       "      <td>Toronto Dominion Centre / Design Exchange</td>\n",
       "      <td>43.647707</td>\n",
       "      <td>-79.381722</td>\n",
       "    </tr>\n",
       "    <tr>\n",
       "      <th>44</th>\n",
       "      <td>M4N</td>\n",
       "      <td>Central Toronto</td>\n",
       "      <td>Lawrence Park</td>\n",
       "      <td>43.727298</td>\n",
       "      <td>-79.390157</td>\n",
       "    </tr>\n",
       "    <tr>\n",
       "      <th>19</th>\n",
       "      <td>M2K</td>\n",
       "      <td>North York</td>\n",
       "      <td>Bayview Village</td>\n",
       "      <td>43.773427</td>\n",
       "      <td>-79.377433</td>\n",
       "    </tr>\n",
       "    <tr>\n",
       "      <th>46</th>\n",
       "      <td>M4R</td>\n",
       "      <td>Central Toronto</td>\n",
       "      <td>North Toronto West</td>\n",
       "      <td>43.714785</td>\n",
       "      <td>-79.406276</td>\n",
       "    </tr>\n",
       "    <tr>\n",
       "      <th>3</th>\n",
       "      <td>M1G</td>\n",
       "      <td>Scarborough</td>\n",
       "      <td>Woburn</td>\n",
       "      <td>43.770647</td>\n",
       "      <td>-79.216741</td>\n",
       "    </tr>\n",
       "    <tr>\n",
       "      <th>65</th>\n",
       "      <td>M5R</td>\n",
       "      <td>Central Toronto</td>\n",
       "      <td>The Annex / North Midtown / Yorkville</td>\n",
       "      <td>43.671761</td>\n",
       "      <td>-79.403175</td>\n",
       "    </tr>\n",
       "    <tr>\n",
       "      <th>64</th>\n",
       "      <td>M5P</td>\n",
       "      <td>Central Toronto</td>\n",
       "      <td>Forest Hill North &amp; West</td>\n",
       "      <td>43.700323</td>\n",
       "      <td>-79.404178</td>\n",
       "    </tr>\n",
       "  </tbody>\n",
       "</table>\n",
       "</div>"
      ],
      "text/plain": [
       "   PostalCode           Borough                               Neighborhood  \\\n",
       "20        M2L        North York                  York Mills / Silver Hills   \n",
       "27        M3C        North York                             Don Mills)Sout   \n",
       "76        M6H      West Toronto              Dufferin / Dovercourt Village   \n",
       "60        M5K  Downtown Toronto  Toronto Dominion Centre / Design Exchange   \n",
       "44        M4N   Central Toronto                              Lawrence Park   \n",
       "19        M2K        North York                            Bayview Village   \n",
       "46        M4R   Central Toronto                         North Toronto West   \n",
       "3         M1G       Scarborough                                     Woburn   \n",
       "65        M5R   Central Toronto      The Annex / North Midtown / Yorkville   \n",
       "64        M5P   Central Toronto                   Forest Hill North & West   \n",
       "\n",
       "     Latitude  Longitude  \n",
       "20  43.758908 -79.370143  \n",
       "27  43.724389 -79.343708  \n",
       "76  43.664836 -79.437695  \n",
       "60  43.647707 -79.381722  \n",
       "44  43.727298 -79.390157  \n",
       "19  43.773427 -79.377433  \n",
       "46  43.714785 -79.406276  \n",
       "3   43.770647 -79.216741  \n",
       "65  43.671761 -79.403175  \n",
       "64  43.700323 -79.404178  "
      ]
     },
     "execution_count": 71,
     "metadata": {},
     "output_type": "execute_result"
    }
   ],
   "source": [
    "#Retrieving Postal Codes and Borough from sample rows\n",
    "\n",
    "# convert an address into latitude and longitude values\n",
    "\n",
    "# generating sample for testing  \n",
    "rows = df_toronto.sample(frac =.10) \n",
    "  \n",
    "# checking if sample is 0.25 times data or not \n",
    "if (0.10*(len(df_toronto))== len(rows)): \n",
    "    print( \"Cool\") \n",
    "    print(len(df_toronto), len(rows))\n",
    "\n",
    "# Extract postal codes as list\n",
    "postcodes_lst = rows['PostalCode'].tolist()\n",
    "\n",
    "# Generate empty lists to store data\n",
    "latitude = []\n",
    "longitude = []\n",
    "\n",
    "# Loop through each post code and retrieve lat and long\n",
    "# used geocoder.argis instead of google\n",
    "for i in postcodes_lst:\n",
    "    lat_lng_coords = None\n",
    "    # loop until you get the coordinates\n",
    "    while(lat_lng_coords is None):\n",
    "        g = geocoder.arcgis('{}, Toronto, Ontario'.format(i))\n",
    "        lat_lng_coords = g.latlng\n",
    "    latitude.append(lat_lng_coords[0])\n",
    "    longitude.append(lat_lng_coords[1])\n",
    "\n",
    "# add to dataframe as new colums\n",
    "rows['Latitude'] = latitude\n",
    "rows['Longitude'] = longitude\n",
    "\n",
    "# display pandas df\n",
    "rows"
   ]
  },
  {
   "cell_type": "code",
   "execution_count": 72,
   "id": "3541eeeb",
   "metadata": {},
   "outputs": [
    {
     "data": {
      "text/html": [
       "<div>\n",
       "<style scoped>\n",
       "    .dataframe tbody tr th:only-of-type {\n",
       "        vertical-align: middle;\n",
       "    }\n",
       "\n",
       "    .dataframe tbody tr th {\n",
       "        vertical-align: top;\n",
       "    }\n",
       "\n",
       "    .dataframe thead th {\n",
       "        text-align: right;\n",
       "    }\n",
       "</style>\n",
       "<table border=\"1\" class=\"dataframe\">\n",
       "  <thead>\n",
       "    <tr style=\"text-align: right;\">\n",
       "      <th></th>\n",
       "      <th>PostalCode</th>\n",
       "      <th>Borough</th>\n",
       "      <th>Neighborhood</th>\n",
       "      <th>Latitude</th>\n",
       "      <th>Longitude</th>\n",
       "    </tr>\n",
       "  </thead>\n",
       "  <tbody>\n",
       "    <tr>\n",
       "      <th>0</th>\n",
       "      <td>M1B</td>\n",
       "      <td>Scarborough</td>\n",
       "      <td>Malvern / Rouge</td>\n",
       "      <td>43.809154</td>\n",
       "      <td>-79.194867</td>\n",
       "    </tr>\n",
       "    <tr>\n",
       "      <th>1</th>\n",
       "      <td>M1C</td>\n",
       "      <td>Scarborough</td>\n",
       "      <td>Rouge Hill / Port Union / Highland Creek</td>\n",
       "      <td>43.787592</td>\n",
       "      <td>-79.156095</td>\n",
       "    </tr>\n",
       "    <tr>\n",
       "      <th>2</th>\n",
       "      <td>M1E</td>\n",
       "      <td>Scarborough</td>\n",
       "      <td>Guildwood / Morningside / West Hill</td>\n",
       "      <td>43.765523</td>\n",
       "      <td>-79.185671</td>\n",
       "    </tr>\n",
       "    <tr>\n",
       "      <th>3</th>\n",
       "      <td>M1G</td>\n",
       "      <td>Scarborough</td>\n",
       "      <td>Woburn</td>\n",
       "      <td>43.770647</td>\n",
       "      <td>-79.216741</td>\n",
       "    </tr>\n",
       "    <tr>\n",
       "      <th>4</th>\n",
       "      <td>M1H</td>\n",
       "      <td>Scarborough</td>\n",
       "      <td>Cedarbrae</td>\n",
       "      <td>43.768576</td>\n",
       "      <td>-79.238679</td>\n",
       "    </tr>\n",
       "  </tbody>\n",
       "</table>\n",
       "</div>"
      ],
      "text/plain": [
       "  PostalCode      Borough                              Neighborhood  \\\n",
       "0        M1B  Scarborough                           Malvern / Rouge   \n",
       "1        M1C  Scarborough  Rouge Hill / Port Union / Highland Creek   \n",
       "2        M1E  Scarborough       Guildwood / Morningside / West Hill   \n",
       "3        M1G  Scarborough                                    Woburn   \n",
       "4        M1H  Scarborough                                 Cedarbrae   \n",
       "\n",
       "    Latitude  Longitude  \n",
       "0  43.809154 -79.194867  \n",
       "1  43.787592 -79.156095  \n",
       "2  43.765523 -79.185671  \n",
       "3  43.770647 -79.216741  \n",
       "4  43.768576 -79.238679  "
      ]
     },
     "execution_count": 72,
     "metadata": {},
     "output_type": "execute_result"
    }
   ],
   "source": [
    "#Extract data for entire dataframe\n",
    "\n",
    "# Extract postal codes as list\n",
    "lst = df_toronto['PostalCode'].tolist()\n",
    "\n",
    "# Generate empty lists to store data\n",
    "latitude = []\n",
    "longitude = []\n",
    "\n",
    "# Loop through each post code and retrieve lat and long\n",
    "# used geocoder.argis instead of google\n",
    "for i in lst:\n",
    "    lat_lng_coords = None\n",
    "    # loop until you get the coordinates\n",
    "    while(lat_lng_coords is None):\n",
    "        g = geocoder.arcgis('{}, Toronto, Ontario'.format(i))\n",
    "        lat_lng_coords = g.latlng\n",
    "    latitude.append(lat_lng_coords[0])\n",
    "    longitude.append(lat_lng_coords[1])\n",
    "\n",
    "# add to dataframe as new colums\n",
    "df_toronto['Latitude'] = latitude\n",
    "df_toronto['Longitude'] = longitude\n",
    "df_toronto.head()"
   ]
  },
  {
   "cell_type": "code",
   "execution_count": 73,
   "id": "7ea9bcb2",
   "metadata": {},
   "outputs": [],
   "source": [
    "# read geojson neighborhoods\n",
    "s3 = boto3.resource('s3', \n",
    "       aws_access_key_id=aws_access_key,\n",
    "       aws_secret_access_key= aws_secret_access)\n",
    "\n",
    "content_object = s3.Object('bc-final-airbnb-data', 'neighbourhoods.geojson')\n",
    "file_content = content_object.get()['Body'].read().decode('utf-8')\n",
    "map_df = gpd.read_file(file_content)"
   ]
  },
  {
   "cell_type": "code",
   "execution_count": 74,
   "id": "557e2b2c",
   "metadata": {},
   "outputs": [],
   "source": [
    "map_df[\"longitude\"] = map_df.centroid.x\n",
    "map_df[\"latitude\"] = map_df.centroid.y"
   ]
  },
  {
   "cell_type": "code",
   "execution_count": 75,
   "id": "f2c328af",
   "metadata": {},
   "outputs": [],
   "source": [
    "#Function to call the postal codes using geolocator\n",
    "\n",
    "def get_zipcode(df, geolocator, lat_field, lon_field):\n",
    "    location = geolocator.reverse((df[lat_field], df[lon_field]))\n",
    "    return location.raw['address']['postcode']\n",
    "\n",
    "\n",
    "geolocator = geopy.Nominatim(user_agent='group project')"
   ]
  },
  {
   "cell_type": "code",
   "execution_count": 76,
   "id": "e15e06ca",
   "metadata": {},
   "outputs": [],
   "source": [
    "map_df[\"PostalCode\"]=map_df.apply(get_zipcode, axis=1, geolocator=geolocator, lat_field=\"latitude\", lon_field=\"longitude\")"
   ]
  },
  {
   "cell_type": "code",
   "execution_count": 77,
   "id": "28b0d48f",
   "metadata": {},
   "outputs": [],
   "source": [
    "map_df.drop(columns=[\"neighbourhood_group\", \"geometry\"],inplace=True)"
   ]
  },
  {
   "cell_type": "code",
   "execution_count": 78,
   "id": "1e6cb267",
   "metadata": {
    "scrolled": true
   },
   "outputs": [
    {
     "data": {
      "text/html": [
       "<div>\n",
       "<style scoped>\n",
       "    .dataframe tbody tr th:only-of-type {\n",
       "        vertical-align: middle;\n",
       "    }\n",
       "\n",
       "    .dataframe tbody tr th {\n",
       "        vertical-align: top;\n",
       "    }\n",
       "\n",
       "    .dataframe thead th {\n",
       "        text-align: right;\n",
       "    }\n",
       "</style>\n",
       "<table border=\"1\" class=\"dataframe\">\n",
       "  <thead>\n",
       "    <tr style=\"text-align: right;\">\n",
       "      <th></th>\n",
       "      <th>neighbourhood</th>\n",
       "      <th>longitude</th>\n",
       "      <th>latitude</th>\n",
       "      <th>PostalCode</th>\n",
       "    </tr>\n",
       "  </thead>\n",
       "  <tbody>\n",
       "    <tr>\n",
       "      <th>0</th>\n",
       "      <td>York University Heights</td>\n",
       "      <td>-79.488883</td>\n",
       "      <td>43.765737</td>\n",
       "      <td>M3J</td>\n",
       "    </tr>\n",
       "    <tr>\n",
       "      <th>1</th>\n",
       "      <td>The Beaches</td>\n",
       "      <td>-79.299600</td>\n",
       "      <td>43.671050</td>\n",
       "      <td>M4L</td>\n",
       "    </tr>\n",
       "    <tr>\n",
       "      <th>2</th>\n",
       "      <td>Scarborough Village</td>\n",
       "      <td>-79.216813</td>\n",
       "      <td>43.738652</td>\n",
       "      <td>M1J</td>\n",
       "    </tr>\n",
       "    <tr>\n",
       "      <th>3</th>\n",
       "      <td>South Parkdale</td>\n",
       "      <td>-79.439338</td>\n",
       "      <td>43.636699</td>\n",
       "      <td>M6K</td>\n",
       "    </tr>\n",
       "    <tr>\n",
       "      <th>4</th>\n",
       "      <td>South Riverdale</td>\n",
       "      <td>-79.335651</td>\n",
       "      <td>43.649295</td>\n",
       "      <td>M4M</td>\n",
       "    </tr>\n",
       "  </tbody>\n",
       "</table>\n",
       "</div>"
      ],
      "text/plain": [
       "             neighbourhood  longitude   latitude PostalCode\n",
       "0  York University Heights -79.488883  43.765737        M3J\n",
       "1              The Beaches -79.299600  43.671050        M4L\n",
       "2      Scarborough Village -79.216813  43.738652        M1J\n",
       "3           South Parkdale -79.439338  43.636699        M6K\n",
       "4          South Riverdale -79.335651  43.649295        M4M"
      ]
     },
     "execution_count": 78,
     "metadata": {},
     "output_type": "execute_result"
    }
   ],
   "source": [
    "map_df[\"PostalCode\"]=map_df[\"PostalCode\"].str[:-4]\n",
    "map_df.head()"
   ]
  },
  {
   "cell_type": "code",
   "execution_count": 79,
   "id": "c6848e95",
   "metadata": {},
   "outputs": [
    {
     "data": {
      "text/html": [
       "<div>\n",
       "<style scoped>\n",
       "    .dataframe tbody tr th:only-of-type {\n",
       "        vertical-align: middle;\n",
       "    }\n",
       "\n",
       "    .dataframe tbody tr th {\n",
       "        vertical-align: top;\n",
       "    }\n",
       "\n",
       "    .dataframe thead th {\n",
       "        text-align: right;\n",
       "    }\n",
       "</style>\n",
       "<table border=\"1\" class=\"dataframe\">\n",
       "  <thead>\n",
       "    <tr style=\"text-align: right;\">\n",
       "      <th></th>\n",
       "      <th>PostalCode</th>\n",
       "      <th>Borough</th>\n",
       "    </tr>\n",
       "  </thead>\n",
       "  <tbody>\n",
       "    <tr>\n",
       "      <th>0</th>\n",
       "      <td>M1B</td>\n",
       "      <td>Scarborough</td>\n",
       "    </tr>\n",
       "    <tr>\n",
       "      <th>1</th>\n",
       "      <td>M1C</td>\n",
       "      <td>Scarborough</td>\n",
       "    </tr>\n",
       "    <tr>\n",
       "      <th>2</th>\n",
       "      <td>M1E</td>\n",
       "      <td>Scarborough</td>\n",
       "    </tr>\n",
       "    <tr>\n",
       "      <th>3</th>\n",
       "      <td>M1G</td>\n",
       "      <td>Scarborough</td>\n",
       "    </tr>\n",
       "    <tr>\n",
       "      <th>4</th>\n",
       "      <td>M1H</td>\n",
       "      <td>Scarborough</td>\n",
       "    </tr>\n",
       "    <tr>\n",
       "      <th>...</th>\n",
       "      <td>...</td>\n",
       "      <td>...</td>\n",
       "    </tr>\n",
       "    <tr>\n",
       "      <th>98</th>\n",
       "      <td>M9N</td>\n",
       "      <td>York</td>\n",
       "    </tr>\n",
       "    <tr>\n",
       "      <th>99</th>\n",
       "      <td>M9P</td>\n",
       "      <td>Etobicoke</td>\n",
       "    </tr>\n",
       "    <tr>\n",
       "      <th>100</th>\n",
       "      <td>M9R</td>\n",
       "      <td>Etobicoke</td>\n",
       "    </tr>\n",
       "    <tr>\n",
       "      <th>101</th>\n",
       "      <td>M9V</td>\n",
       "      <td>Etobicoke</td>\n",
       "    </tr>\n",
       "    <tr>\n",
       "      <th>102</th>\n",
       "      <td>M9W</td>\n",
       "      <td>EtobicokeNorthwest</td>\n",
       "    </tr>\n",
       "  </tbody>\n",
       "</table>\n",
       "<p>103 rows × 2 columns</p>\n",
       "</div>"
      ],
      "text/plain": [
       "    PostalCode             Borough\n",
       "0          M1B         Scarborough\n",
       "1          M1C         Scarborough\n",
       "2          M1E         Scarborough\n",
       "3          M1G         Scarborough\n",
       "4          M1H         Scarborough\n",
       "..         ...                 ...\n",
       "98         M9N                York\n",
       "99         M9P           Etobicoke\n",
       "100        M9R           Etobicoke\n",
       "101        M9V           Etobicoke\n",
       "102        M9W  EtobicokeNorthwest\n",
       "\n",
       "[103 rows x 2 columns]"
      ]
     },
     "execution_count": 79,
     "metadata": {},
     "output_type": "execute_result"
    }
   ],
   "source": [
    "toronto_borough=df_toronto[[\"PostalCode\",\"Borough\"]]\n",
    "toronto_borough"
   ]
  },
  {
   "cell_type": "code",
   "execution_count": 80,
   "id": "820195b1",
   "metadata": {
    "scrolled": true
   },
   "outputs": [
    {
     "data": {
      "text/html": [
       "<div>\n",
       "<style scoped>\n",
       "    .dataframe tbody tr th:only-of-type {\n",
       "        vertical-align: middle;\n",
       "    }\n",
       "\n",
       "    .dataframe tbody tr th {\n",
       "        vertical-align: top;\n",
       "    }\n",
       "\n",
       "    .dataframe thead th {\n",
       "        text-align: right;\n",
       "    }\n",
       "</style>\n",
       "<table border=\"1\" class=\"dataframe\">\n",
       "  <thead>\n",
       "    <tr style=\"text-align: right;\">\n",
       "      <th></th>\n",
       "      <th>neighbourhood</th>\n",
       "      <th>longitude</th>\n",
       "      <th>latitude</th>\n",
       "      <th>PostalCode</th>\n",
       "      <th>Borough</th>\n",
       "    </tr>\n",
       "  </thead>\n",
       "  <tbody>\n",
       "    <tr>\n",
       "      <th>0</th>\n",
       "      <td>York University Heights</td>\n",
       "      <td>-79.488883</td>\n",
       "      <td>43.765737</td>\n",
       "      <td>M3J</td>\n",
       "      <td>North York</td>\n",
       "    </tr>\n",
       "    <tr>\n",
       "      <th>1</th>\n",
       "      <td>The Beaches</td>\n",
       "      <td>-79.299600</td>\n",
       "      <td>43.671050</td>\n",
       "      <td>M4L</td>\n",
       "      <td>East Toronto</td>\n",
       "    </tr>\n",
       "    <tr>\n",
       "      <th>2</th>\n",
       "      <td>Scarborough Village</td>\n",
       "      <td>-79.216813</td>\n",
       "      <td>43.738652</td>\n",
       "      <td>M1J</td>\n",
       "      <td>Scarborough</td>\n",
       "    </tr>\n",
       "    <tr>\n",
       "      <th>3</th>\n",
       "      <td>South Parkdale</td>\n",
       "      <td>-79.439338</td>\n",
       "      <td>43.636699</td>\n",
       "      <td>M6K</td>\n",
       "      <td>West Toronto</td>\n",
       "    </tr>\n",
       "    <tr>\n",
       "      <th>4</th>\n",
       "      <td>South Riverdale</td>\n",
       "      <td>-79.335651</td>\n",
       "      <td>43.649295</td>\n",
       "      <td>M4M</td>\n",
       "      <td>East Toronto</td>\n",
       "    </tr>\n",
       "    <tr>\n",
       "      <th>5</th>\n",
       "      <td>Centennial Scarborough</td>\n",
       "      <td>-79.150844</td>\n",
       "      <td>43.782377</td>\n",
       "      <td>M1C</td>\n",
       "      <td>Scarborough</td>\n",
       "    </tr>\n",
       "    <tr>\n",
       "      <th>6</th>\n",
       "      <td>Church-Yonge Corridor</td>\n",
       "      <td>-79.379018</td>\n",
       "      <td>43.659649</td>\n",
       "      <td>M5B</td>\n",
       "      <td>Downtown Toronto</td>\n",
       "    </tr>\n",
       "    <tr>\n",
       "      <th>7</th>\n",
       "      <td>Guildwood</td>\n",
       "      <td>-79.195054</td>\n",
       "      <td>43.748829</td>\n",
       "      <td>M1E</td>\n",
       "      <td>Scarborough</td>\n",
       "    </tr>\n",
       "    <tr>\n",
       "      <th>8</th>\n",
       "      <td>Waterfront Communities-The Island</td>\n",
       "      <td>-79.377201</td>\n",
       "      <td>43.633881</td>\n",
       "      <td>M5J</td>\n",
       "      <td>Downtown Toronto</td>\n",
       "    </tr>\n",
       "    <tr>\n",
       "      <th>9</th>\n",
       "      <td>West Hill</td>\n",
       "      <td>-79.176676</td>\n",
       "      <td>43.767490</td>\n",
       "      <td>M1E</td>\n",
       "      <td>Scarborough</td>\n",
       "    </tr>\n",
       "  </tbody>\n",
       "</table>\n",
       "</div>"
      ],
      "text/plain": [
       "                       neighbourhood  longitude   latitude PostalCode  \\\n",
       "0            York University Heights -79.488883  43.765737        M3J   \n",
       "1                        The Beaches -79.299600  43.671050        M4L   \n",
       "2                Scarborough Village -79.216813  43.738652        M1J   \n",
       "3                     South Parkdale -79.439338  43.636699        M6K   \n",
       "4                    South Riverdale -79.335651  43.649295        M4M   \n",
       "5             Centennial Scarborough -79.150844  43.782377        M1C   \n",
       "6              Church-Yonge Corridor -79.379018  43.659649        M5B   \n",
       "7                          Guildwood -79.195054  43.748829        M1E   \n",
       "8  Waterfront Communities-The Island -79.377201  43.633881        M5J   \n",
       "9                          West Hill -79.176676  43.767490        M1E   \n",
       "\n",
       "            Borough  \n",
       "0        North York  \n",
       "1      East Toronto  \n",
       "2       Scarborough  \n",
       "3      West Toronto  \n",
       "4      East Toronto  \n",
       "5       Scarborough  \n",
       "6  Downtown Toronto  \n",
       "7       Scarborough  \n",
       "8  Downtown Toronto  \n",
       "9       Scarborough  "
      ]
     },
     "execution_count": 80,
     "metadata": {},
     "output_type": "execute_result"
    }
   ],
   "source": [
    "#Merging Borough Name with neighbourhoods\n",
    "merged_df=map_df.merge(toronto_borough, left_on=\"PostalCode\",right_on=\"PostalCode\", how=\"left\")\n",
    "merged_df.head(10)"
   ]
  },
  {
   "cell_type": "code",
   "execution_count": 81,
   "id": "ece8fad6",
   "metadata": {},
   "outputs": [
    {
     "name": "stdout",
     "output_type": "stream",
     "text": [
      "<class 'pandas.core.frame.DataFrame'>\n",
      "Int64Index: 140 entries, 0 to 139\n",
      "Data columns (total 5 columns):\n",
      " #   Column         Non-Null Count  Dtype  \n",
      "---  ------         --------------  -----  \n",
      " 0   neighbourhood  140 non-null    object \n",
      " 1   longitude      140 non-null    float64\n",
      " 2   latitude       140 non-null    float64\n",
      " 3   PostalCode     140 non-null    object \n",
      " 4   Borough        133 non-null    object \n",
      "dtypes: float64(2), object(3)\n",
      "memory usage: 6.6+ KB\n"
     ]
    }
   ],
   "source": [
    "merged_df.info()"
   ]
  },
  {
   "cell_type": "code",
   "execution_count": 82,
   "id": "e62a0aa0",
   "metadata": {},
   "outputs": [],
   "source": [
    "# Fill the null values with 'unkown'\n",
    "merged_df['Borough'].fillna('unkown', inplace=True)"
   ]
  },
  {
   "cell_type": "code",
   "execution_count": 83,
   "id": "377b0540",
   "metadata": {},
   "outputs": [
    {
     "data": {
      "text/html": [
       "<div>\n",
       "<style scoped>\n",
       "    .dataframe tbody tr th:only-of-type {\n",
       "        vertical-align: middle;\n",
       "    }\n",
       "\n",
       "    .dataframe tbody tr th {\n",
       "        vertical-align: top;\n",
       "    }\n",
       "\n",
       "    .dataframe thead th {\n",
       "        text-align: right;\n",
       "    }\n",
       "</style>\n",
       "<table border=\"1\" class=\"dataframe\">\n",
       "  <thead>\n",
       "    <tr style=\"text-align: right;\">\n",
       "      <th></th>\n",
       "      <th>neighbourhood</th>\n",
       "      <th>longitude</th>\n",
       "      <th>latitude</th>\n",
       "      <th>PostalCode</th>\n",
       "      <th>Borough</th>\n",
       "    </tr>\n",
       "  </thead>\n",
       "  <tbody>\n",
       "    <tr>\n",
       "      <th>0</th>\n",
       "      <td>York University Heights</td>\n",
       "      <td>-79.488883</td>\n",
       "      <td>43.765737</td>\n",
       "      <td>M3J</td>\n",
       "      <td>North York</td>\n",
       "    </tr>\n",
       "    <tr>\n",
       "      <th>1</th>\n",
       "      <td>The Beaches</td>\n",
       "      <td>-79.299600</td>\n",
       "      <td>43.671050</td>\n",
       "      <td>M4L</td>\n",
       "      <td>East Toronto</td>\n",
       "    </tr>\n",
       "    <tr>\n",
       "      <th>2</th>\n",
       "      <td>Scarborough Village</td>\n",
       "      <td>-79.216813</td>\n",
       "      <td>43.738652</td>\n",
       "      <td>M1J</td>\n",
       "      <td>Scarborough</td>\n",
       "    </tr>\n",
       "    <tr>\n",
       "      <th>3</th>\n",
       "      <td>South Parkdale</td>\n",
       "      <td>-79.439338</td>\n",
       "      <td>43.636699</td>\n",
       "      <td>M6K</td>\n",
       "      <td>West Toronto</td>\n",
       "    </tr>\n",
       "    <tr>\n",
       "      <th>4</th>\n",
       "      <td>South Riverdale</td>\n",
       "      <td>-79.335651</td>\n",
       "      <td>43.649295</td>\n",
       "      <td>M4M</td>\n",
       "      <td>East Toronto</td>\n",
       "    </tr>\n",
       "  </tbody>\n",
       "</table>\n",
       "</div>"
      ],
      "text/plain": [
       "             neighbourhood  longitude   latitude PostalCode       Borough\n",
       "0  York University Heights -79.488883  43.765737        M3J    North York\n",
       "1              The Beaches -79.299600  43.671050        M4L  East Toronto\n",
       "2      Scarborough Village -79.216813  43.738652        M1J   Scarborough\n",
       "3           South Parkdale -79.439338  43.636699        M6K  West Toronto\n",
       "4          South Riverdale -79.335651  43.649295        M4M  East Toronto"
      ]
     },
     "execution_count": 83,
     "metadata": {},
     "output_type": "execute_result"
    }
   ],
   "source": [
    "merged_df.head()"
   ]
  },
  {
   "cell_type": "code",
   "execution_count": 84,
   "id": "612f3f1c",
   "metadata": {},
   "outputs": [
    {
     "data": {
      "text/plain": [
       "'neighbourhood varchar,longitude float,latitude float,PostalCode varchar,Borough varchar'"
      ]
     },
     "execution_count": 84,
     "metadata": {},
     "output_type": "execute_result"
    }
   ],
   "source": [
    "# Replace the datatype for columns in dataframe\n",
    "col_str=\",\".join(\"{} {}\".format(n,d) for (n,d) in zip(merged_df.columns, merged_df.dtypes.replace(replacements)))\n",
    "col_str"
   ]
  },
  {
   "cell_type": "code",
   "execution_count": 85,
   "id": "1f409d3f",
   "metadata": {},
   "outputs": [],
   "source": [
    "#drop table neighbourhood with the same name\n",
    "cur.execute(\"DROP TABLE IF EXISTS neighbourhood\")"
   ]
  },
  {
   "cell_type": "code",
   "execution_count": 86,
   "id": "960df98e",
   "metadata": {},
   "outputs": [],
   "source": [
    "cur.execute(\"CREATE TABLE neighbourhood(\\\n",
    "    neighbourhood varchar NOT NULL,\\\n",
    "    longitude float NOT NULL,\\\n",
    "    latitude float NOT NULL,\\\n",
    "    PostalCode varchar,\\\n",
    "    Borough varchar,\\\n",
    "PRIMARY KEY(neighbourhood))\")"
   ]
  },
  {
   "cell_type": "code",
   "execution_count": 87,
   "id": "f5af857a",
   "metadata": {},
   "outputs": [
    {
     "name": "stdout",
     "output_type": "stream",
     "text": [
      "file opened in memory\n"
     ]
    }
   ],
   "source": [
    "#Insert values into the table\n",
    "\n",
    "# save df to csv\n",
    "merged_df.to_csv('neighbourhood.csv', header=merged_df.columns, index=False, encoding='utf-8')\n",
    "\n",
    "# open the csv file, save it as an object, and upload to db\n",
    "my_file=open('neighbourhood.csv')\n",
    "print(\"file opened in memory\")"
   ]
  },
  {
   "cell_type": "code",
   "execution_count": 88,
   "id": "fc6ad2bc",
   "metadata": {},
   "outputs": [
    {
     "name": "stdout",
     "output_type": "stream",
     "text": [
      "file copied to db\n"
     ]
    }
   ],
   "source": [
    "# #Upload to database\n",
    "SQL_STATEMENT= \"\"\"\n",
    " COPY neighbourhood FROM STDIN WITH\n",
    "     CSV\n",
    "     HEADER\n",
    "     DELIMITER AS ','\n",
    "\"\"\"\n",
    "\n",
    "cur.copy_expert(sql=SQL_STATEMENT, file=my_file)\n",
    "print('file copied to db')"
   ]
  },
  {
   "cell_type": "markdown",
   "id": "73d4c719",
   "metadata": {},
   "source": [
    "## Final Merge with Listings dataset"
   ]
  },
  {
   "cell_type": "code",
   "execution_count": 89,
   "id": "89b57f3f",
   "metadata": {},
   "outputs": [],
   "source": [
    "#Merge the listings data\n",
    "clean_df=listings_df.merge(merged_df,on=[\"neighbourhood\"], how=\"left\")\n",
    "clean_df.head()\n",
    "clean_df.drop(columns=[\"longitude_y\",\"latitude_y\",\"PostalCode\"],inplace=True)"
   ]
  },
  {
   "cell_type": "code",
   "execution_count": 90,
   "id": "f1470a13",
   "metadata": {},
   "outputs": [],
   "source": [
    "clean_df[\"Borough\"].fillna(\"unknown\",inplace=True)\n",
    "clean_df.rename(columns={\"Borough\": \"borough\", \"latitude_x\":\"latitude\", \"longitude_x\":\"longitude\"}, inplace=True)"
   ]
  },
  {
   "cell_type": "code",
   "execution_count": 91,
   "id": "9dae252b",
   "metadata": {},
   "outputs": [
    {
     "name": "stdout",
     "output_type": "stream",
     "text": [
      "(10801, 52)\n"
     ]
    },
    {
     "data": {
      "text/html": [
       "<div>\n",
       "<style scoped>\n",
       "    .dataframe tbody tr th:only-of-type {\n",
       "        vertical-align: middle;\n",
       "    }\n",
       "\n",
       "    .dataframe tbody tr th {\n",
       "        vertical-align: top;\n",
       "    }\n",
       "\n",
       "    .dataframe thead th {\n",
       "        text-align: right;\n",
       "    }\n",
       "</style>\n",
       "<table border=\"1\" class=\"dataframe\">\n",
       "  <thead>\n",
       "    <tr style=\"text-align: right;\">\n",
       "      <th></th>\n",
       "      <th>id</th>\n",
       "      <th>host_response_time</th>\n",
       "      <th>host_response_rate</th>\n",
       "      <th>host_is_superhost</th>\n",
       "      <th>host_listings_count</th>\n",
       "      <th>host_identity_verified</th>\n",
       "      <th>neighbourhood</th>\n",
       "      <th>latitude</th>\n",
       "      <th>longitude</th>\n",
       "      <th>property_type</th>\n",
       "      <th>...</th>\n",
       "      <th>private_entrance</th>\n",
       "      <th>parking</th>\n",
       "      <th>kitchen</th>\n",
       "      <th>elevator</th>\n",
       "      <th>gym</th>\n",
       "      <th>time_since_first_review</th>\n",
       "      <th>time_since_last_review</th>\n",
       "      <th>avg_rating_overall</th>\n",
       "      <th>avg_rating_overall_cat</th>\n",
       "      <th>borough</th>\n",
       "    </tr>\n",
       "  </thead>\n",
       "  <tbody>\n",
       "    <tr>\n",
       "      <th>0</th>\n",
       "      <td>1419</td>\n",
       "      <td>unknown</td>\n",
       "      <td>unknown</td>\n",
       "      <td>0.0</td>\n",
       "      <td>1.0</td>\n",
       "      <td>1.0</td>\n",
       "      <td>Little Portugal</td>\n",
       "      <td>43.64590</td>\n",
       "      <td>-79.42423</td>\n",
       "      <td>House</td>\n",
       "      <td>...</td>\n",
       "      <td>0.0</td>\n",
       "      <td>0.0</td>\n",
       "      <td>1.0</td>\n",
       "      <td>0.0</td>\n",
       "      <td>0.0</td>\n",
       "      <td>4+ years</td>\n",
       "      <td>1+ year</td>\n",
       "      <td>5.000000</td>\n",
       "      <td>excellent</td>\n",
       "      <td>West Toronto</td>\n",
       "    </tr>\n",
       "    <tr>\n",
       "      <th>1</th>\n",
       "      <td>40456</td>\n",
       "      <td>within an hour</td>\n",
       "      <td>100%</td>\n",
       "      <td>1.0</td>\n",
       "      <td>3.0</td>\n",
       "      <td>1.0</td>\n",
       "      <td>South Parkdale</td>\n",
       "      <td>43.63539</td>\n",
       "      <td>-79.44010</td>\n",
       "      <td>House</td>\n",
       "      <td>...</td>\n",
       "      <td>1.0</td>\n",
       "      <td>1.0</td>\n",
       "      <td>1.0</td>\n",
       "      <td>0.0</td>\n",
       "      <td>0.0</td>\n",
       "      <td>4+ years</td>\n",
       "      <td>2-6 months</td>\n",
       "      <td>4.727143</td>\n",
       "      <td>excellent</td>\n",
       "      <td>West Toronto</td>\n",
       "    </tr>\n",
       "    <tr>\n",
       "      <th>2</th>\n",
       "      <td>43964</td>\n",
       "      <td>within an hour</td>\n",
       "      <td>100%</td>\n",
       "      <td>0.0</td>\n",
       "      <td>1.0</td>\n",
       "      <td>1.0</td>\n",
       "      <td>Wexford/Maryvale</td>\n",
       "      <td>43.74922</td>\n",
       "      <td>-79.29188</td>\n",
       "      <td>House</td>\n",
       "      <td>...</td>\n",
       "      <td>1.0</td>\n",
       "      <td>1.0</td>\n",
       "      <td>1.0</td>\n",
       "      <td>0.0</td>\n",
       "      <td>0.0</td>\n",
       "      <td>4+ years</td>\n",
       "      <td>2-8 weeks</td>\n",
       "      <td>4.948571</td>\n",
       "      <td>excellent</td>\n",
       "      <td>Scarborough</td>\n",
       "    </tr>\n",
       "    <tr>\n",
       "      <th>3</th>\n",
       "      <td>573892</td>\n",
       "      <td>within an hour</td>\n",
       "      <td>100%</td>\n",
       "      <td>0.0</td>\n",
       "      <td>6.0</td>\n",
       "      <td>1.0</td>\n",
       "      <td>Waterfront Communities-The Island</td>\n",
       "      <td>43.64278</td>\n",
       "      <td>-79.37985</td>\n",
       "      <td>Apartment</td>\n",
       "      <td>...</td>\n",
       "      <td>0.0</td>\n",
       "      <td>1.0</td>\n",
       "      <td>1.0</td>\n",
       "      <td>1.0</td>\n",
       "      <td>1.0</td>\n",
       "      <td>4+ years</td>\n",
       "      <td>2-8 weeks</td>\n",
       "      <td>4.845714</td>\n",
       "      <td>excellent</td>\n",
       "      <td>Downtown Toronto</td>\n",
       "    </tr>\n",
       "    <tr>\n",
       "      <th>4</th>\n",
       "      <td>579918</td>\n",
       "      <td>unknown</td>\n",
       "      <td>unknown</td>\n",
       "      <td>0.0</td>\n",
       "      <td>1.0</td>\n",
       "      <td>1.0</td>\n",
       "      <td>Niagara</td>\n",
       "      <td>43.63987</td>\n",
       "      <td>-79.42034</td>\n",
       "      <td>Apartment</td>\n",
       "      <td>...</td>\n",
       "      <td>0.0</td>\n",
       "      <td>1.0</td>\n",
       "      <td>1.0</td>\n",
       "      <td>1.0</td>\n",
       "      <td>1.0</td>\n",
       "      <td>4+ years</td>\n",
       "      <td>1+ year</td>\n",
       "      <td>4.778571</td>\n",
       "      <td>excellent</td>\n",
       "      <td>West Toronto</td>\n",
       "    </tr>\n",
       "  </tbody>\n",
       "</table>\n",
       "<p>5 rows × 52 columns</p>\n",
       "</div>"
      ],
      "text/plain": [
       "       id host_response_time host_response_rate  host_is_superhost  \\\n",
       "0    1419            unknown            unknown                0.0   \n",
       "1   40456     within an hour               100%                1.0   \n",
       "2   43964     within an hour               100%                0.0   \n",
       "3  573892     within an hour               100%                0.0   \n",
       "4  579918            unknown            unknown                0.0   \n",
       "\n",
       "   host_listings_count  host_identity_verified  \\\n",
       "0                  1.0                     1.0   \n",
       "1                  3.0                     1.0   \n",
       "2                  1.0                     1.0   \n",
       "3                  6.0                     1.0   \n",
       "4                  1.0                     1.0   \n",
       "\n",
       "                       neighbourhood  latitude  longitude property_type  ...  \\\n",
       "0                    Little Portugal  43.64590  -79.42423         House  ...   \n",
       "1                     South Parkdale  43.63539  -79.44010         House  ...   \n",
       "2                   Wexford/Maryvale  43.74922  -79.29188         House  ...   \n",
       "3  Waterfront Communities-The Island  43.64278  -79.37985     Apartment  ...   \n",
       "4                            Niagara  43.63987  -79.42034     Apartment  ...   \n",
       "\n",
       "  private_entrance  parking  kitchen  elevator  gym  time_since_first_review  \\\n",
       "0              0.0      0.0      1.0       0.0  0.0                 4+ years   \n",
       "1              1.0      1.0      1.0       0.0  0.0                 4+ years   \n",
       "2              1.0      1.0      1.0       0.0  0.0                 4+ years   \n",
       "3              0.0      1.0      1.0       1.0  1.0                 4+ years   \n",
       "4              0.0      1.0      1.0       1.0  1.0                 4+ years   \n",
       "\n",
       "   time_since_last_review  avg_rating_overall  avg_rating_overall_cat  \\\n",
       "0                 1+ year            5.000000               excellent   \n",
       "1              2-6 months            4.727143               excellent   \n",
       "2               2-8 weeks            4.948571               excellent   \n",
       "3               2-8 weeks            4.845714               excellent   \n",
       "4                 1+ year            4.778571               excellent   \n",
       "\n",
       "            borough  \n",
       "0      West Toronto  \n",
       "1      West Toronto  \n",
       "2       Scarborough  \n",
       "3  Downtown Toronto  \n",
       "4      West Toronto  \n",
       "\n",
       "[5 rows x 52 columns]"
      ]
     },
     "execution_count": 91,
     "metadata": {},
     "output_type": "execute_result"
    }
   ],
   "source": [
    "print(clean_df.shape)\n",
    "clean_df.head()"
   ]
  },
  {
   "cell_type": "code",
   "execution_count": 92,
   "id": "5bfa5912",
   "metadata": {},
   "outputs": [
    {
     "data": {
      "text/plain": [
       "'id int,host_response_time varchar,host_response_rate varchar,host_is_superhost float,host_listings_count float,host_identity_verified float,neighbourhood varchar,latitude float,longitude float,property_type varchar,room_type varchar,accommodates int,bedrooms float,beds float,price float,minimum_nights int,maximum_nights int,availability_90 int,number_of_reviews int,review_scores_rating float,review_scores_accuracy float,review_scores_cleanliness float,review_scores_checkin float,review_scores_communication float,review_scores_location float,review_scores_value float,instant_bookable int,host_active_days float,toiletries float,high_end_electronics float,ac_heater float,internet float,bbq float,home_appliances float,coffee_machine float,long_term_stays float,host_greeting float,safety float,outdoor_space float,hot_tub_sauna_or_pool float,room_features float,other_facilities float,private_entrance float,parking float,kitchen float,elevator float,gym float,time_since_first_review varchar,time_since_last_review varchar,avg_rating_overall float,avg_rating_overall_cat category,borough varchar'"
      ]
     },
     "execution_count": 92,
     "metadata": {},
     "output_type": "execute_result"
    }
   ],
   "source": [
    "# Replace the datatype for columns in dataframe\n",
    "col_str=\",\".join(\"{} {}\".format(n,d) for (n,d) in zip(clean_df.columns, clean_df.dtypes.replace(replacements)))\n",
    "col_str"
   ]
  },
  {
   "cell_type": "code",
   "execution_count": 93,
   "id": "b57a30e7",
   "metadata": {},
   "outputs": [],
   "source": [
    "#drop table neighbourhood with the same name\n",
    "cur.execute(\"DROP TABLE IF EXISTS summary\")"
   ]
  },
  {
   "cell_type": "code",
   "execution_count": 94,
   "id": "0826787a",
   "metadata": {},
   "outputs": [],
   "source": [
    "cur.execute(\"CREATE TABLE summary(\\\n",
    "    id varchar NOT NULL, \\\n",
    "    host_response_time varchar NOT NULL, \\\n",
    "    host_response_rate varchar NOT NULL, \\\n",
    "    host_is_superhost float NOT NULL, \\\n",
    "    host_listings_count float NOT NULL, \\\n",
    "    host_identity_verified float NOT NULL, \\\n",
    "    neighbourhood varchar NOT NULL, \\\n",
    "    latitude float  NOT NULL, \\\n",
    "    longitude float NOT NULL, \\\n",
    "    property_type varchar NOT NULL, \\\n",
    "    room_type varchar NOT NULL, \\\n",
    "    accommodates int  NOT NULL, \\\n",
    "    bedrooms float NOT NULL, \\\n",
    "    beds float NOT NULL, \\\n",
    "    price float NOT NULL, \\\n",
    "    minimum_nights int NOT NULL, \\\n",
    "    maximum_nights int NOT NULL, \\\n",
    "    availability_90 int NOT NULL, \\\n",
    "    number_of_reviews int  NOT NULL, \\\n",
    "    review_scores_rating float NOT NULL, \\\n",
    "    review_scores_accuracy float NOT NULL, \\\n",
    "    review_scores_cleanliness float NOT NULL, \\\n",
    "    review_scores_checkin float NOT NULL, \\\n",
    "    review_scores_communication float NOT NULL, \\\n",
    "    review_scores_location float NOT NULL, \\\n",
    "    review_scores_value float NOT NULL, \\\n",
    "    instant_bookable int NOT NULL, \\\n",
    "    host_active_days float NOT NULL, \\\n",
    "    toiletries float NOT NULL, \\\n",
    "    high_end_electronics float NOT NULL, \\\n",
    "    ac_heater float,internet float NOT NULL, \\\n",
    "    bbq float,home_appliances float NOT NULL, \\\n",
    "    coffee_machine float NOT NULL, \\\n",
    "    long_term_stays float NOT NULL, \\\n",
    "    host_greeting float NOT NULL, \\\n",
    "    safety float,outdoor_space float NOT NULL, \\\n",
    "    hot_tub_sauna_or_pool float NOT NULL, \\\n",
    "    room_features float NOT NULL, \\\n",
    "    other_facilities float NOT NULL, \\\n",
    "    private_entrance float NOT NULL, \\\n",
    "    parking float NOT NULL, \\\n",
    "    kitchen float,elevator float NOT NULL, \\\n",
    "    gym float NOT NULL, \\\n",
    "    time_since_first_review varchar NOT NULL, \\\n",
    "    time_since_last_review varchar NOT NULL, \\\n",
    "    avg_rating_overall float NOT NULL, \\\n",
    "    avg_rating_overall_cat varchar  NOT NULL, \\\n",
    "    borough varchar NOT NULL, \\\n",
    "PRIMARY KEY(id))\")"
   ]
  },
  {
   "cell_type": "code",
   "execution_count": 98,
   "id": "ce919995",
   "metadata": {},
   "outputs": [
    {
     "name": "stdout",
     "output_type": "stream",
     "text": [
      "file opened in memory\n"
     ]
    }
   ],
   "source": [
    "#Insert values into the table\n",
    "\n",
    "# save df to csv\n",
    "clean_df.to_csv('summary.csv', header=clean_df.columns, index=False, encoding='utf-8')\n",
    "\n",
    "# open the csv file, save it as an object, and upload to db\n",
    "my_file=open('summary.csv')\n",
    "print(\"file opened in memory\")"
   ]
  },
  {
   "cell_type": "code",
   "execution_count": 99,
   "id": "bf80d143",
   "metadata": {},
   "outputs": [
    {
     "name": "stdout",
     "output_type": "stream",
     "text": [
      "file copied to db\n"
     ]
    }
   ],
   "source": [
    "# #Upload to database\n",
    "SQL_STATEMENT= \"\"\"\n",
    " COPY summary FROM STDIN WITH\n",
    "     CSV\n",
    "     HEADER\n",
    "     DELIMITER AS ','\n",
    "\"\"\"\n",
    "\n",
    "cur.copy_expert(sql=SQL_STATEMENT, file=my_file)\n",
    "print('file copied to db')"
   ]
  },
  {
   "cell_type": "code",
   "execution_count": null,
   "id": "40cb1227",
   "metadata": {},
   "outputs": [],
   "source": []
  }
 ],
 "metadata": {
  "kernelspec": {
   "display_name": "mlenv",
   "language": "python",
   "name": "mlenv"
  },
  "language_info": {
   "codemirror_mode": {
    "name": "ipython",
    "version": 3
   },
   "file_extension": ".py",
   "mimetype": "text/x-python",
   "name": "python",
   "nbconvert_exporter": "python",
   "pygments_lexer": "ipython3",
   "version": "3.7.13"
  }
 },
 "nbformat": 4,
 "nbformat_minor": 5
}
