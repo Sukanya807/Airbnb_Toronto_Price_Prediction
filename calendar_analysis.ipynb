{
 "cells": [
  {
   "cell_type": "code",
   "execution_count": 31,
   "id": "14e62167",
   "metadata": {},
   "outputs": [],
   "source": [
    "# Import Libraries\n",
    "%matplotlib inline\n",
    "import s3fs\n",
    "import sys\n",
    "import pandas as pd\n",
    "import numpy as np\n",
    "import matplotlib.pyplot as plt\n",
    "import seaborn as sns\n",
    "import plotly.express as px\n",
    "from bs4 import BeautifulSoup\n",
    "import lxml\n",
    "import requests\n",
    "from selenium import webdriver\n",
    "import pandas as pd\n",
    "import urllib.request\n",
    "import geocoder\n",
    "import geopandas as gpd\n",
    "import geopy\n",
    "import psycopg2\n",
    "from psycopg2 import OperationalError, errorcodes, errors\n",
    "from io import StringIO\n",
    "import psycopg2.extras \n",
    "import sqlalchemy\n",
    "import os\n",
    "import time\n",
    "import memory_profiler\n",
    "from memory_profiler import memory_usage\n",
    "from config_user_dta import config\n",
    "from typing import Iterator, Optional, Dict, Any,List\n",
    "import io\n",
    "\n",
    "\n",
    "\n",
    "from sqlalchemy.orm import Session\n",
    "from sqlalchemy import create_engine, func\n",
    "from datetime import datetime\n",
    "from sklearn.model_selection import train_test_split\n",
    "from sklearn.preprocessing import StandardScaler\n",
    "from sklearn.linear_model import LinearRegression"
   ]
  },
  {
   "cell_type": "code",
   "execution_count": 32,
   "id": "754846f7",
   "metadata": {},
   "outputs": [
    {
     "data": {
      "text/html": [
       "<div>\n",
       "<style scoped>\n",
       "    .dataframe tbody tr th:only-of-type {\n",
       "        vertical-align: middle;\n",
       "    }\n",
       "\n",
       "    .dataframe tbody tr th {\n",
       "        vertical-align: top;\n",
       "    }\n",
       "\n",
       "    .dataframe thead th {\n",
       "        text-align: right;\n",
       "    }\n",
       "</style>\n",
       "<table border=\"1\" class=\"dataframe\">\n",
       "  <thead>\n",
       "    <tr style=\"text-align: right;\">\n",
       "      <th></th>\n",
       "      <th>listing_id</th>\n",
       "      <th>date</th>\n",
       "      <th>available</th>\n",
       "      <th>price</th>\n",
       "      <th>adjusted_price</th>\n",
       "      <th>minimum_nights</th>\n",
       "      <th>maximum_nights</th>\n",
       "    </tr>\n",
       "  </thead>\n",
       "  <tbody>\n",
       "    <tr>\n",
       "      <th>0</th>\n",
       "      <td>1419</td>\n",
       "      <td>2022-06-06</td>\n",
       "      <td>f</td>\n",
       "      <td>$469.00</td>\n",
       "      <td>$469.00</td>\n",
       "      <td>28.0</td>\n",
       "      <td>730.0</td>\n",
       "    </tr>\n",
       "    <tr>\n",
       "      <th>1</th>\n",
       "      <td>1419</td>\n",
       "      <td>2022-06-07</td>\n",
       "      <td>f</td>\n",
       "      <td>$469.00</td>\n",
       "      <td>$469.00</td>\n",
       "      <td>28.0</td>\n",
       "      <td>730.0</td>\n",
       "    </tr>\n",
       "    <tr>\n",
       "      <th>2</th>\n",
       "      <td>1419</td>\n",
       "      <td>2022-06-08</td>\n",
       "      <td>f</td>\n",
       "      <td>$469.00</td>\n",
       "      <td>$469.00</td>\n",
       "      <td>28.0</td>\n",
       "      <td>730.0</td>\n",
       "    </tr>\n",
       "    <tr>\n",
       "      <th>3</th>\n",
       "      <td>1419</td>\n",
       "      <td>2022-06-09</td>\n",
       "      <td>f</td>\n",
       "      <td>$469.00</td>\n",
       "      <td>$469.00</td>\n",
       "      <td>28.0</td>\n",
       "      <td>730.0</td>\n",
       "    </tr>\n",
       "    <tr>\n",
       "      <th>4</th>\n",
       "      <td>1419</td>\n",
       "      <td>2022-06-10</td>\n",
       "      <td>f</td>\n",
       "      <td>$469.00</td>\n",
       "      <td>$469.00</td>\n",
       "      <td>28.0</td>\n",
       "      <td>730.0</td>\n",
       "    </tr>\n",
       "  </tbody>\n",
       "</table>\n",
       "</div>"
      ],
      "text/plain": [
       "   listing_id        date available    price adjusted_price  minimum_nights  \\\n",
       "0        1419  2022-06-06         f  $469.00        $469.00            28.0   \n",
       "1        1419  2022-06-07         f  $469.00        $469.00            28.0   \n",
       "2        1419  2022-06-08         f  $469.00        $469.00            28.0   \n",
       "3        1419  2022-06-09         f  $469.00        $469.00            28.0   \n",
       "4        1419  2022-06-10         f  $469.00        $469.00            28.0   \n",
       "\n",
       "   maximum_nights  \n",
       "0           730.0  \n",
       "1           730.0  \n",
       "2           730.0  \n",
       "3           730.0  \n",
       "4           730.0  "
      ]
     },
     "execution_count": 32,
     "metadata": {},
     "output_type": "execute_result"
    }
   ],
   "source": [
    "#Read the file from AWS bucket\n",
    "calendar_df=pd.read_csv(\"s3://scy-uoft-group1-airbnb/calendar.csv.gz\", storage_options={\"anon\":True},)\n",
    "calendar_df.head()"
   ]
  },
  {
   "cell_type": "code",
   "execution_count": 33,
   "id": "45db3d50",
   "metadata": {},
   "outputs": [
    {
     "data": {
      "text/plain": [
       "listing_id        0\n",
       "date              0\n",
       "available         0\n",
       "price             2\n",
       "adjusted_price    2\n",
       "minimum_nights    2\n",
       "maximum_nights    2\n",
       "dtype: int64"
      ]
     },
     "execution_count": 33,
     "metadata": {},
     "output_type": "execute_result"
    }
   ],
   "source": [
    "#Show the null values\n",
    "calendar_df.isnull().sum()"
   ]
  },
  {
   "cell_type": "code",
   "execution_count": 34,
   "id": "0db6c505",
   "metadata": {},
   "outputs": [],
   "source": [
    "# Drop rows with nulls\n",
    "calendar_df.dropna(how=\"any\",inplace=True)"
   ]
  },
  {
   "cell_type": "code",
   "execution_count": 14,
   "id": "3b420846",
   "metadata": {},
   "outputs": [
    {
     "name": "stderr",
     "output_type": "stream",
     "text": [
      "C:\\Users\\SUKANYA GHOSH\\AppData\\Local\\Temp\\ipykernel_4752\\1877867407.py:1: FutureWarning: The default value of regex will change from True to False in a future version. In addition, single character regular expressions will *not* be treated as literal strings when regex=True.\n",
      "  calendar_df[\"price\"]=calendar_df[\"price\"].str.replace(\"$\",\"\").str.replace(\",\",\"\").astype(float)\n"
     ]
    }
   ],
   "source": [
    "#Format the price column\n",
    "calendar_df[\"price\"]=calendar_df[\"price\"].str.replace(\"$\",\"\").str.replace(\",\",\"\").astype(float)\n",
    "calendar_df[\"price\"]=calendar_df[\"price\"].map(\"{:.0f}\".format).astype(float)"
   ]
  },
  {
   "cell_type": "code",
   "execution_count": 15,
   "id": "049720cf",
   "metadata": {},
   "outputs": [],
   "source": [
    "#Format date column to extract weekday and month\n",
    "calendar_df['date']=pd.to_datetime(calendar_df.date)\n",
    "calendar_df['weekday'] =calendar_df['date'].dt.day_name()\n",
    "calendar_df['month'] =calendar_df['date'].dt.month_name()"
   ]
  },
  {
   "cell_type": "markdown",
   "id": "2fd38222",
   "metadata": {},
   "source": [
    "## EDA and Visualization"
   ]
  },
  {
   "cell_type": "code",
   "execution_count": 16,
   "id": "6b4e799a",
   "metadata": {},
   "outputs": [
    {
     "data": {
      "text/plain": [
       "Text(0.5, 1.0, 'Mean Price by Day of Week')"
      ]
     },
     "execution_count": 16,
     "metadata": {},
     "output_type": "execute_result"
    },
    {
     "data": {
      "image/png": "[encoded data removed]",
      "text/plain": [
       "<Figure size 1080x360 with 1 Axes>"
      ]
     },
     "metadata": {
      "needs_background": "light"
     },
     "output_type": "display_data"
    }
   ],
   "source": [
    "# Plot average price by day of week\n",
    "weekday_price=calendar_df.groupby([\"weekday\"]).mean()[\"price\"].sort_values(ascending=False)\n",
    "weekday_price.plot(kind=\"bar\", figsize=(15,5))\n",
    "plt.ylabel(\"Mean Price ($)\")\n",
    "plt.title(\"Mean Price by Day of Week\", fontsize=15)"
   ]
  },
  {
   "cell_type": "code",
   "execution_count": 17,
   "id": "103b4f22",
   "metadata": {},
   "outputs": [
    {
     "data": {
      "text/plain": [
       "Text(0.5, 1.0, 'Mean Price by Month')"
      ]
     },
     "execution_count": 17,
     "metadata": {},
     "output_type": "execute_result"
    },
    {
     "data": {
      "image/png": "[encoded data removed]",
      "text/plain": [
       "<Figure size 1080x360 with 1 Axes>"
      ]
     },
     "metadata": {
      "needs_background": "light"
     },
     "output_type": "display_data"
    }
   ],
   "source": [
    "#Plot average price by month\n",
    "month_price=calendar_df.groupby([\"month\"]).mean()[\"price\"].sort_values(ascending=False)\n",
    "month_price.plot(kind=\"bar\", figsize=(15,5))\n",
    "plt.ylabel(\"Mean Price ($)\")\n",
    "plt.title(\"Mean Price by Month\", fontsize=15)"
   ]
  },
  {
   "cell_type": "code",
   "execution_count": 18,
   "id": "511b3701",
   "metadata": {},
   "outputs": [],
   "source": [
    "# Copy the clean data\n",
    "clean_calendar_df=calendar_df.copy()"
   ]
  },
  {
   "cell_type": "code",
   "execution_count": 19,
   "id": "b913f267",
   "metadata": {},
   "outputs": [],
   "source": [
    "# Remove unwanted columns\n",
    "clean_calendar_df.drop(columns=[\"adjusted_price\",\"minimum_nights\",\"maximum_nights\"], inplace=True)"
   ]
  },
  {
   "cell_type": "code",
   "execution_count": 20,
   "id": "fedd1e8a",
   "metadata": {},
   "outputs": [
    {
     "data": {
      "text/html": [
       "<div>\n",
       "<style scoped>\n",
       "    .dataframe tbody tr th:only-of-type {\n",
       "        vertical-align: middle;\n",
       "    }\n",
       "\n",
       "    .dataframe tbody tr th {\n",
       "        vertical-align: top;\n",
       "    }\n",
       "\n",
       "    .dataframe thead th {\n",
       "        text-align: right;\n",
       "    }\n",
       "</style>\n",
       "<table border=\"1\" class=\"dataframe\">\n",
       "  <thead>\n",
       "    <tr style=\"text-align: right;\">\n",
       "      <th></th>\n",
       "      <th>listing_id</th>\n",
       "      <th>date</th>\n",
       "      <th>available</th>\n",
       "      <th>price</th>\n",
       "      <th>weekday</th>\n",
       "      <th>month</th>\n",
       "    </tr>\n",
       "  </thead>\n",
       "  <tbody>\n",
       "    <tr>\n",
       "      <th>0</th>\n",
       "      <td>1419</td>\n",
       "      <td>2022-06-06</td>\n",
       "      <td>f</td>\n",
       "      <td>469.0</td>\n",
       "      <td>Monday</td>\n",
       "      <td>June</td>\n",
       "    </tr>\n",
       "    <tr>\n",
       "      <th>1</th>\n",
       "      <td>1419</td>\n",
       "      <td>2022-06-07</td>\n",
       "      <td>f</td>\n",
       "      <td>469.0</td>\n",
       "      <td>Tuesday</td>\n",
       "      <td>June</td>\n",
       "    </tr>\n",
       "    <tr>\n",
       "      <th>2</th>\n",
       "      <td>1419</td>\n",
       "      <td>2022-06-08</td>\n",
       "      <td>f</td>\n",
       "      <td>469.0</td>\n",
       "      <td>Wednesday</td>\n",
       "      <td>June</td>\n",
       "    </tr>\n",
       "    <tr>\n",
       "      <th>3</th>\n",
       "      <td>1419</td>\n",
       "      <td>2022-06-09</td>\n",
       "      <td>f</td>\n",
       "      <td>469.0</td>\n",
       "      <td>Thursday</td>\n",
       "      <td>June</td>\n",
       "    </tr>\n",
       "    <tr>\n",
       "      <th>4</th>\n",
       "      <td>1419</td>\n",
       "      <td>2022-06-10</td>\n",
       "      <td>f</td>\n",
       "      <td>469.0</td>\n",
       "      <td>Friday</td>\n",
       "      <td>June</td>\n",
       "    </tr>\n",
       "  </tbody>\n",
       "</table>\n",
       "</div>"
      ],
      "text/plain": [
       "   listing_id       date available  price    weekday month\n",
       "0        1419 2022-06-06         f  469.0     Monday  June\n",
       "1        1419 2022-06-07         f  469.0    Tuesday  June\n",
       "2        1419 2022-06-08         f  469.0  Wednesday  June\n",
       "3        1419 2022-06-09         f  469.0   Thursday  June\n",
       "4        1419 2022-06-10         f  469.0     Friday  June"
      ]
     },
     "execution_count": 20,
     "metadata": {},
     "output_type": "execute_result"
    }
   ],
   "source": [
    "#Show dataframe\n",
    "clean_calendar_df.head()"
   ]
  },
  {
   "cell_type": "code",
   "execution_count": 21,
   "id": "6a8461fe",
   "metadata": {},
   "outputs": [],
   "source": [
    "#Format the listings id column for importing in PostgreSQL\n",
    "clean_calendar_df[\"listing_id\"]=clean_calendar_df[\"listing_id\"].astype(str)"
   ]
  },
  {
   "cell_type": "code",
   "execution_count": 22,
   "id": "6f2faefb",
   "metadata": {},
   "outputs": [
    {
     "data": {
      "text/plain": [
       "{'object': 'varchar',\n",
       " 'float64': 'float',\n",
       " 'int64': 'int',\n",
       " 'datetime64[ns]': 'timestamp',\n",
       " 'timedelta64[ns]': 'varchar'}"
      ]
     },
     "execution_count": 22,
     "metadata": {},
     "output_type": "execute_result"
    }
   ],
   "source": [
    "# Prepare the datatypes for database\n",
    "replacements={\n",
    "    \"object\": \"varchar\",\n",
    "    \"float64\": \"float\",\n",
    "    \"int64\": \"int\",\n",
    "    \"datetime64[ns]\": \"timestamp\",\n",
    "    'timedelta64[ns]': \"varchar\"\n",
    "}\n",
    "\n",
    "replacements"
   ]
  },
  {
   "cell_type": "code",
   "execution_count": 23,
   "id": "391ef9e0",
   "metadata": {},
   "outputs": [
    {
     "data": {
      "text/plain": [
       "'listing_id varchar,date timestamp,available varchar,price float,weekday varchar,month varchar'"
      ]
     },
     "execution_count": 23,
     "metadata": {},
     "output_type": "execute_result"
    }
   ],
   "source": [
    "# Replace the datatype for columns in dataframe\n",
    "col_str=\",\".join(\"{} {}\".format(n,d) for (n,d) in zip(clean_calendar_df.columns, clean_calendar_df.dtypes.replace(replacements)))\n",
    "col_str"
   ]
  },
  {
   "cell_type": "markdown",
   "id": "957b41c6",
   "metadata": {},
   "source": [
    "## Insert Data into Database"
   ]
  },
  {
   "cell_type": "code",
   "execution_count": 24,
   "id": "79955781",
   "metadata": {},
   "outputs": [
    {
     "name": "stdout",
     "output_type": "stream",
     "text": [
      "opened database successfully\n"
     ]
    }
   ],
   "source": [
    "# Get the config params\n",
    "params_ = config()\n",
    "\n",
    "# Connect to the Postgres_DB:\n",
    "conn = psycopg2.connect(**params_)\n",
    "\n",
    "# Create new_cursor allowing us to write Python to execute PSQL:\n",
    "cur = conn.cursor()\n",
    "\n",
    "conn.autocommit = True  # read documentation understanding when to Use & NOT use (TRUE)\n",
    "print(\"opened database successfully\")"
   ]
  },
  {
   "cell_type": "code",
   "execution_count": 25,
   "id": "08a38dca",
   "metadata": {},
   "outputs": [],
   "source": [
    "#drop tables with the same name\n",
    "cur.execute(\"drop table if exists clean_calendar;\")"
   ]
  },
  {
   "cell_type": "code",
   "execution_count": 26,
   "id": "0d4ecb4b",
   "metadata": {},
   "outputs": [],
   "source": [
    "#create table\n",
    "cur.execute(\"create table calendar_clean\\\n",
    "(listing_id varchar,date timestamp,available varchar,price float,weekday varchar,month varchar)\")"
   ]
  },
  {
   "cell_type": "code",
   "execution_count": 27,
   "id": "4355725a",
   "metadata": {},
   "outputs": [
    {
     "name": "stdout",
     "output_type": "stream",
     "text": [
      "file opened in memory\n"
     ]
    }
   ],
   "source": [
    "#Insert values into the table\n",
    "\n",
    "#save df to csv\n",
    "clean_calendar_df.to_csv('clean_calendar.csv', header=clean_calendar_df.columns, index=False, encoding='utf-8')\n",
    "\n",
    "#open the csv file, save it as an object, and upload to db\n",
    "my_file=open('clean_calendar.csv')\n",
    "print(\"file opened in memory\")"
   ]
  },
  {
   "cell_type": "code",
   "execution_count": 28,
   "id": "2b8e0e36",
   "metadata": {},
   "outputs": [
    {
     "name": "stdout",
     "output_type": "stream",
     "text": [
      "file copied to db\n"
     ]
    }
   ],
   "source": [
    "#Upload to database\n",
    "SQL_STATEMENT= \"\"\"\n",
    "COPY calendar_clean FROM STDIN WITH\n",
    "    CSV\n",
    "    HEADER\n",
    "    DELIMITER AS ','\n",
    "\"\"\"\n",
    "\n",
    "cur.copy_expert(sql=SQL_STATEMENT, file=my_file)\n",
    "print('file copied to db')"
   ]
  }
 ],
 "metadata": {
  "kernelspec": {
   "display_name": "geo_env",
   "language": "python",
   "name": "geo_env"
  },
  "language_info": {
   "codemirror_mode": {
    "name": "ipython",
    "version": 3
   },
   "file_extension": ".py",
   "mimetype": "text/x-python",
   "name": "python",
   "nbconvert_exporter": "python",
   "pygments_lexer": "ipython3",
   "version": "3.10.5"
  }
 },
 "nbformat": 4,
 "nbformat_minor": 5
}
